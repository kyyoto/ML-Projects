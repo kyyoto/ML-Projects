{
  "nbformat": 4,
  "nbformat_minor": 0,
  "metadata": {
    "colab": {
      "provenance": []
    },
    "kernelspec": {
      "name": "python3",
      "display_name": "Python 3"
    },
    "language_info": {
      "name": "python"
    }
  },
  "cells": [
    {
      "cell_type": "markdown",
      "source": [
        "Загрузите и прочитайте в pandas приложенный датасет. Обратите внимание, что датасет собран «криво», поэтому прежде чем он «правильно» загрузится (рис.1), необходимо его обработать.\n",
        "---"
      ],
      "metadata": {
        "id": "LroWvQKRqAMJ"
      }
    },
    {
      "cell_type": "code",
      "execution_count": null,
      "metadata": {
        "id": "O0rBZ9sCgm9c"
      },
      "outputs": [],
      "source": [
        "import pandas as pd"
      ]
    },
    {
      "cell_type": "code",
      "source": [
        "df = pd.read_csv('/content/drive/MyDrive/Data for ML projects/cars_sampled.csv', parse_dates=['dateCrawled', 'dateCreated', 'lastSeen'])"
      ],
      "metadata": {
        "id": "2GpwGEPmgrUe"
      },
      "execution_count": null,
      "outputs": []
    },
    {
      "cell_type": "code",
      "source": [
        "df.head(2)"
      ],
      "metadata": {
        "id": "NAF072FQirue",
        "colab": {
          "base_uri": "https://localhost:8080/",
          "height": 245
        },
        "outputId": "dd111840-2057-4860-e381-7220a75871f9"
      },
      "execution_count": null,
      "outputs": [
        {
          "output_type": "execute_result",
          "data": {
            "text/plain": [
              "          dateCrawled                    name   seller offerType  price  \\\n",
              "0 2016-03-30 13:51:00            Zu_verkaufen  private     offer   4450   \n",
              "1 2016-07-03 09:54:00  Volvo_XC90_2.4D_Summum  private     offer  13299   \n",
              "\n",
              "    abtest vehicleType  yearOfRegistration gearbox  powerPS     model  \\\n",
              "0     test   limousine                2003  manual      150       3er   \n",
              "1  control         suv                2005  manual      163  xc_reihe   \n",
              "\n",
              "   kilometer  monthOfRegistration fuelType  brand notRepairedDamage  \\\n",
              "0     150000                    3   diesel    bmw               NaN   \n",
              "1     150000                    6   diesel  volvo                no   \n",
              "\n",
              "  dateCreated  postalCode            lastSeen  \n",
              "0  2016-03-30       20257 2016-07-04 04:44:00  \n",
              "1  2016-07-03       88045 2016-03-26 13:17:00  "
            ],
            "text/html": [
              "\n",
              "  <div id=\"df-0c627fb7-5adc-4562-abac-6d91ef34c597\">\n",
              "    <div class=\"colab-df-container\">\n",
              "      <div>\n",
              "<style scoped>\n",
              "    .dataframe tbody tr th:only-of-type {\n",
              "        vertical-align: middle;\n",
              "    }\n",
              "\n",
              "    .dataframe tbody tr th {\n",
              "        vertical-align: top;\n",
              "    }\n",
              "\n",
              "    .dataframe thead th {\n",
              "        text-align: right;\n",
              "    }\n",
              "</style>\n",
              "<table border=\"1\" class=\"dataframe\">\n",
              "  <thead>\n",
              "    <tr style=\"text-align: right;\">\n",
              "      <th></th>\n",
              "      <th>dateCrawled</th>\n",
              "      <th>name</th>\n",
              "      <th>seller</th>\n",
              "      <th>offerType</th>\n",
              "      <th>price</th>\n",
              "      <th>abtest</th>\n",
              "      <th>vehicleType</th>\n",
              "      <th>yearOfRegistration</th>\n",
              "      <th>gearbox</th>\n",
              "      <th>powerPS</th>\n",
              "      <th>model</th>\n",
              "      <th>kilometer</th>\n",
              "      <th>monthOfRegistration</th>\n",
              "      <th>fuelType</th>\n",
              "      <th>brand</th>\n",
              "      <th>notRepairedDamage</th>\n",
              "      <th>dateCreated</th>\n",
              "      <th>postalCode</th>\n",
              "      <th>lastSeen</th>\n",
              "    </tr>\n",
              "  </thead>\n",
              "  <tbody>\n",
              "    <tr>\n",
              "      <th>0</th>\n",
              "      <td>2016-03-30 13:51:00</td>\n",
              "      <td>Zu_verkaufen</td>\n",
              "      <td>private</td>\n",
              "      <td>offer</td>\n",
              "      <td>4450</td>\n",
              "      <td>test</td>\n",
              "      <td>limousine</td>\n",
              "      <td>2003</td>\n",
              "      <td>manual</td>\n",
              "      <td>150</td>\n",
              "      <td>3er</td>\n",
              "      <td>150000</td>\n",
              "      <td>3</td>\n",
              "      <td>diesel</td>\n",
              "      <td>bmw</td>\n",
              "      <td>NaN</td>\n",
              "      <td>2016-03-30</td>\n",
              "      <td>20257</td>\n",
              "      <td>2016-07-04 04:44:00</td>\n",
              "    </tr>\n",
              "    <tr>\n",
              "      <th>1</th>\n",
              "      <td>2016-07-03 09:54:00</td>\n",
              "      <td>Volvo_XC90_2.4D_Summum</td>\n",
              "      <td>private</td>\n",
              "      <td>offer</td>\n",
              "      <td>13299</td>\n",
              "      <td>control</td>\n",
              "      <td>suv</td>\n",
              "      <td>2005</td>\n",
              "      <td>manual</td>\n",
              "      <td>163</td>\n",
              "      <td>xc_reihe</td>\n",
              "      <td>150000</td>\n",
              "      <td>6</td>\n",
              "      <td>diesel</td>\n",
              "      <td>volvo</td>\n",
              "      <td>no</td>\n",
              "      <td>2016-07-03</td>\n",
              "      <td>88045</td>\n",
              "      <td>2016-03-26 13:17:00</td>\n",
              "    </tr>\n",
              "  </tbody>\n",
              "</table>\n",
              "</div>\n",
              "      <button class=\"colab-df-convert\" onclick=\"convertToInteractive('df-0c627fb7-5adc-4562-abac-6d91ef34c597')\"\n",
              "              title=\"Convert this dataframe to an interactive table.\"\n",
              "              style=\"display:none;\">\n",
              "        \n",
              "  <svg xmlns=\"http://www.w3.org/2000/svg\" height=\"24px\"viewBox=\"0 0 24 24\"\n",
              "       width=\"24px\">\n",
              "    <path d=\"M0 0h24v24H0V0z\" fill=\"none\"/>\n",
              "    <path d=\"M18.56 5.44l.94 2.06.94-2.06 2.06-.94-2.06-.94-.94-2.06-.94 2.06-2.06.94zm-11 1L8.5 8.5l.94-2.06 2.06-.94-2.06-.94L8.5 2.5l-.94 2.06-2.06.94zm10 10l.94 2.06.94-2.06 2.06-.94-2.06-.94-.94-2.06-.94 2.06-2.06.94z\"/><path d=\"M17.41 7.96l-1.37-1.37c-.4-.4-.92-.59-1.43-.59-.52 0-1.04.2-1.43.59L10.3 9.45l-7.72 7.72c-.78.78-.78 2.05 0 2.83L4 21.41c.39.39.9.59 1.41.59.51 0 1.02-.2 1.41-.59l7.78-7.78 2.81-2.81c.8-.78.8-2.07 0-2.86zM5.41 20L4 18.59l7.72-7.72 1.47 1.35L5.41 20z\"/>\n",
              "  </svg>\n",
              "      </button>\n",
              "      \n",
              "  <style>\n",
              "    .colab-df-container {\n",
              "      display:flex;\n",
              "      flex-wrap:wrap;\n",
              "      gap: 12px;\n",
              "    }\n",
              "\n",
              "    .colab-df-convert {\n",
              "      background-color: #E8F0FE;\n",
              "      border: none;\n",
              "      border-radius: 50%;\n",
              "      cursor: pointer;\n",
              "      display: none;\n",
              "      fill: #1967D2;\n",
              "      height: 32px;\n",
              "      padding: 0 0 0 0;\n",
              "      width: 32px;\n",
              "    }\n",
              "\n",
              "    .colab-df-convert:hover {\n",
              "      background-color: #E2EBFA;\n",
              "      box-shadow: 0px 1px 2px rgba(60, 64, 67, 0.3), 0px 1px 3px 1px rgba(60, 64, 67, 0.15);\n",
              "      fill: #174EA6;\n",
              "    }\n",
              "\n",
              "    [theme=dark] .colab-df-convert {\n",
              "      background-color: #3B4455;\n",
              "      fill: #D2E3FC;\n",
              "    }\n",
              "\n",
              "    [theme=dark] .colab-df-convert:hover {\n",
              "      background-color: #434B5C;\n",
              "      box-shadow: 0px 1px 3px 1px rgba(0, 0, 0, 0.15);\n",
              "      filter: drop-shadow(0px 1px 2px rgba(0, 0, 0, 0.3));\n",
              "      fill: #FFFFFF;\n",
              "    }\n",
              "  </style>\n",
              "\n",
              "      <script>\n",
              "        const buttonEl =\n",
              "          document.querySelector('#df-0c627fb7-5adc-4562-abac-6d91ef34c597 button.colab-df-convert');\n",
              "        buttonEl.style.display =\n",
              "          google.colab.kernel.accessAllowed ? 'block' : 'none';\n",
              "\n",
              "        async function convertToInteractive(key) {\n",
              "          const element = document.querySelector('#df-0c627fb7-5adc-4562-abac-6d91ef34c597');\n",
              "          const dataTable =\n",
              "            await google.colab.kernel.invokeFunction('convertToInteractive',\n",
              "                                                     [key], {});\n",
              "          if (!dataTable) return;\n",
              "\n",
              "          const docLinkHtml = 'Like what you see? Visit the ' +\n",
              "            '<a target=\"_blank\" href=https://colab.research.google.com/notebooks/data_table.ipynb>data table notebook</a>'\n",
              "            + ' to learn more about interactive tables.';\n",
              "          element.innerHTML = '';\n",
              "          dataTable['output_type'] = 'display_data';\n",
              "          await google.colab.output.renderOutput(dataTable, element);\n",
              "          const docLink = document.createElement('div');\n",
              "          docLink.innerHTML = docLinkHtml;\n",
              "          element.appendChild(docLink);\n",
              "        }\n",
              "      </script>\n",
              "    </div>\n",
              "  </div>\n",
              "  "
            ]
          },
          "metadata": {},
          "execution_count": 87
        }
      ]
    },
    {
      "cell_type": "markdown",
      "source": [
        "Сделайте описательную статистику: размер, типы переменных, пустые значения, уникальные имена и т.д.\n",
        "---"
      ],
      "metadata": {
        "id": "RBQTQ6Rvdhrl"
      }
    },
    {
      "cell_type": "code",
      "source": [
        "df.shape"
      ],
      "metadata": {
        "id": "X-iH5cJqWzeC",
        "colab": {
          "base_uri": "https://localhost:8080/"
        },
        "outputId": "87b3d87d-b79c-4d4c-fce4-90f9894f6078"
      },
      "execution_count": null,
      "outputs": [
        {
          "output_type": "execute_result",
          "data": {
            "text/plain": [
              "(50001, 19)"
            ]
          },
          "metadata": {},
          "execution_count": 88
        }
      ]
    },
    {
      "cell_type": "code",
      "source": [
        "df.info(verbose=True)"
      ],
      "metadata": {
        "id": "6LogRIsehF5k",
        "colab": {
          "base_uri": "https://localhost:8080/"
        },
        "outputId": "4679897c-f49a-452e-f7e6-e58ecfe1ceb9"
      },
      "execution_count": null,
      "outputs": [
        {
          "output_type": "stream",
          "name": "stdout",
          "text": [
            "<class 'pandas.core.frame.DataFrame'>\n",
            "RangeIndex: 50001 entries, 0 to 50000\n",
            "Data columns (total 19 columns):\n",
            " #   Column               Non-Null Count  Dtype         \n",
            "---  ------               --------------  -----         \n",
            " 0   dateCrawled          50001 non-null  datetime64[ns]\n",
            " 1   name                 50001 non-null  object        \n",
            " 2   seller               50001 non-null  object        \n",
            " 3   offerType            50001 non-null  object        \n",
            " 4   price                50001 non-null  int64         \n",
            " 5   abtest               50001 non-null  object        \n",
            " 6   vehicleType          44813 non-null  object        \n",
            " 7   yearOfRegistration   50001 non-null  int64         \n",
            " 8   gearbox              47177 non-null  object        \n",
            " 9   powerPS              50001 non-null  int64         \n",
            " 10  model                47243 non-null  object        \n",
            " 11  kilometer            50001 non-null  int64         \n",
            " 12  monthOfRegistration  50001 non-null  int64         \n",
            " 13  fuelType             45498 non-null  object        \n",
            " 14  brand                50001 non-null  object        \n",
            " 15  notRepairedDamage    40285 non-null  object        \n",
            " 16  dateCreated          50001 non-null  datetime64[ns]\n",
            " 17  postalCode           50001 non-null  int64         \n",
            " 18  lastSeen             50001 non-null  datetime64[ns]\n",
            "dtypes: datetime64[ns](3), int64(6), object(10)\n",
            "memory usage: 7.2+ MB\n"
          ]
        }
      ]
    },
    {
      "cell_type": "markdown",
      "source": [
        "Поработайте с типами переменных. Все числовые значения переведите в формат int.\n",
        "---\n",
        "They already have right types"
      ],
      "metadata": {
        "id": "PiQyAq8mdmt-"
      }
    },
    {
      "cell_type": "code",
      "source": [
        "for col in df.columns:\n",
        "  print('\\n',col)\n",
        "  print(df[col].unique()[:5])\n",
        "  print(df[col].dtypes)"
      ],
      "metadata": {
        "id": "c06oFM_ki7DS",
        "colab": {
          "base_uri": "https://localhost:8080/"
        },
        "outputId": "7a53c72f-7de8-443b-b647-54b32a839232"
      },
      "execution_count": null,
      "outputs": [
        {
          "output_type": "stream",
          "name": "stdout",
          "text": [
            "\n",
            " dateCrawled\n",
            "['2016-03-30T13:51:00.000000000' '2016-07-03T09:54:00.000000000'\n",
            " '2016-01-04T00:57:00.000000000' '2016-03-19T17:50:00.000000000'\n",
            " '2016-03-16T14:51:00.000000000']\n",
            "datetime64[ns]\n",
            "\n",
            " name\n",
            "['Zu_verkaufen' 'Volvo_XC90_2.4D_Summum' 'Volkswagen_Touran'\n",
            " 'Seat_Ibiza_1.4_16V_Reference'\n",
            " 'Volvo_XC90_D5_Aut._RDesign_R_Design_AWD_GSHD_Sitzhzg.']\n",
            "object\n",
            "\n",
            " seller\n",
            "['private' 'commercial']\n",
            "object\n",
            "\n",
            " offerType\n",
            "['offer' 'request']\n",
            "object\n",
            "\n",
            " price\n",
            "[ 4450 13299  3200  4500 18750]\n",
            "int64\n",
            "\n",
            " abtest\n",
            "['test' 'control']\n",
            "object\n",
            "\n",
            " vehicleType\n",
            "['limousine' 'suv' 'bus' 'small car' 'station wagon']\n",
            "object\n",
            "\n",
            " yearOfRegistration\n",
            "[2003 2005 2006 2008 1995]\n",
            "int64\n",
            "\n",
            " gearbox\n",
            "['manual' 'automatic' nan]\n",
            "object\n",
            "\n",
            " powerPS\n",
            "[150 163 101  86 185]\n",
            "int64\n",
            "\n",
            " model\n",
            "['3er' 'xc_reihe' 'touran' 'ibiza' 'passat']\n",
            "object\n",
            "\n",
            " kilometer\n",
            "[150000  60000 125000   5000  50000]\n",
            "int64\n",
            "\n",
            " monthOfRegistration\n",
            "[ 3  6 11 12  2]\n",
            "int64\n",
            "\n",
            " fuelType\n",
            "['diesel' 'petrol' nan 'cng' 'lpg']\n",
            "object\n",
            "\n",
            " brand\n",
            "['bmw' 'volvo' 'volkswagen' 'seat' 'opel']\n",
            "object\n",
            "\n",
            " notRepairedDamage\n",
            "[nan 'no' 'yes']\n",
            "object\n",
            "\n",
            " dateCreated\n",
            "['2016-03-30T00:00:00.000000000' '2016-07-03T00:00:00.000000000'\n",
            " '2016-03-31T00:00:00.000000000' '2016-03-19T00:00:00.000000000'\n",
            " '2016-03-16T00:00:00.000000000']\n",
            "datetime64[ns]\n",
            "\n",
            " postalCode\n",
            "[20257 88045 27449 34537 55270]\n",
            "int64\n",
            "\n",
            " lastSeen\n",
            "['2016-07-04T04:44:00.000000000' '2016-03-26T13:17:00.000000000'\n",
            " '2016-01-04T08:40:00.000000000' '2016-01-04T23:18:00.000000000'\n",
            " '2016-02-04T12:51:00.000000000']\n",
            "datetime64[ns]\n"
          ]
        }
      ]
    },
    {
      "cell_type": "markdown",
      "source": [
        "Поработайте со столбцом price. Постройте гистограмму, найдите выбросы (ящиковая диаграмма), удалите аномальные значения, постарайтесь привести к нормальному распределению.\n",
        "---"
      ],
      "metadata": {
        "id": "H55NZJMGdyNA"
      }
    },
    {
      "cell_type": "code",
      "source": [
        "import matplotlib.pyplot as plt\n",
        "import seaborn as sns"
      ],
      "metadata": {
        "id": "YqVJ5wwYoz-x"
      },
      "execution_count": null,
      "outputs": []
    },
    {
      "cell_type": "markdown",
      "source": [
        "Price column preprocessing"
      ],
      "metadata": {
        "id": "fUdOcGHwFKd2"
      }
    },
    {
      "cell_type": "code",
      "source": [
        "df.price.hist(bins=12)"
      ],
      "metadata": {
        "id": "yW6MJDN0eitr",
        "colab": {
          "base_uri": "https://localhost:8080/",
          "height": 295
        },
        "outputId": "e226dec0-6d54-404d-add9-6c111513c317"
      },
      "execution_count": null,
      "outputs": [
        {
          "output_type": "execute_result",
          "data": {
            "text/plain": [
              "<matplotlib.axes._subplots.AxesSubplot at 0x7f870edf2c90>"
            ]
          },
          "metadata": {},
          "execution_count": 92
        },
        {
          "output_type": "display_data",
          "data": {
            "text/plain": [
              "<Figure size 432x288 with 1 Axes>"
            ],
            "image/png": "[encoded data removed]"
          },
          "metadata": {
            "needs_background": "light"
          }
        }
      ]
    },
    {
      "cell_type": "code",
      "source": [
        "df.price.plot()"
      ],
      "metadata": {
        "id": "c5RoQEKViGz5",
        "colab": {
          "base_uri": "https://localhost:8080/",
          "height": 293
        },
        "outputId": "65d55491-2b58-4b76-90d5-4bc7e6a70e9d"
      },
      "execution_count": null,
      "outputs": [
        {
          "output_type": "execute_result",
          "data": {
            "text/plain": [
              "<matplotlib.axes._subplots.AxesSubplot at 0x7f8710bd7890>"
            ]
          },
          "metadata": {},
          "execution_count": 93
        },
        {
          "output_type": "display_data",
          "data": {
            "text/plain": [
              "<Figure size 432x288 with 1 Axes>"
            ],
            "image/png": "[encoded data removed]"
          },
          "metadata": {
            "needs_background": "light"
          }
        }
      ]
    },
    {
      "cell_type": "code",
      "source": [
        "sns.catplot(\n",
        "    y='price', \n",
        "    data=df,\n",
        "    palette='bright',\n",
        "    kind = 'box'\n",
        ")"
      ],
      "metadata": {
        "id": "LRdFgmZxfESP",
        "colab": {
          "base_uri": "https://localhost:8080/",
          "height": 386
        },
        "outputId": "be03df20-7eb3-41d7-cede-01e8986e0ae8"
      },
      "execution_count": null,
      "outputs": [
        {
          "output_type": "execute_result",
          "data": {
            "text/plain": [
              "<seaborn.axisgrid.FacetGrid at 0x7f8710590ed0>"
            ]
          },
          "metadata": {},
          "execution_count": 94
        },
        {
          "output_type": "display_data",
          "data": {
            "text/plain": [
              "<Figure size 360x360 with 1 Axes>"
            ],
            "image/png": "[encoded data removed]"
          },
          "metadata": {
            "needs_background": "light"
          }
        }
      ]
    },
    {
      "cell_type": "code",
      "source": [
        "df = df[df.price < df.price.quantile(0.95)]"
      ],
      "metadata": {
        "id": "WLWPw4SQi2Jk"
      },
      "execution_count": null,
      "outputs": []
    },
    {
      "cell_type": "code",
      "source": [
        "df.price.hist()"
      ],
      "metadata": {
        "id": "k88ZwGiXkkMM",
        "colab": {
          "base_uri": "https://localhost:8080/",
          "height": 284
        },
        "outputId": "89b4b575-6962-4e55-9efb-2abdf8559f3b"
      },
      "execution_count": null,
      "outputs": [
        {
          "output_type": "execute_result",
          "data": {
            "text/plain": [
              "<matplotlib.axes._subplots.AxesSubplot at 0x7f87105a2e10>"
            ]
          },
          "metadata": {},
          "execution_count": 96
        },
        {
          "output_type": "display_data",
          "data": {
            "text/plain": [
              "<Figure size 432x288 with 1 Axes>"
            ],
            "image/png": "[encoded data removed]"
          },
          "metadata": {
            "needs_background": "light"
          }
        }
      ]
    },
    {
      "cell_type": "code",
      "source": [
        "sns.catplot(\n",
        "    y='price', \n",
        "    data=df,\n",
        "    palette='bright',\n",
        "    kind = 'box'\n",
        ")"
      ],
      "metadata": {
        "id": "KCY8pQ9kkoBv",
        "colab": {
          "base_uri": "https://localhost:8080/",
          "height": 386
        },
        "outputId": "604e9264-aed4-4fad-a939-5f5bcd87bbf4"
      },
      "execution_count": null,
      "outputs": [
        {
          "output_type": "execute_result",
          "data": {
            "text/plain": [
              "<seaborn.axisgrid.FacetGrid at 0x7f87105c1a50>"
            ]
          },
          "metadata": {},
          "execution_count": 97
        },
        {
          "output_type": "display_data",
          "data": {
            "text/plain": [
              "<Figure size 360x360 with 1 Axes>"
            ],
            "image/png": "[encoded data removed]"
          },
          "metadata": {
            "needs_background": "light"
          }
        }
      ]
    },
    {
      "cell_type": "code",
      "source": [
        "df.price.replace(0, df.price.mean(), inplace=True)\n",
        "None"
      ],
      "metadata": {
        "colab": {
          "base_uri": "https://localhost:8080/"
        },
        "id": "-ZgGPWC8-GZi",
        "outputId": "914d323a-147e-4a13-a8fe-e243ce7fc019"
      },
      "execution_count": null,
      "outputs": [
        {
          "output_type": "stream",
          "name": "stderr",
          "text": [
            "/usr/local/lib/python3.7/dist-packages/pandas/core/generic.py:6619: SettingWithCopyWarning: \n",
            "A value is trying to be set on a copy of a slice from a DataFrame\n",
            "\n",
            "See the caveats in the documentation: https://pandas.pydata.org/pandas-docs/stable/user_guide/indexing.html#returning-a-view-versus-a-copy\n",
            "  return self._update_inplace(result)\n"
          ]
        }
      ]
    },
    {
      "cell_type": "code",
      "source": [
        "from scipy.stats import boxcox\n",
        "df['price_fixed'] = boxcox(df.price, 0.5)\n",
        "None"
      ],
      "metadata": {
        "id": "8r01MlvJAFib",
        "colab": {
          "base_uri": "https://localhost:8080/"
        },
        "outputId": "6149b45b-a32f-43ab-ae07-b05f5eef5325"
      },
      "execution_count": null,
      "outputs": [
        {
          "output_type": "stream",
          "name": "stderr",
          "text": [
            "/usr/local/lib/python3.7/dist-packages/ipykernel_launcher.py:2: SettingWithCopyWarning: \n",
            "A value is trying to be set on a copy of a slice from a DataFrame.\n",
            "Try using .loc[row_indexer,col_indexer] = value instead\n",
            "\n",
            "See the caveats in the documentation: https://pandas.pydata.org/pandas-docs/stable/user_guide/indexing.html#returning-a-view-versus-a-copy\n",
            "  \n"
          ]
        }
      ]
    },
    {
      "cell_type": "code",
      "source": [
        "df.price_fixed.hist()"
      ],
      "metadata": {
        "id": "U7OhCPp5m_uy",
        "colab": {
          "base_uri": "https://localhost:8080/",
          "height": 282
        },
        "outputId": "ef3df8af-1e48-45de-fe28-696522c2c276"
      },
      "execution_count": null,
      "outputs": [
        {
          "output_type": "execute_result",
          "data": {
            "text/plain": [
              "<matplotlib.axes._subplots.AxesSubplot at 0x7f871bbdadd0>"
            ]
          },
          "metadata": {},
          "execution_count": 100
        },
        {
          "output_type": "display_data",
          "data": {
            "text/plain": [
              "<Figure size 432x288 with 1 Axes>"
            ],
            "image/png": "[encoded data removed]"
          },
          "metadata": {
            "needs_background": "light"
          }
        }
      ]
    },
    {
      "cell_type": "code",
      "source": [
        "df.price_fixed"
      ],
      "metadata": {
        "colab": {
          "base_uri": "https://localhost:8080/"
        },
        "id": "NVRa-sD1WyMJ",
        "outputId": "86dc4a49-2315-4155-acdd-32c285d62a54"
      },
      "execution_count": null,
      "outputs": [
        {
          "output_type": "execute_result",
          "data": {
            "text/plain": [
              "0        131.416641\n",
              "1        228.642581\n",
              "2        111.137085\n",
              "3        132.164079\n",
              "4        271.861279\n",
              "            ...    \n",
              "49995     93.707889\n",
              "49996    129.909261\n",
              "49998    129.909261\n",
              "49999     18.000000\n",
              "50000     64.332496\n",
              "Name: price_fixed, Length: 47498, dtype: float64"
            ]
          },
          "metadata": {},
          "execution_count": 101
        }
      ]
    },
    {
      "cell_type": "markdown",
      "source": [
        "Аналогично поработайте и с другими «важными для целевой функции price» параметрами (powerPS, yearOfRegistration, kilometer и т.д). «Важность» докажите через коэффициент корреляции. Сделайте визуализацию.\n",
        "---"
      ],
      "metadata": {
        "id": "3935UC3Bf-zT"
      }
    },
    {
      "cell_type": "code",
      "source": [
        "sns.heatmap(df.corr(), annot=True)"
      ],
      "metadata": {
        "id": "KIlsuIHKeBKe",
        "colab": {
          "base_uri": "https://localhost:8080/",
          "height": 380
        },
        "outputId": "fc1e8a52-1520-40c9-8778-262315e57e05"
      },
      "execution_count": null,
      "outputs": [
        {
          "output_type": "execute_result",
          "data": {
            "text/plain": [
              "<matplotlib.axes._subplots.AxesSubplot at 0x7f87141de550>"
            ]
          },
          "metadata": {},
          "execution_count": 102
        },
        {
          "output_type": "display_data",
          "data": {
            "text/plain": [
              "<Figure size 432x288 with 2 Axes>"
            ],
            "image/png": "[encoded data removed]"
          },
          "metadata": {
            "needs_background": "light"
          }
        }
      ]
    },
    {
      "cell_type": "markdown",
      "source": [
        "Parameters: kilometer, powerPS, YearOfRegistration, Postalcode, MonthOfRegistrtion"
      ],
      "metadata": {
        "id": "d4UEvCveBf0i"
      }
    },
    {
      "cell_type": "code",
      "source": [
        "cols = ['kilometer', 'powerPS', 'yearOfRegistration', 'postalCode', 'monthOfRegistration']"
      ],
      "metadata": {
        "id": "Fij8Y9dugR84"
      },
      "execution_count": null,
      "outputs": []
    },
    {
      "cell_type": "code",
      "source": [
        "fig, ax = plt.subplots(5, 2, figsize = (12,20))\n",
        "for i in range(len(cols)):\n",
        "  ax[i, 0].hist(df[cols[i]])\n",
        "  ax[i, 0].set_title('hist of ' + cols[i])\n",
        "  \n",
        "  ax[i, 1].boxplot(df[cols[i]])\n",
        "  ax[i, 1].set_title('boxplot of ' + cols[i])"
      ],
      "metadata": {
        "colab": {
          "base_uri": "https://localhost:8080/",
          "height": 1000
        },
        "id": "cVCGSJPzBtQi",
        "outputId": "baa07001-0de9-4144-c227-a16cd9b6feae"
      },
      "execution_count": null,
      "outputs": [
        {
          "output_type": "display_data",
          "data": {
            "text/plain": [
              "<Figure size 864x1440 with 10 Axes>"
            ],
            "image/png": "[encoded data removed]"
          },
          "metadata": {
            "needs_background": "light"
          }
        }
      ]
    },
    {
      "cell_type": "markdown",
      "source": [
        "Kilometer preprocessing\n",
        "---"
      ],
      "metadata": {
        "id": "mGD5X7rhETzp"
      }
    },
    {
      "cell_type": "code",
      "source": [
        "df[df.kilometer == 150_000]['kilometer'].count()"
      ],
      "metadata": {
        "colab": {
          "base_uri": "https://localhost:8080/"
        },
        "id": "-tsJ8-ZIExhA",
        "outputId": "cc67bf5a-acca-4e89-a7e1-c8392d674cf7"
      },
      "execution_count": null,
      "outputs": [
        {
          "output_type": "execute_result",
          "data": {
            "text/plain": [
              "32060"
            ]
          },
          "metadata": {},
          "execution_count": 105
        }
      ]
    },
    {
      "cell_type": "markdown",
      "source": [
        "Many huge values means that it`s the limit of kilometers passed by auto, we no need to fix this"
      ],
      "metadata": {
        "id": "pUqxXsJWEmqt"
      }
    },
    {
      "cell_type": "code",
      "source": [
        "df.kilometer.isna().sum()"
      ],
      "metadata": {
        "colab": {
          "base_uri": "https://localhost:8080/"
        },
        "id": "geS5KHDHETEl",
        "outputId": "3bb1fcd3-77d0-44e2-a0cf-ab6b98ce151c"
      },
      "execution_count": null,
      "outputs": [
        {
          "output_type": "execute_result",
          "data": {
            "text/plain": [
              "0"
            ]
          },
          "metadata": {},
          "execution_count": 106
        }
      ]
    },
    {
      "cell_type": "code",
      "source": [
        "df[df.kilometer == 0]"
      ],
      "metadata": {
        "colab": {
          "base_uri": "https://localhost:8080/",
          "height": 113
        },
        "id": "t9zb92alFljo",
        "outputId": "579585ea-867f-4d74-dfdd-eb324d653e7e"
      },
      "execution_count": null,
      "outputs": [
        {
          "output_type": "execute_result",
          "data": {
            "text/plain": [
              "Empty DataFrame\n",
              "Columns: [dateCrawled, name, seller, offerType, price, abtest, vehicleType, yearOfRegistration, gearbox, powerPS, model, kilometer, monthOfRegistration, fuelType, brand, notRepairedDamage, dateCreated, postalCode, lastSeen, price_fixed]\n",
              "Index: []"
            ],
            "text/html": [
              "\n",
              "  <div id=\"df-d370f793-6549-44f7-8939-62a8645cc964\">\n",
              "    <div class=\"colab-df-container\">\n",
              "      <div>\n",
              "<style scoped>\n",
              "    .dataframe tbody tr th:only-of-type {\n",
              "        vertical-align: middle;\n",
              "    }\n",
              "\n",
              "    .dataframe tbody tr th {\n",
              "        vertical-align: top;\n",
              "    }\n",
              "\n",
              "    .dataframe thead th {\n",
              "        text-align: right;\n",
              "    }\n",
              "</style>\n",
              "<table border=\"1\" class=\"dataframe\">\n",
              "  <thead>\n",
              "    <tr style=\"text-align: right;\">\n",
              "      <th></th>\n",
              "      <th>dateCrawled</th>\n",
              "      <th>name</th>\n",
              "      <th>seller</th>\n",
              "      <th>offerType</th>\n",
              "      <th>price</th>\n",
              "      <th>abtest</th>\n",
              "      <th>vehicleType</th>\n",
              "      <th>yearOfRegistration</th>\n",
              "      <th>gearbox</th>\n",
              "      <th>powerPS</th>\n",
              "      <th>model</th>\n",
              "      <th>kilometer</th>\n",
              "      <th>monthOfRegistration</th>\n",
              "      <th>fuelType</th>\n",
              "      <th>brand</th>\n",
              "      <th>notRepairedDamage</th>\n",
              "      <th>dateCreated</th>\n",
              "      <th>postalCode</th>\n",
              "      <th>lastSeen</th>\n",
              "      <th>price_fixed</th>\n",
              "    </tr>\n",
              "  </thead>\n",
              "  <tbody>\n",
              "  </tbody>\n",
              "</table>\n",
              "</div>\n",
              "      <button class=\"colab-df-convert\" onclick=\"convertToInteractive('df-d370f793-6549-44f7-8939-62a8645cc964')\"\n",
              "              title=\"Convert this dataframe to an interactive table.\"\n",
              "              style=\"display:none;\">\n",
              "        \n",
              "  <svg xmlns=\"http://www.w3.org/2000/svg\" height=\"24px\"viewBox=\"0 0 24 24\"\n",
              "       width=\"24px\">\n",
              "    <path d=\"M0 0h24v24H0V0z\" fill=\"none\"/>\n",
              "    <path d=\"M18.56 5.44l.94 2.06.94-2.06 2.06-.94-2.06-.94-.94-2.06-.94 2.06-2.06.94zm-11 1L8.5 8.5l.94-2.06 2.06-.94-2.06-.94L8.5 2.5l-.94 2.06-2.06.94zm10 10l.94 2.06.94-2.06 2.06-.94-2.06-.94-.94-2.06-.94 2.06-2.06.94z\"/><path d=\"M17.41 7.96l-1.37-1.37c-.4-.4-.92-.59-1.43-.59-.52 0-1.04.2-1.43.59L10.3 9.45l-7.72 7.72c-.78.78-.78 2.05 0 2.83L4 21.41c.39.39.9.59 1.41.59.51 0 1.02-.2 1.41-.59l7.78-7.78 2.81-2.81c.8-.78.8-2.07 0-2.86zM5.41 20L4 18.59l7.72-7.72 1.47 1.35L5.41 20z\"/>\n",
              "  </svg>\n",
              "      </button>\n",
              "      \n",
              "  <style>\n",
              "    .colab-df-container {\n",
              "      display:flex;\n",
              "      flex-wrap:wrap;\n",
              "      gap: 12px;\n",
              "    }\n",
              "\n",
              "    .colab-df-convert {\n",
              "      background-color: #E8F0FE;\n",
              "      border: none;\n",
              "      border-radius: 50%;\n",
              "      cursor: pointer;\n",
              "      display: none;\n",
              "      fill: #1967D2;\n",
              "      height: 32px;\n",
              "      padding: 0 0 0 0;\n",
              "      width: 32px;\n",
              "    }\n",
              "\n",
              "    .colab-df-convert:hover {\n",
              "      background-color: #E2EBFA;\n",
              "      box-shadow: 0px 1px 2px rgba(60, 64, 67, 0.3), 0px 1px 3px 1px rgba(60, 64, 67, 0.15);\n",
              "      fill: #174EA6;\n",
              "    }\n",
              "\n",
              "    [theme=dark] .colab-df-convert {\n",
              "      background-color: #3B4455;\n",
              "      fill: #D2E3FC;\n",
              "    }\n",
              "\n",
              "    [theme=dark] .colab-df-convert:hover {\n",
              "      background-color: #434B5C;\n",
              "      box-shadow: 0px 1px 3px 1px rgba(0, 0, 0, 0.15);\n",
              "      filter: drop-shadow(0px 1px 2px rgba(0, 0, 0, 0.3));\n",
              "      fill: #FFFFFF;\n",
              "    }\n",
              "  </style>\n",
              "\n",
              "      <script>\n",
              "        const buttonEl =\n",
              "          document.querySelector('#df-d370f793-6549-44f7-8939-62a8645cc964 button.colab-df-convert');\n",
              "        buttonEl.style.display =\n",
              "          google.colab.kernel.accessAllowed ? 'block' : 'none';\n",
              "\n",
              "        async function convertToInteractive(key) {\n",
              "          const element = document.querySelector('#df-d370f793-6549-44f7-8939-62a8645cc964');\n",
              "          const dataTable =\n",
              "            await google.colab.kernel.invokeFunction('convertToInteractive',\n",
              "                                                     [key], {});\n",
              "          if (!dataTable) return;\n",
              "\n",
              "          const docLinkHtml = 'Like what you see? Visit the ' +\n",
              "            '<a target=\"_blank\" href=https://colab.research.google.com/notebooks/data_table.ipynb>data table notebook</a>'\n",
              "            + ' to learn more about interactive tables.';\n",
              "          element.innerHTML = '';\n",
              "          dataTable['output_type'] = 'display_data';\n",
              "          await google.colab.output.renderOutput(dataTable, element);\n",
              "          const docLink = document.createElement('div');\n",
              "          docLink.innerHTML = docLinkHtml;\n",
              "          element.appendChild(docLink);\n",
              "        }\n",
              "      </script>\n",
              "    </div>\n",
              "  </div>\n",
              "  "
            ]
          },
          "metadata": {},
          "execution_count": 107
        }
      ]
    },
    {
      "cell_type": "markdown",
      "source": [
        "There is no miss values and zeros"
      ],
      "metadata": {
        "id": "DTy5JuenE9j-"
      }
    },
    {
      "cell_type": "markdown",
      "source": [
        "PowerPS column preproccessing\n",
        "---"
      ],
      "metadata": {
        "id": "Ro5W8DUnFZ11"
      }
    },
    {
      "cell_type": "code",
      "source": [
        "df.powerPS.mean(), df.powerPS.max()"
      ],
      "metadata": {
        "colab": {
          "base_uri": "https://localhost:8080/"
        },
        "id": "63DPtmFyGgiB",
        "outputId": "773bd71e-3baf-476b-f228-5bafc29f1ac3"
      },
      "execution_count": null,
      "outputs": [
        {
          "output_type": "execute_result",
          "data": {
            "text/plain": [
              "(110.54088593203925, 19312)"
            ]
          },
          "metadata": {},
          "execution_count": 108
        }
      ]
    },
    {
      "cell_type": "code",
      "source": [
        "df[df.powerPS == 0]['powerPS'].count()"
      ],
      "metadata": {
        "colab": {
          "base_uri": "https://localhost:8080/"
        },
        "id": "UsQed9HFFY91",
        "outputId": "f63b68e7-2d49-42fc-d702-f66b882b11b4"
      },
      "execution_count": null,
      "outputs": [
        {
          "output_type": "execute_result",
          "data": {
            "text/plain": [
              "5510"
            ]
          },
          "metadata": {},
          "execution_count": 109
        }
      ]
    },
    {
      "cell_type": "markdown",
      "source": [
        "We had the same problem with price, so let`s fix this like we fixed price"
      ],
      "metadata": {
        "id": "UHd5vsVNGHhh"
      }
    },
    {
      "cell_type": "code",
      "source": [
        "df = df[df.powerPS < df.powerPS.quantile(0.95)]"
      ],
      "metadata": {
        "id": "lufPZP7hG2ig"
      },
      "execution_count": null,
      "outputs": []
    },
    {
      "cell_type": "code",
      "source": [
        "df.powerPS.replace(0, df.powerPS.mean(), inplace=True)\n",
        "None"
      ],
      "metadata": {
        "id": "-QV6kWQ_G6VA",
        "colab": {
          "base_uri": "https://localhost:8080/"
        },
        "outputId": "03e3a842-2e3a-4c74-b0c8-f240b7cab7aa"
      },
      "execution_count": null,
      "outputs": [
        {
          "output_type": "stream",
          "name": "stderr",
          "text": [
            "/usr/local/lib/python3.7/dist-packages/pandas/core/generic.py:6619: SettingWithCopyWarning: \n",
            "A value is trying to be set on a copy of a slice from a DataFrame\n",
            "\n",
            "See the caveats in the documentation: https://pandas.pydata.org/pandas-docs/stable/user_guide/indexing.html#returning-a-view-versus-a-copy\n",
            "  return self._update_inplace(result)\n"
          ]
        }
      ]
    },
    {
      "cell_type": "code",
      "source": [
        "df.powerPS = boxcox(df.powerPS, 1)"
      ],
      "metadata": {
        "id": "FlWBIcMNG73k",
        "colab": {
          "base_uri": "https://localhost:8080/"
        },
        "outputId": "c4bc2ecf-6dcb-43a4-d059-85aac67545fd"
      },
      "execution_count": null,
      "outputs": [
        {
          "output_type": "stream",
          "name": "stderr",
          "text": [
            "/usr/local/lib/python3.7/dist-packages/pandas/core/generic.py:5516: SettingWithCopyWarning: \n",
            "A value is trying to be set on a copy of a slice from a DataFrame.\n",
            "Try using .loc[row_indexer,col_indexer] = value instead\n",
            "\n",
            "See the caveats in the documentation: https://pandas.pydata.org/pandas-docs/stable/user_guide/indexing.html#returning-a-view-versus-a-copy\n",
            "  self[name] = value\n"
          ]
        }
      ]
    },
    {
      "cell_type": "code",
      "source": [
        "df.powerPS.hist(bins = 12)\n",
        "None"
      ],
      "metadata": {
        "colab": {
          "base_uri": "https://localhost:8080/",
          "height": 268
        },
        "id": "RKjzIbj8B5eU",
        "outputId": "fb84f9f9-8a9f-425a-d70a-cee07c8d8639"
      },
      "execution_count": null,
      "outputs": [
        {
          "output_type": "display_data",
          "data": {
            "text/plain": [
              "<Figure size 432x288 with 1 Axes>"
            ],
            "image/png": "[encoded data removed]"
          },
          "metadata": {
            "needs_background": "light"
          }
        }
      ]
    },
    {
      "cell_type": "markdown",
      "source": [
        "Year of Registration column preproccessing\n",
        "---"
      ],
      "metadata": {
        "id": "rqfrJCnSIMH2"
      }
    },
    {
      "cell_type": "code",
      "source": [
        "df.yearOfRegistration.mean(), df.yearOfRegistration.max()"
      ],
      "metadata": {
        "colab": {
          "base_uri": "https://localhost:8080/"
        },
        "id": "Q0suvIBLIdaN",
        "outputId": "7a4e6692-7ecd-44ec-df7f-0cc8ec437830"
      },
      "execution_count": null,
      "outputs": [
        {
          "output_type": "execute_result",
          "data": {
            "text/plain": [
              "(2004.9833077385324, 9999)"
            ]
          },
          "metadata": {},
          "execution_count": 114
        }
      ]
    },
    {
      "cell_type": "markdown",
      "source": [
        "Outlier years"
      ],
      "metadata": {
        "id": "GiYGuqCyImSe"
      }
    },
    {
      "cell_type": "code",
      "source": [
        "df.yearOfRegistration.sort_values(ascending =False)"
      ],
      "metadata": {
        "colab": {
          "base_uri": "https://localhost:8080/"
        },
        "id": "4p27sSp9IkKS",
        "outputId": "75e748ba-9e6e-4ccb-dc25-ea2258f0df39"
      },
      "execution_count": null,
      "outputs": [
        {
          "output_type": "execute_result",
          "data": {
            "text/plain": [
              "40368    9999\n",
              "47770    9999\n",
              "14406    9999\n",
              "18067    9999\n",
              "6866     9999\n",
              "         ... \n",
              "8027     1000\n",
              "41464    1000\n",
              "7150     1000\n",
              "25449    1000\n",
              "43043    1000\n",
              "Name: yearOfRegistration, Length: 44931, dtype: int64"
            ]
          },
          "metadata": {},
          "execution_count": 115
        }
      ]
    },
    {
      "cell_type": "markdown",
      "source": [
        "Let`s change all years that does not included in [1900, 2022] interval change for less mean integer by this column"
      ],
      "metadata": {
        "id": "TS9BXl5qIvkJ"
      }
    },
    {
      "cell_type": "code",
      "source": [
        "import math\n",
        "df[(df.yearOfRegistration < 1900) | (df.yearOfRegistration > 2022)]['yearOfRegistration'].count()"
      ],
      "metadata": {
        "colab": {
          "base_uri": "https://localhost:8080/"
        },
        "id": "2G7qVqsaJH-V",
        "outputId": "754bc1d2-87c8-42de-d16a-50e5ee5d93c5"
      },
      "execution_count": null,
      "outputs": [
        {
          "output_type": "execute_result",
          "data": {
            "text/plain": [
              "28"
            ]
          },
          "metadata": {},
          "execution_count": 116
        }
      ]
    },
    {
      "cell_type": "markdown",
      "source": [
        "In case few numbers of outliers we can easily drop it from dataframe"
      ],
      "metadata": {
        "id": "9SIOcPCmKrpb"
      }
    },
    {
      "cell_type": "code",
      "source": [
        "df.drop(df[(df.yearOfRegistration < 1900) | (df.yearOfRegistration > 2022)].index,\n",
        "           inplace = True)"
      ],
      "metadata": {
        "id": "97WE3l9HKzp9",
        "colab": {
          "base_uri": "https://localhost:8080/"
        },
        "outputId": "6985f9b3-57ff-494e-9e1e-8e46280e18f5"
      },
      "execution_count": null,
      "outputs": [
        {
          "output_type": "stream",
          "name": "stderr",
          "text": [
            "/usr/local/lib/python3.7/dist-packages/pandas/core/frame.py:4913: SettingWithCopyWarning: \n",
            "A value is trying to be set on a copy of a slice from a DataFrame\n",
            "\n",
            "See the caveats in the documentation: https://pandas.pydata.org/pandas-docs/stable/user_guide/indexing.html#returning-a-view-versus-a-copy\n",
            "  errors=errors,\n"
          ]
        }
      ]
    },
    {
      "cell_type": "code",
      "source": [
        "df.yearOfRegistration.hist(bins = 12)\n",
        "None"
      ],
      "metadata": {
        "colab": {
          "base_uri": "https://localhost:8080/",
          "height": 265
        },
        "id": "2CmiRIO0LGhd",
        "outputId": "19ad4e4d-7e44-44ac-8988-34bbf98b7ef2"
      },
      "execution_count": null,
      "outputs": [
        {
          "output_type": "display_data",
          "data": {
            "text/plain": [
              "<Figure size 432x288 with 1 Axes>"
            ],
            "image/png": "[encoded data removed]"
          },
          "metadata": {
            "needs_background": "light"
          }
        }
      ]
    },
    {
      "cell_type": "code",
      "source": [
        "plt.boxplot(df.yearOfRegistration)\n",
        "None"
      ],
      "metadata": {
        "colab": {
          "base_uri": "https://localhost:8080/",
          "height": 265
        },
        "id": "7q2_tzT_LMfW",
        "outputId": "b97f7945-8cd3-4f69-c94e-f26605206f6b"
      },
      "execution_count": null,
      "outputs": [
        {
          "output_type": "display_data",
          "data": {
            "text/plain": [
              "<Figure size 432x288 with 1 Axes>"
            ],
            "image/png": "[encoded data removed]"
          },
          "metadata": {
            "needs_background": "light"
          }
        }
      ]
    },
    {
      "cell_type": "markdown",
      "source": [
        "Postalcode column doesn`t need preproccessing\n",
        "---"
      ],
      "metadata": {
        "id": "pmHItnmXH7Pf"
      }
    },
    {
      "cell_type": "markdown",
      "source": [
        "Month of Registration column preproccessing\n",
        "---"
      ],
      "metadata": {
        "id": "Y8JCftJSIH2L"
      }
    },
    {
      "cell_type": "code",
      "source": [
        "df.monthOfRegistration.mean(), df.monthOfRegistration.max(), df.monthOfRegistration.min()"
      ],
      "metadata": {
        "colab": {
          "base_uri": "https://localhost:8080/"
        },
        "id": "--2NXuWcGq3w",
        "outputId": "017f6c54-558c-4c1c-f970-b32bf7615c8c"
      },
      "execution_count": null,
      "outputs": [
        {
          "output_type": "execute_result",
          "data": {
            "text/plain": [
              "(5.690087521991849, 12, 0)"
            ]
          },
          "metadata": {},
          "execution_count": 120
        }
      ]
    },
    {
      "cell_type": "code",
      "source": [
        "df[df.monthOfRegistration == 0]['monthOfRegistration'].count()"
      ],
      "metadata": {
        "colab": {
          "base_uri": "https://localhost:8080/"
        },
        "id": "IGS650AOLhZI",
        "outputId": "e28cc05e-a3fa-47c4-b3df-0bd5962c78f5"
      },
      "execution_count": null,
      "outputs": [
        {
          "output_type": "execute_result",
          "data": {
            "text/plain": [
              "4852"
            ]
          },
          "metadata": {},
          "execution_count": 121
        }
      ]
    },
    {
      "cell_type": "markdown",
      "source": [
        "It can be possible that car registred with 0 month, so we can`t process this values"
      ],
      "metadata": {
        "id": "71lNDl9JLufh"
      }
    },
    {
      "cell_type": "markdown",
      "source": [
        "Now we processed all numeric columns\n",
        "---"
      ],
      "metadata": {
        "id": "nMwWRBW0MVfV"
      }
    },
    {
      "cell_type": "markdown",
      "source": [
        "Постройте ящиковые диаграммы зависимости gearbox, fuelType, vehicleType, notRepairedDamage от price. Сделайте выводы. Можно ли убрать значения с малой частотой? Повлияет ли это на дальнейшее исследование?\n",
        "---"
      ],
      "metadata": {
        "id": "-DQAxMrQL9Ik"
      }
    },
    {
      "cell_type": "code",
      "source": [
        "cols = ['vehicleType', 'gearbox', 'fuelType', 'notRepairedDamage']"
      ],
      "metadata": {
        "id": "GGMgCJy5Mg5J"
      },
      "execution_count": null,
      "outputs": []
    },
    {
      "cell_type": "code",
      "source": [
        "ax = sns.boxplot(data=df, y=\"price\", x=\"vehicleType\")\n",
        "ax.set_title('Boxplot price with Vehicle type')\n",
        "None"
      ],
      "metadata": {
        "colab": {
          "base_uri": "https://localhost:8080/",
          "height": 295
        },
        "id": "O_TlEz47M8wQ",
        "outputId": "e4e88d72-83ff-4634-dfc8-0d0644edc629"
      },
      "execution_count": null,
      "outputs": [
        {
          "output_type": "display_data",
          "data": {
            "text/plain": [
              "<Figure size 432x288 with 1 Axes>"
            ],
            "image/png": "[encoded data removed]"
          },
          "metadata": {
            "needs_background": "light"
          }
        }
      ]
    },
    {
      "cell_type": "code",
      "source": [
        "ax = sns.boxplot(data=df, y=\"price\", x=\"gearbox\")\n",
        "ax.set_title('Boxplot price with gearbox')\n",
        "None"
      ],
      "metadata": {
        "colab": {
          "base_uri": "https://localhost:8080/",
          "height": 295
        },
        "id": "ZHEf656YNKkX",
        "outputId": "edf6889e-16b6-499e-8380-f2908058ace8"
      },
      "execution_count": null,
      "outputs": [
        {
          "output_type": "display_data",
          "data": {
            "text/plain": [
              "<Figure size 432x288 with 1 Axes>"
            ],
            "image/png": "[encoded data removed]"
          },
          "metadata": {
            "needs_background": "light"
          }
        }
      ]
    },
    {
      "cell_type": "code",
      "source": [
        "ax = sns.boxplot(data=df, y=\"price\", x=\"fuelType\")\n",
        "ax.set_title('Boxplot price with fuelType')\n",
        "None"
      ],
      "metadata": {
        "colab": {
          "base_uri": "https://localhost:8080/",
          "height": 295
        },
        "id": "F_8jDvvHOQu3",
        "outputId": "7728a44f-0f39-4831-bb68-c32057abcc6d"
      },
      "execution_count": null,
      "outputs": [
        {
          "output_type": "display_data",
          "data": {
            "text/plain": [
              "<Figure size 432x288 with 1 Axes>"
            ],
            "image/png": "[encoded data removed]"
          },
          "metadata": {
            "needs_background": "light"
          }
        }
      ]
    },
    {
      "cell_type": "code",
      "source": [
        "ax = sns.boxplot(data=df, y=\"price\", x=\"notRepairedDamage\")\n",
        "ax.set_title('Boxplot price with notRepairedDamage')\n",
        "None"
      ],
      "metadata": {
        "colab": {
          "base_uri": "https://localhost:8080/",
          "height": 295
        },
        "id": "syr7viEFOUni",
        "outputId": "0c9ecbf0-5349-416c-9794-58a4a1092306"
      },
      "execution_count": null,
      "outputs": [
        {
          "output_type": "display_data",
          "data": {
            "text/plain": [
              "<Figure size 432x288 with 1 Axes>"
            ],
            "image/png": "[encoded data removed]"
          },
          "metadata": {
            "needs_background": "light"
          }
        }
      ]
    },
    {
      "cell_type": "markdown",
      "source": [
        "Few numbers of categorical features isn`t helpful, but we have particulary normal size of dataset, that is why we do not have to drop this features\n",
        "-\n",
        "Results of analysis will not be biased"
      ],
      "metadata": {
        "id": "cqovIcsiRWCx"
      }
    },
    {
      "cell_type": "markdown",
      "source": [
        "Найдите пропуски. Удалите столбцы, которые содержат большое количество пропусков. В остальных случаях постарайтесь восстановить пропущенные значения.\n",
        "---"
      ],
      "metadata": {
        "id": "zxeKsSsTRwYE"
      }
    },
    {
      "cell_type": "code",
      "source": [
        "df.isna().sum()"
      ],
      "metadata": {
        "colab": {
          "base_uri": "https://localhost:8080/"
        },
        "id": "Y6LPONtMOZ_p",
        "outputId": "c2575351-1e5a-4246-cc33-1d212cb52662"
      },
      "execution_count": null,
      "outputs": [
        {
          "output_type": "execute_result",
          "data": {
            "text/plain": [
              "dateCrawled               0\n",
              "name                      0\n",
              "seller                    0\n",
              "offerType                 0\n",
              "price                     0\n",
              "abtest                    0\n",
              "vehicleType            5002\n",
              "yearOfRegistration        0\n",
              "gearbox                2711\n",
              "powerPS                   0\n",
              "model                  2475\n",
              "kilometer                 0\n",
              "monthOfRegistration       0\n",
              "fuelType               4280\n",
              "brand                     0\n",
              "notRepairedDamage      9241\n",
              "dateCreated               0\n",
              "postalCode                0\n",
              "lastSeen                  0\n",
              "price_fixed               0\n",
              "dtype: int64"
            ]
          },
          "metadata": {},
          "execution_count": 127
        }
      ]
    },
    {
      "cell_type": "markdown",
      "source": [
        "Let`s drop notRepairedDamage, vehicleType and fueltype columns"
      ],
      "metadata": {
        "id": "EvBMcGbsSP83"
      }
    },
    {
      "cell_type": "code",
      "source": [
        "df.drop(labels = ['vehicleType', 'fuelType', 'notRepairedDamage'], axis = 1, inplace = True)"
      ],
      "metadata": {
        "colab": {
          "base_uri": "https://localhost:8080/"
        },
        "id": "k5tdHQfFRZ1G",
        "outputId": "a7a39b1e-c502-496e-debd-67d420cab511"
      },
      "execution_count": null,
      "outputs": [
        {
          "output_type": "stream",
          "name": "stderr",
          "text": [
            "/usr/local/lib/python3.7/dist-packages/pandas/core/frame.py:4913: SettingWithCopyWarning: \n",
            "A value is trying to be set on a copy of a slice from a DataFrame\n",
            "\n",
            "See the caveats in the documentation: https://pandas.pydata.org/pandas-docs/stable/user_guide/indexing.html#returning-a-view-versus-a-copy\n",
            "  errors=errors,\n"
          ]
        }
      ]
    },
    {
      "cell_type": "code",
      "source": [
        "df.columns"
      ],
      "metadata": {
        "colab": {
          "base_uri": "https://localhost:8080/"
        },
        "id": "Kxe-dKcvSpB5",
        "outputId": "b11fbcc0-8875-4df6-d77d-5f5f89b1473f"
      },
      "execution_count": null,
      "outputs": [
        {
          "output_type": "execute_result",
          "data": {
            "text/plain": [
              "Index(['dateCrawled', 'name', 'seller', 'offerType', 'price', 'abtest',\n",
              "       'yearOfRegistration', 'gearbox', 'powerPS', 'model', 'kilometer',\n",
              "       'monthOfRegistration', 'brand', 'dateCreated', 'postalCode', 'lastSeen',\n",
              "       'price_fixed'],\n",
              "      dtype='object')"
            ]
          },
          "metadata": {},
          "execution_count": 129
        }
      ]
    },
    {
      "cell_type": "markdown",
      "source": [
        "Now we fill none values in gearbox and model columns"
      ],
      "metadata": {
        "id": "AGVt-I1ZSx5l"
      }
    },
    {
      "cell_type": "code",
      "source": [
        "df.gearbox.unique(), df.gearbox.mode().values[0]"
      ],
      "metadata": {
        "colab": {
          "base_uri": "https://localhost:8080/"
        },
        "id": "yOVdi44WT9mp",
        "outputId": "2efcbbed-54c8-43ee-ff37-dad339614a93"
      },
      "execution_count": null,
      "outputs": [
        {
          "output_type": "execute_result",
          "data": {
            "text/plain": [
              "(array(['manual', 'automatic', nan], dtype=object), 'manual')"
            ]
          },
          "metadata": {},
          "execution_count": 130
        }
      ]
    },
    {
      "cell_type": "code",
      "source": [
        "df.gearbox.fillna(df.gearbox.mode().values[0], inplace = True)"
      ],
      "metadata": {
        "colab": {
          "base_uri": "https://localhost:8080/"
        },
        "id": "_assZIhfS49z",
        "outputId": "2c31dd0d-005b-47c9-9da1-efe5f930db80"
      },
      "execution_count": null,
      "outputs": [
        {
          "output_type": "stream",
          "name": "stderr",
          "text": [
            "/usr/local/lib/python3.7/dist-packages/pandas/core/generic.py:6392: SettingWithCopyWarning: \n",
            "A value is trying to be set on a copy of a slice from a DataFrame\n",
            "\n",
            "See the caveats in the documentation: https://pandas.pydata.org/pandas-docs/stable/user_guide/indexing.html#returning-a-view-versus-a-copy\n",
            "  return self._update_inplace(result)\n"
          ]
        }
      ]
    },
    {
      "cell_type": "code",
      "source": [
        "df.gearbox.isna().sum()"
      ],
      "metadata": {
        "colab": {
          "base_uri": "https://localhost:8080/"
        },
        "id": "7-Hth4JsUBs0",
        "outputId": "5357a45b-0890-498f-f71d-d3d1f3268372"
      },
      "execution_count": null,
      "outputs": [
        {
          "output_type": "execute_result",
          "data": {
            "text/plain": [
              "0"
            ]
          },
          "metadata": {},
          "execution_count": 132
        }
      ]
    },
    {
      "cell_type": "code",
      "source": [
        "df.model.isna().sum()"
      ],
      "metadata": {
        "colab": {
          "base_uri": "https://localhost:8080/"
        },
        "id": "uQ_scx4NTToK",
        "outputId": "0eaff467-f2e3-4abf-b0c8-49f8d19c90ac"
      },
      "execution_count": null,
      "outputs": [
        {
          "output_type": "execute_result",
          "data": {
            "text/plain": [
              "2475"
            ]
          },
          "metadata": {},
          "execution_count": 133
        }
      ]
    },
    {
      "cell_type": "code",
      "source": [
        "import numpy as np\n",
        "while df.model.isna().sum() != 0:\n",
        "  #creates a random permuation of the categorical values\n",
        "  permutation = np.random.permutation(df.model)\n",
        "\n",
        "  #erase the empty values\n",
        "  empty_is = np.where(permutation == \"\")\n",
        "  permutation = np.delete(permutation, empty_is)\n",
        "\n",
        "  #replace all empty values of the dataframe[field]\n",
        "  end = len(permutation)\n",
        "  df.model = df.model.apply(lambda x: permutation[np.random.randint(end)] if pd.isnull(x) else x)"
      ],
      "metadata": {
        "colab": {
          "base_uri": "https://localhost:8080/"
        },
        "id": "wN_DfU2YTU1w",
        "outputId": "45a53f94-e265-4d53-eac2-40176b477431"
      },
      "execution_count": null,
      "outputs": [
        {
          "output_type": "stream",
          "name": "stderr",
          "text": [
            "/usr/local/lib/python3.7/dist-packages/pandas/core/generic.py:5516: SettingWithCopyWarning: \n",
            "A value is trying to be set on a copy of a slice from a DataFrame.\n",
            "Try using .loc[row_indexer,col_indexer] = value instead\n",
            "\n",
            "See the caveats in the documentation: https://pandas.pydata.org/pandas-docs/stable/user_guide/indexing.html#returning-a-view-versus-a-copy\n",
            "  self[name] = value\n"
          ]
        }
      ]
    },
    {
      "cell_type": "code",
      "source": [
        "df.model.isna().sum()"
      ],
      "metadata": {
        "colab": {
          "base_uri": "https://localhost:8080/"
        },
        "id": "Wx-y9NkFT2mz",
        "outputId": "78c2270d-7d96-48bd-beb3-09f75e43a0ee"
      },
      "execution_count": null,
      "outputs": [
        {
          "output_type": "execute_result",
          "data": {
            "text/plain": [
              "0"
            ]
          },
          "metadata": {},
          "execution_count": 135
        }
      ]
    },
    {
      "cell_type": "markdown",
      "source": [
        "Сохраните полученный датасет и выведете его.\n",
        "---"
      ],
      "metadata": {
        "id": "kZM6CGnhUk-u"
      }
    },
    {
      "cell_type": "code",
      "source": [
        "df.head()"
      ],
      "metadata": {
        "colab": {
          "base_uri": "https://localhost:8080/",
          "height": 444
        },
        "id": "MZ2FxFpCT4tN",
        "outputId": "2cb4c2ac-d650-4334-dbb7-e1e69f137da1"
      },
      "execution_count": null,
      "outputs": [
        {
          "output_type": "execute_result",
          "data": {
            "text/plain": [
              "          dateCrawled                                               name  \\\n",
              "0 2016-03-30 13:51:00                                       Zu_verkaufen   \n",
              "1 2016-07-03 09:54:00                             Volvo_XC90_2.4D_Summum   \n",
              "2 2016-01-04 00:57:00                                  Volkswagen_Touran   \n",
              "3 2016-03-19 17:50:00                       Seat_Ibiza_1.4_16V_Reference   \n",
              "4 2016-03-16 14:51:00  Volvo_XC90_D5_Aut._RDesign_R_Design_AWD_GSHD_S...   \n",
              "\n",
              "    seller offerType    price   abtest  yearOfRegistration    gearbox  \\\n",
              "0  private     offer   4450.0     test                2003     manual   \n",
              "1  private     offer  13299.0  control                2005     manual   \n",
              "2  private     offer   3200.0     test                2003     manual   \n",
              "3  private     offer   4500.0  control                2006     manual   \n",
              "4  private     offer  18750.0     test                2008  automatic   \n",
              "\n",
              "   powerPS     model  kilometer  monthOfRegistration       brand dateCreated  \\\n",
              "0    149.0       3er     150000                    3         bmw  2016-03-30   \n",
              "1    162.0  xc_reihe     150000                    6       volvo  2016-07-03   \n",
              "2    100.0    touran     150000                   11  volkswagen  2016-03-31   \n",
              "3     85.0     ibiza      60000                   12        seat  2016-03-19   \n",
              "4    184.0  xc_reihe     150000                   11       volvo  2016-03-16   \n",
              "\n",
              "   postalCode            lastSeen  price_fixed  \n",
              "0       20257 2016-07-04 04:44:00   131.416641  \n",
              "1       88045 2016-03-26 13:17:00   228.642581  \n",
              "2       27449 2016-01-04 08:40:00   111.137085  \n",
              "3       34537 2016-07-04 04:44:00   132.164079  \n",
              "4       55270 2016-01-04 23:18:00   271.861279  "
            ],
            "text/html": [
              "\n",
              "  <div id=\"df-55cfcda3-70b0-4e48-a5eb-a46dfad10e1f\">\n",
              "    <div class=\"colab-df-container\">\n",
              "      <div>\n",
              "<style scoped>\n",
              "    .dataframe tbody tr th:only-of-type {\n",
              "        vertical-align: middle;\n",
              "    }\n",
              "\n",
              "    .dataframe tbody tr th {\n",
              "        vertical-align: top;\n",
              "    }\n",
              "\n",
              "    .dataframe thead th {\n",
              "        text-align: right;\n",
              "    }\n",
              "</style>\n",
              "<table border=\"1\" class=\"dataframe\">\n",
              "  <thead>\n",
              "    <tr style=\"text-align: right;\">\n",
              "      <th></th>\n",
              "      <th>dateCrawled</th>\n",
              "      <th>name</th>\n",
              "      <th>seller</th>\n",
              "      <th>offerType</th>\n",
              "      <th>price</th>\n",
              "      <th>abtest</th>\n",
              "      <th>yearOfRegistration</th>\n",
              "      <th>gearbox</th>\n",
              "      <th>powerPS</th>\n",
              "      <th>model</th>\n",
              "      <th>kilometer</th>\n",
              "      <th>monthOfRegistration</th>\n",
              "      <th>brand</th>\n",
              "      <th>dateCreated</th>\n",
              "      <th>postalCode</th>\n",
              "      <th>lastSeen</th>\n",
              "      <th>price_fixed</th>\n",
              "    </tr>\n",
              "  </thead>\n",
              "  <tbody>\n",
              "    <tr>\n",
              "      <th>0</th>\n",
              "      <td>2016-03-30 13:51:00</td>\n",
              "      <td>Zu_verkaufen</td>\n",
              "      <td>private</td>\n",
              "      <td>offer</td>\n",
              "      <td>4450.0</td>\n",
              "      <td>test</td>\n",
              "      <td>2003</td>\n",
              "      <td>manual</td>\n",
              "      <td>149.0</td>\n",
              "      <td>3er</td>\n",
              "      <td>150000</td>\n",
              "      <td>3</td>\n",
              "      <td>bmw</td>\n",
              "      <td>2016-03-30</td>\n",
              "      <td>20257</td>\n",
              "      <td>2016-07-04 04:44:00</td>\n",
              "      <td>131.416641</td>\n",
              "    </tr>\n",
              "    <tr>\n",
              "      <th>1</th>\n",
              "      <td>2016-07-03 09:54:00</td>\n",
              "      <td>Volvo_XC90_2.4D_Summum</td>\n",
              "      <td>private</td>\n",
              "      <td>offer</td>\n",
              "      <td>13299.0</td>\n",
              "      <td>control</td>\n",
              "      <td>2005</td>\n",
              "      <td>manual</td>\n",
              "      <td>162.0</td>\n",
              "      <td>xc_reihe</td>\n",
              "      <td>150000</td>\n",
              "      <td>6</td>\n",
              "      <td>volvo</td>\n",
              "      <td>2016-07-03</td>\n",
              "      <td>88045</td>\n",
              "      <td>2016-03-26 13:17:00</td>\n",
              "      <td>228.642581</td>\n",
              "    </tr>\n",
              "    <tr>\n",
              "      <th>2</th>\n",
              "      <td>2016-01-04 00:57:00</td>\n",
              "      <td>Volkswagen_Touran</td>\n",
              "      <td>private</td>\n",
              "      <td>offer</td>\n",
              "      <td>3200.0</td>\n",
              "      <td>test</td>\n",
              "      <td>2003</td>\n",
              "      <td>manual</td>\n",
              "      <td>100.0</td>\n",
              "      <td>touran</td>\n",
              "      <td>150000</td>\n",
              "      <td>11</td>\n",
              "      <td>volkswagen</td>\n",
              "      <td>2016-03-31</td>\n",
              "      <td>27449</td>\n",
              "      <td>2016-01-04 08:40:00</td>\n",
              "      <td>111.137085</td>\n",
              "    </tr>\n",
              "    <tr>\n",
              "      <th>3</th>\n",
              "      <td>2016-03-19 17:50:00</td>\n",
              "      <td>Seat_Ibiza_1.4_16V_Reference</td>\n",
              "      <td>private</td>\n",
              "      <td>offer</td>\n",
              "      <td>4500.0</td>\n",
              "      <td>control</td>\n",
              "      <td>2006</td>\n",
              "      <td>manual</td>\n",
              "      <td>85.0</td>\n",
              "      <td>ibiza</td>\n",
              "      <td>60000</td>\n",
              "      <td>12</td>\n",
              "      <td>seat</td>\n",
              "      <td>2016-03-19</td>\n",
              "      <td>34537</td>\n",
              "      <td>2016-07-04 04:44:00</td>\n",
              "      <td>132.164079</td>\n",
              "    </tr>\n",
              "    <tr>\n",
              "      <th>4</th>\n",
              "      <td>2016-03-16 14:51:00</td>\n",
              "      <td>Volvo_XC90_D5_Aut._RDesign_R_Design_AWD_GSHD_S...</td>\n",
              "      <td>private</td>\n",
              "      <td>offer</td>\n",
              "      <td>18750.0</td>\n",
              "      <td>test</td>\n",
              "      <td>2008</td>\n",
              "      <td>automatic</td>\n",
              "      <td>184.0</td>\n",
              "      <td>xc_reihe</td>\n",
              "      <td>150000</td>\n",
              "      <td>11</td>\n",
              "      <td>volvo</td>\n",
              "      <td>2016-03-16</td>\n",
              "      <td>55270</td>\n",
              "      <td>2016-01-04 23:18:00</td>\n",
              "      <td>271.861279</td>\n",
              "    </tr>\n",
              "  </tbody>\n",
              "</table>\n",
              "</div>\n",
              "      <button class=\"colab-df-convert\" onclick=\"convertToInteractive('df-55cfcda3-70b0-4e48-a5eb-a46dfad10e1f')\"\n",
              "              title=\"Convert this dataframe to an interactive table.\"\n",
              "              style=\"display:none;\">\n",
              "        \n",
              "  <svg xmlns=\"http://www.w3.org/2000/svg\" height=\"24px\"viewBox=\"0 0 24 24\"\n",
              "       width=\"24px\">\n",
              "    <path d=\"M0 0h24v24H0V0z\" fill=\"none\"/>\n",
              "    <path d=\"M18.56 5.44l.94 2.06.94-2.06 2.06-.94-2.06-.94-.94-2.06-.94 2.06-2.06.94zm-11 1L8.5 8.5l.94-2.06 2.06-.94-2.06-.94L8.5 2.5l-.94 2.06-2.06.94zm10 10l.94 2.06.94-2.06 2.06-.94-2.06-.94-.94-2.06-.94 2.06-2.06.94z\"/><path d=\"M17.41 7.96l-1.37-1.37c-.4-.4-.92-.59-1.43-.59-.52 0-1.04.2-1.43.59L10.3 9.45l-7.72 7.72c-.78.78-.78 2.05 0 2.83L4 21.41c.39.39.9.59 1.41.59.51 0 1.02-.2 1.41-.59l7.78-7.78 2.81-2.81c.8-.78.8-2.07 0-2.86zM5.41 20L4 18.59l7.72-7.72 1.47 1.35L5.41 20z\"/>\n",
              "  </svg>\n",
              "      </button>\n",
              "      \n",
              "  <style>\n",
              "    .colab-df-container {\n",
              "      display:flex;\n",
              "      flex-wrap:wrap;\n",
              "      gap: 12px;\n",
              "    }\n",
              "\n",
              "    .colab-df-convert {\n",
              "      background-color: #E8F0FE;\n",
              "      border: none;\n",
              "      border-radius: 50%;\n",
              "      cursor: pointer;\n",
              "      display: none;\n",
              "      fill: #1967D2;\n",
              "      height: 32px;\n",
              "      padding: 0 0 0 0;\n",
              "      width: 32px;\n",
              "    }\n",
              "\n",
              "    .colab-df-convert:hover {\n",
              "      background-color: #E2EBFA;\n",
              "      box-shadow: 0px 1px 2px rgba(60, 64, 67, 0.3), 0px 1px 3px 1px rgba(60, 64, 67, 0.15);\n",
              "      fill: #174EA6;\n",
              "    }\n",
              "\n",
              "    [theme=dark] .colab-df-convert {\n",
              "      background-color: #3B4455;\n",
              "      fill: #D2E3FC;\n",
              "    }\n",
              "\n",
              "    [theme=dark] .colab-df-convert:hover {\n",
              "      background-color: #434B5C;\n",
              "      box-shadow: 0px 1px 3px 1px rgba(0, 0, 0, 0.15);\n",
              "      filter: drop-shadow(0px 1px 2px rgba(0, 0, 0, 0.3));\n",
              "      fill: #FFFFFF;\n",
              "    }\n",
              "  </style>\n",
              "\n",
              "      <script>\n",
              "        const buttonEl =\n",
              "          document.querySelector('#df-55cfcda3-70b0-4e48-a5eb-a46dfad10e1f button.colab-df-convert');\n",
              "        buttonEl.style.display =\n",
              "          google.colab.kernel.accessAllowed ? 'block' : 'none';\n",
              "\n",
              "        async function convertToInteractive(key) {\n",
              "          const element = document.querySelector('#df-55cfcda3-70b0-4e48-a5eb-a46dfad10e1f');\n",
              "          const dataTable =\n",
              "            await google.colab.kernel.invokeFunction('convertToInteractive',\n",
              "                                                     [key], {});\n",
              "          if (!dataTable) return;\n",
              "\n",
              "          const docLinkHtml = 'Like what you see? Visit the ' +\n",
              "            '<a target=\"_blank\" href=https://colab.research.google.com/notebooks/data_table.ipynb>data table notebook</a>'\n",
              "            + ' to learn more about interactive tables.';\n",
              "          element.innerHTML = '';\n",
              "          dataTable['output_type'] = 'display_data';\n",
              "          await google.colab.output.renderOutput(dataTable, element);\n",
              "          const docLink = document.createElement('div');\n",
              "          docLink.innerHTML = docLinkHtml;\n",
              "          element.appendChild(docLink);\n",
              "        }\n",
              "      </script>\n",
              "    </div>\n",
              "  </div>\n",
              "  "
            ]
          },
          "metadata": {},
          "execution_count": 136
        }
      ]
    },
    {
      "cell_type": "code",
      "source": [
        " df = df.drop(labels=['price', 'dateCreated', 'lastSeen', 'offerType', 'dateCrawled', 'dateCreated', 'postalCode'], axis = 1)"
      ],
      "metadata": {
        "id": "sPMgJu0GXIgG"
      },
      "execution_count": null,
      "outputs": []
    },
    {
      "cell_type": "code",
      "source": [
        "df.describe()"
      ],
      "metadata": {
        "colab": {
          "base_uri": "https://localhost:8080/",
          "height": 300
        },
        "id": "0UhzHN5zUmd_",
        "outputId": "4169c235-4fe2-4aa7-9346-46f28980227b"
      },
      "execution_count": null,
      "outputs": [
        {
          "output_type": "execute_result",
          "data": {
            "text/plain": [
              "       yearOfRegistration       powerPS      kilometer  monthOfRegistration  \\\n",
              "count        44903.000000  44903.000000   44903.000000         44903.000000   \n",
              "mean          2002.996370    108.803501  128083.090217             5.690088   \n",
              "std              7.590296     38.286404   38035.013077             3.730616   \n",
              "min           1910.000000      0.000000    5000.000000             0.000000   \n",
              "25%           1999.000000     79.000000  125000.000000             3.000000   \n",
              "50%           2003.000000    100.000000  150000.000000             6.000000   \n",
              "75%           2008.000000    135.000000  150000.000000             9.000000   \n",
              "max           2019.000000    216.000000  150000.000000            12.000000   \n",
              "\n",
              "        price_fixed  \n",
              "count  44903.000000  \n",
              "mean     112.898938  \n",
              "std       58.724603  \n",
              "min        0.000000  \n",
              "25%       67.253159  \n",
              "50%      103.811153  \n",
              "75%      148.996689  \n",
              "max      278.000000  "
            ],
            "text/html": [
              "\n",
              "  <div id=\"df-cfebf768-0540-4749-ba3f-7c0ae5f9737f\">\n",
              "    <div class=\"colab-df-container\">\n",
              "      <div>\n",
              "<style scoped>\n",
              "    .dataframe tbody tr th:only-of-type {\n",
              "        vertical-align: middle;\n",
              "    }\n",
              "\n",
              "    .dataframe tbody tr th {\n",
              "        vertical-align: top;\n",
              "    }\n",
              "\n",
              "    .dataframe thead th {\n",
              "        text-align: right;\n",
              "    }\n",
              "</style>\n",
              "<table border=\"1\" class=\"dataframe\">\n",
              "  <thead>\n",
              "    <tr style=\"text-align: right;\">\n",
              "      <th></th>\n",
              "      <th>yearOfRegistration</th>\n",
              "      <th>powerPS</th>\n",
              "      <th>kilometer</th>\n",
              "      <th>monthOfRegistration</th>\n",
              "      <th>price_fixed</th>\n",
              "    </tr>\n",
              "  </thead>\n",
              "  <tbody>\n",
              "    <tr>\n",
              "      <th>count</th>\n",
              "      <td>44903.000000</td>\n",
              "      <td>44903.000000</td>\n",
              "      <td>44903.000000</td>\n",
              "      <td>44903.000000</td>\n",
              "      <td>44903.000000</td>\n",
              "    </tr>\n",
              "    <tr>\n",
              "      <th>mean</th>\n",
              "      <td>2002.996370</td>\n",
              "      <td>108.803501</td>\n",
              "      <td>128083.090217</td>\n",
              "      <td>5.690088</td>\n",
              "      <td>112.898938</td>\n",
              "    </tr>\n",
              "    <tr>\n",
              "      <th>std</th>\n",
              "      <td>7.590296</td>\n",
              "      <td>38.286404</td>\n",
              "      <td>38035.013077</td>\n",
              "      <td>3.730616</td>\n",
              "      <td>58.724603</td>\n",
              "    </tr>\n",
              "    <tr>\n",
              "      <th>min</th>\n",
              "      <td>1910.000000</td>\n",
              "      <td>0.000000</td>\n",
              "      <td>5000.000000</td>\n",
              "      <td>0.000000</td>\n",
              "      <td>0.000000</td>\n",
              "    </tr>\n",
              "    <tr>\n",
              "      <th>25%</th>\n",
              "      <td>1999.000000</td>\n",
              "      <td>79.000000</td>\n",
              "      <td>125000.000000</td>\n",
              "      <td>3.000000</td>\n",
              "      <td>67.253159</td>\n",
              "    </tr>\n",
              "    <tr>\n",
              "      <th>50%</th>\n",
              "      <td>2003.000000</td>\n",
              "      <td>100.000000</td>\n",
              "      <td>150000.000000</td>\n",
              "      <td>6.000000</td>\n",
              "      <td>103.811153</td>\n",
              "    </tr>\n",
              "    <tr>\n",
              "      <th>75%</th>\n",
              "      <td>2008.000000</td>\n",
              "      <td>135.000000</td>\n",
              "      <td>150000.000000</td>\n",
              "      <td>9.000000</td>\n",
              "      <td>148.996689</td>\n",
              "    </tr>\n",
              "    <tr>\n",
              "      <th>max</th>\n",
              "      <td>2019.000000</td>\n",
              "      <td>216.000000</td>\n",
              "      <td>150000.000000</td>\n",
              "      <td>12.000000</td>\n",
              "      <td>278.000000</td>\n",
              "    </tr>\n",
              "  </tbody>\n",
              "</table>\n",
              "</div>\n",
              "      <button class=\"colab-df-convert\" onclick=\"convertToInteractive('df-cfebf768-0540-4749-ba3f-7c0ae5f9737f')\"\n",
              "              title=\"Convert this dataframe to an interactive table.\"\n",
              "              style=\"display:none;\">\n",
              "        \n",
              "  <svg xmlns=\"http://www.w3.org/2000/svg\" height=\"24px\"viewBox=\"0 0 24 24\"\n",
              "       width=\"24px\">\n",
              "    <path d=\"M0 0h24v24H0V0z\" fill=\"none\"/>\n",
              "    <path d=\"M18.56 5.44l.94 2.06.94-2.06 2.06-.94-2.06-.94-.94-2.06-.94 2.06-2.06.94zm-11 1L8.5 8.5l.94-2.06 2.06-.94-2.06-.94L8.5 2.5l-.94 2.06-2.06.94zm10 10l.94 2.06.94-2.06 2.06-.94-2.06-.94-.94-2.06-.94 2.06-2.06.94z\"/><path d=\"M17.41 7.96l-1.37-1.37c-.4-.4-.92-.59-1.43-.59-.52 0-1.04.2-1.43.59L10.3 9.45l-7.72 7.72c-.78.78-.78 2.05 0 2.83L4 21.41c.39.39.9.59 1.41.59.51 0 1.02-.2 1.41-.59l7.78-7.78 2.81-2.81c.8-.78.8-2.07 0-2.86zM5.41 20L4 18.59l7.72-7.72 1.47 1.35L5.41 20z\"/>\n",
              "  </svg>\n",
              "      </button>\n",
              "      \n",
              "  <style>\n",
              "    .colab-df-container {\n",
              "      display:flex;\n",
              "      flex-wrap:wrap;\n",
              "      gap: 12px;\n",
              "    }\n",
              "\n",
              "    .colab-df-convert {\n",
              "      background-color: #E8F0FE;\n",
              "      border: none;\n",
              "      border-radius: 50%;\n",
              "      cursor: pointer;\n",
              "      display: none;\n",
              "      fill: #1967D2;\n",
              "      height: 32px;\n",
              "      padding: 0 0 0 0;\n",
              "      width: 32px;\n",
              "    }\n",
              "\n",
              "    .colab-df-convert:hover {\n",
              "      background-color: #E2EBFA;\n",
              "      box-shadow: 0px 1px 2px rgba(60, 64, 67, 0.3), 0px 1px 3px 1px rgba(60, 64, 67, 0.15);\n",
              "      fill: #174EA6;\n",
              "    }\n",
              "\n",
              "    [theme=dark] .colab-df-convert {\n",
              "      background-color: #3B4455;\n",
              "      fill: #D2E3FC;\n",
              "    }\n",
              "\n",
              "    [theme=dark] .colab-df-convert:hover {\n",
              "      background-color: #434B5C;\n",
              "      box-shadow: 0px 1px 3px 1px rgba(0, 0, 0, 0.15);\n",
              "      filter: drop-shadow(0px 1px 2px rgba(0, 0, 0, 0.3));\n",
              "      fill: #FFFFFF;\n",
              "    }\n",
              "  </style>\n",
              "\n",
              "      <script>\n",
              "        const buttonEl =\n",
              "          document.querySelector('#df-cfebf768-0540-4749-ba3f-7c0ae5f9737f button.colab-df-convert');\n",
              "        buttonEl.style.display =\n",
              "          google.colab.kernel.accessAllowed ? 'block' : 'none';\n",
              "\n",
              "        async function convertToInteractive(key) {\n",
              "          const element = document.querySelector('#df-cfebf768-0540-4749-ba3f-7c0ae5f9737f');\n",
              "          const dataTable =\n",
              "            await google.colab.kernel.invokeFunction('convertToInteractive',\n",
              "                                                     [key], {});\n",
              "          if (!dataTable) return;\n",
              "\n",
              "          const docLinkHtml = 'Like what you see? Visit the ' +\n",
              "            '<a target=\"_blank\" href=https://colab.research.google.com/notebooks/data_table.ipynb>data table notebook</a>'\n",
              "            + ' to learn more about interactive tables.';\n",
              "          element.innerHTML = '';\n",
              "          dataTable['output_type'] = 'display_data';\n",
              "          await google.colab.output.renderOutput(dataTable, element);\n",
              "          const docLink = document.createElement('div');\n",
              "          docLink.innerHTML = docLinkHtml;\n",
              "          element.appendChild(docLink);\n",
              "        }\n",
              "      </script>\n",
              "    </div>\n",
              "  </div>\n",
              "  "
            ]
          },
          "metadata": {},
          "execution_count": 138
        }
      ]
    },
    {
      "cell_type": "markdown",
      "source": [
        "Постройте модель регрессии для цены автомобиля. Обучите ее на данных, полученных из исходного датасета с применением разных методов заполнения пропущенных значений. Сделайте вывод об эффективности разных методов.\n",
        "---"
      ],
      "metadata": {
        "id": "al11JgjwU9BO"
      }
    },
    {
      "cell_type": "code",
      "source": [
        "!pip install category_encoders"
      ],
      "metadata": {
        "colab": {
          "base_uri": "https://localhost:8080/"
        },
        "id": "zTeuQERFViw-",
        "outputId": "9361ab21-a76a-411f-d8b0-b28931500139"
      },
      "execution_count": null,
      "outputs": [
        {
          "output_type": "stream",
          "name": "stdout",
          "text": [
            "Looking in indexes: https://pypi.org/simple, https://us-python.pkg.dev/colab-wheels/public/simple/\n",
            "Requirement already satisfied: category_encoders in /usr/local/lib/python3.7/dist-packages (2.5.1.post0)\n",
            "Requirement already satisfied: scikit-learn>=0.20.0 in /usr/local/lib/python3.7/dist-packages (from category_encoders) (1.0.2)\n",
            "Requirement already satisfied: numpy>=1.14.0 in /usr/local/lib/python3.7/dist-packages (from category_encoders) (1.21.6)\n",
            "Requirement already satisfied: scipy>=1.0.0 in /usr/local/lib/python3.7/dist-packages (from category_encoders) (1.7.3)\n",
            "Requirement already satisfied: pandas>=1.0.5 in /usr/local/lib/python3.7/dist-packages (from category_encoders) (1.3.5)\n",
            "Requirement already satisfied: patsy>=0.5.1 in /usr/local/lib/python3.7/dist-packages (from category_encoders) (0.5.3)\n",
            "Requirement already satisfied: statsmodels>=0.9.0 in /usr/local/lib/python3.7/dist-packages (from category_encoders) (0.12.2)\n",
            "Requirement already satisfied: python-dateutil>=2.7.3 in /usr/local/lib/python3.7/dist-packages (from pandas>=1.0.5->category_encoders) (2.8.2)\n",
            "Requirement already satisfied: pytz>=2017.3 in /usr/local/lib/python3.7/dist-packages (from pandas>=1.0.5->category_encoders) (2022.6)\n",
            "Requirement already satisfied: six in /usr/local/lib/python3.7/dist-packages (from patsy>=0.5.1->category_encoders) (1.15.0)\n",
            "Requirement already satisfied: threadpoolctl>=2.0.0 in /usr/local/lib/python3.7/dist-packages (from scikit-learn>=0.20.0->category_encoders) (3.1.0)\n",
            "Requirement already satisfied: joblib>=0.11 in /usr/local/lib/python3.7/dist-packages (from scikit-learn>=0.20.0->category_encoders) (1.2.0)\n"
          ]
        }
      ]
    },
    {
      "cell_type": "code",
      "source": [
        "from category_encoders.ordinal import OrdinalEncoder \n",
        "df = OrdinalEncoder().fit_transform(df)"
      ],
      "metadata": {
        "id": "5sfpeSNMNRb2"
      },
      "execution_count": null,
      "outputs": []
    },
    {
      "cell_type": "code",
      "source": [
        "df.head()"
      ],
      "metadata": {
        "colab": {
          "base_uri": "https://localhost:8080/",
          "height": 206
        },
        "id": "h5P62mAfY6_q",
        "outputId": "8fbdeaad-342f-4c45-d043-df107f2be301"
      },
      "execution_count": null,
      "outputs": [
        {
          "output_type": "execute_result",
          "data": {
            "text/plain": [
              "   name  seller  abtest  yearOfRegistration  gearbox  powerPS  model  \\\n",
              "0     1       1       1                2003        1    149.0      1   \n",
              "1     2       1       2                2005        1    162.0      2   \n",
              "2     3       1       1                2003        1    100.0      3   \n",
              "3     4       1       2                2006        1     85.0      4   \n",
              "4     5       1       1                2008        2    184.0      2   \n",
              "\n",
              "   kilometer  monthOfRegistration  brand  price_fixed  \n",
              "0     150000                    3      1   131.416641  \n",
              "1     150000                    6      2   228.642581  \n",
              "2     150000                   11      3   111.137085  \n",
              "3      60000                   12      4   132.164079  \n",
              "4     150000                   11      2   271.861279  "
            ],
            "text/html": [
              "\n",
              "  <div id=\"df-8459c551-d5a5-46de-b2ae-eda3b4570ace\">\n",
              "    <div class=\"colab-df-container\">\n",
              "      <div>\n",
              "<style scoped>\n",
              "    .dataframe tbody tr th:only-of-type {\n",
              "        vertical-align: middle;\n",
              "    }\n",
              "\n",
              "    .dataframe tbody tr th {\n",
              "        vertical-align: top;\n",
              "    }\n",
              "\n",
              "    .dataframe thead th {\n",
              "        text-align: right;\n",
              "    }\n",
              "</style>\n",
              "<table border=\"1\" class=\"dataframe\">\n",
              "  <thead>\n",
              "    <tr style=\"text-align: right;\">\n",
              "      <th></th>\n",
              "      <th>name</th>\n",
              "      <th>seller</th>\n",
              "      <th>abtest</th>\n",
              "      <th>yearOfRegistration</th>\n",
              "      <th>gearbox</th>\n",
              "      <th>powerPS</th>\n",
              "      <th>model</th>\n",
              "      <th>kilometer</th>\n",
              "      <th>monthOfRegistration</th>\n",
              "      <th>brand</th>\n",
              "      <th>price_fixed</th>\n",
              "    </tr>\n",
              "  </thead>\n",
              "  <tbody>\n",
              "    <tr>\n",
              "      <th>0</th>\n",
              "      <td>1</td>\n",
              "      <td>1</td>\n",
              "      <td>1</td>\n",
              "      <td>2003</td>\n",
              "      <td>1</td>\n",
              "      <td>149.0</td>\n",
              "      <td>1</td>\n",
              "      <td>150000</td>\n",
              "      <td>3</td>\n",
              "      <td>1</td>\n",
              "      <td>131.416641</td>\n",
              "    </tr>\n",
              "    <tr>\n",
              "      <th>1</th>\n",
              "      <td>2</td>\n",
              "      <td>1</td>\n",
              "      <td>2</td>\n",
              "      <td>2005</td>\n",
              "      <td>1</td>\n",
              "      <td>162.0</td>\n",
              "      <td>2</td>\n",
              "      <td>150000</td>\n",
              "      <td>6</td>\n",
              "      <td>2</td>\n",
              "      <td>228.642581</td>\n",
              "    </tr>\n",
              "    <tr>\n",
              "      <th>2</th>\n",
              "      <td>3</td>\n",
              "      <td>1</td>\n",
              "      <td>1</td>\n",
              "      <td>2003</td>\n",
              "      <td>1</td>\n",
              "      <td>100.0</td>\n",
              "      <td>3</td>\n",
              "      <td>150000</td>\n",
              "      <td>11</td>\n",
              "      <td>3</td>\n",
              "      <td>111.137085</td>\n",
              "    </tr>\n",
              "    <tr>\n",
              "      <th>3</th>\n",
              "      <td>4</td>\n",
              "      <td>1</td>\n",
              "      <td>2</td>\n",
              "      <td>2006</td>\n",
              "      <td>1</td>\n",
              "      <td>85.0</td>\n",
              "      <td>4</td>\n",
              "      <td>60000</td>\n",
              "      <td>12</td>\n",
              "      <td>4</td>\n",
              "      <td>132.164079</td>\n",
              "    </tr>\n",
              "    <tr>\n",
              "      <th>4</th>\n",
              "      <td>5</td>\n",
              "      <td>1</td>\n",
              "      <td>1</td>\n",
              "      <td>2008</td>\n",
              "      <td>2</td>\n",
              "      <td>184.0</td>\n",
              "      <td>2</td>\n",
              "      <td>150000</td>\n",
              "      <td>11</td>\n",
              "      <td>2</td>\n",
              "      <td>271.861279</td>\n",
              "    </tr>\n",
              "  </tbody>\n",
              "</table>\n",
              "</div>\n",
              "      <button class=\"colab-df-convert\" onclick=\"convertToInteractive('df-8459c551-d5a5-46de-b2ae-eda3b4570ace')\"\n",
              "              title=\"Convert this dataframe to an interactive table.\"\n",
              "              style=\"display:none;\">\n",
              "        \n",
              "  <svg xmlns=\"http://www.w3.org/2000/svg\" height=\"24px\"viewBox=\"0 0 24 24\"\n",
              "       width=\"24px\">\n",
              "    <path d=\"M0 0h24v24H0V0z\" fill=\"none\"/>\n",
              "    <path d=\"M18.56 5.44l.94 2.06.94-2.06 2.06-.94-2.06-.94-.94-2.06-.94 2.06-2.06.94zm-11 1L8.5 8.5l.94-2.06 2.06-.94-2.06-.94L8.5 2.5l-.94 2.06-2.06.94zm10 10l.94 2.06.94-2.06 2.06-.94-2.06-.94-.94-2.06-.94 2.06-2.06.94z\"/><path d=\"M17.41 7.96l-1.37-1.37c-.4-.4-.92-.59-1.43-.59-.52 0-1.04.2-1.43.59L10.3 9.45l-7.72 7.72c-.78.78-.78 2.05 0 2.83L4 21.41c.39.39.9.59 1.41.59.51 0 1.02-.2 1.41-.59l7.78-7.78 2.81-2.81c.8-.78.8-2.07 0-2.86zM5.41 20L4 18.59l7.72-7.72 1.47 1.35L5.41 20z\"/>\n",
              "  </svg>\n",
              "      </button>\n",
              "      \n",
              "  <style>\n",
              "    .colab-df-container {\n",
              "      display:flex;\n",
              "      flex-wrap:wrap;\n",
              "      gap: 12px;\n",
              "    }\n",
              "\n",
              "    .colab-df-convert {\n",
              "      background-color: #E8F0FE;\n",
              "      border: none;\n",
              "      border-radius: 50%;\n",
              "      cursor: pointer;\n",
              "      display: none;\n",
              "      fill: #1967D2;\n",
              "      height: 32px;\n",
              "      padding: 0 0 0 0;\n",
              "      width: 32px;\n",
              "    }\n",
              "\n",
              "    .colab-df-convert:hover {\n",
              "      background-color: #E2EBFA;\n",
              "      box-shadow: 0px 1px 2px rgba(60, 64, 67, 0.3), 0px 1px 3px 1px rgba(60, 64, 67, 0.15);\n",
              "      fill: #174EA6;\n",
              "    }\n",
              "\n",
              "    [theme=dark] .colab-df-convert {\n",
              "      background-color: #3B4455;\n",
              "      fill: #D2E3FC;\n",
              "    }\n",
              "\n",
              "    [theme=dark] .colab-df-convert:hover {\n",
              "      background-color: #434B5C;\n",
              "      box-shadow: 0px 1px 3px 1px rgba(0, 0, 0, 0.15);\n",
              "      filter: drop-shadow(0px 1px 2px rgba(0, 0, 0, 0.3));\n",
              "      fill: #FFFFFF;\n",
              "    }\n",
              "  </style>\n",
              "\n",
              "      <script>\n",
              "        const buttonEl =\n",
              "          document.querySelector('#df-8459c551-d5a5-46de-b2ae-eda3b4570ace button.colab-df-convert');\n",
              "        buttonEl.style.display =\n",
              "          google.colab.kernel.accessAllowed ? 'block' : 'none';\n",
              "\n",
              "        async function convertToInteractive(key) {\n",
              "          const element = document.querySelector('#df-8459c551-d5a5-46de-b2ae-eda3b4570ace');\n",
              "          const dataTable =\n",
              "            await google.colab.kernel.invokeFunction('convertToInteractive',\n",
              "                                                     [key], {});\n",
              "          if (!dataTable) return;\n",
              "\n",
              "          const docLinkHtml = 'Like what you see? Visit the ' +\n",
              "            '<a target=\"_blank\" href=https://colab.research.google.com/notebooks/data_table.ipynb>data table notebook</a>'\n",
              "            + ' to learn more about interactive tables.';\n",
              "          element.innerHTML = '';\n",
              "          dataTable['output_type'] = 'display_data';\n",
              "          await google.colab.output.renderOutput(dataTable, element);\n",
              "          const docLink = document.createElement('div');\n",
              "          docLink.innerHTML = docLinkHtml;\n",
              "          element.appendChild(docLink);\n",
              "        }\n",
              "      </script>\n",
              "    </div>\n",
              "  </div>\n",
              "  "
            ]
          },
          "metadata": {},
          "execution_count": 152
        }
      ]
    },
    {
      "cell_type": "code",
      "source": [
        "y = df.price_fixed\n",
        "X = df.drop(labels=['price_fixed'], axis = 1)\n",
        "X = X.drop(labels = ['name', 'seller', 'gearbox'], axis = 1)"
      ],
      "metadata": {
        "id": "6ijmSRB_UYmN"
      },
      "execution_count": null,
      "outputs": []
    },
    {
      "cell_type": "code",
      "source": [
        "import numpy as np\n",
        "from sklearn.linear_model import LinearRegression\n",
        "from sklearn.metrics import mean_squared_error, r2_score\n",
        "from sklearn.model_selection import train_test_split"
      ],
      "metadata": {
        "id": "cQNXpWeIF8zq"
      },
      "execution_count": null,
      "outputs": []
    },
    {
      "cell_type": "code",
      "source": [
        "X_train, X_test, y_train, y_test = train_test_split(X, y, test_size=0.2, random_state=42)"
      ],
      "metadata": {
        "id": "z-C2IDopHnzY"
      },
      "execution_count": null,
      "outputs": []
    },
    {
      "cell_type": "code",
      "source": [
        "clf = LinearRegression()\n",
        "clf.fit(X_train, y_train)\n",
        "y_pred = clf.predict(X_test)\n",
        "print('MSE: ', round(mean_squared_error(y_test, y_pred), 2))\n",
        "print('Determnitation coefficient: ', round(r2_score(y_test, y_pred), 2))\n",
        "fig, ax = plt.subplots(1,1, figsize=(10,7))\n",
        "ax.plot(sorted(y_test), color=\"b\")\n",
        "ax.plot(sorted(y_pred), color=\"r\")\n",
        "ax.legend(['test', 'pred'])\n",
        "None"
      ],
      "metadata": {
        "colab": {
          "base_uri": "https://localhost:8080/",
          "height": 463
        },
        "id": "T2rIlEIvH3wp",
        "outputId": "37e314ed-ed26-47e4-f516-f3bd1e31e1f0"
      },
      "execution_count": null,
      "outputs": [
        {
          "output_type": "stream",
          "name": "stdout",
          "text": [
            "MSE:  1935.12\n",
            "Determnitation coefficient:  0.45\n"
          ]
        },
        {
          "output_type": "display_data",
          "data": {
            "text/plain": [
              "<Figure size 720x504 with 1 Axes>"
            ],
            "image/png": "[encoded data removed]"
          },
          "metadata": {
            "needs_background": "light"
          }
        }
      ]
    },
    {
      "cell_type": "code",
      "source": [
        "from sklearn.linear_model import Ridge\n",
        "model = Ridge()\n",
        "model.fit(X_train, y_train)\n",
        "print('MSE: ', round(mean_squared_error(y_test, y_pred), 2))\n",
        "print('Determnitation coefficient: ', round(r2_score(y_test, y_pred), 2))\n",
        "fig, ax = plt.subplots(1,1, figsize=(10,7))\n",
        "ax.plot(sorted(y_test), color=\"b\")\n",
        "ax.plot(sorted(y_pred), color=\"r\")\n",
        "ax.legend(['test', 'pred'])\n",
        "None"
      ],
      "metadata": {
        "colab": {
          "base_uri": "https://localhost:8080/",
          "height": 463
        },
        "id": "50xxkg1K0DPZ",
        "outputId": "e22c91dc-cde0-4af7-f710-808b77bec1ba"
      },
      "execution_count": null,
      "outputs": [
        {
          "output_type": "stream",
          "name": "stdout",
          "text": [
            "MSE:  1935.12\n",
            "Determnitation coefficient:  0.45\n"
          ]
        },
        {
          "output_type": "display_data",
          "data": {
            "text/plain": [
              "<Figure size 720x504 with 1 Axes>"
            ],
            "image/png": "[encoded data removed]"
          },
          "metadata": {
            "needs_background": "light"
          }
        }
      ]
    },
    {
      "cell_type": "code",
      "source": [
        "from sklearn.linear_model import Lasso\n",
        "model = Lasso()\n",
        "model.fit(X_train, y_train)\n",
        "print('MSE: ', round(mean_squared_error(y_test, y_pred), 2))\n",
        "print('Determnitation coefficient: ', round(r2_score(y_test, y_pred), 2))\n",
        "fig, ax = plt.subplots(1,1, figsize=(10,7))\n",
        "ax.plot(sorted(y_test), color=\"b\")\n",
        "ax.plot(sorted(y_pred), color=\"r\")\n",
        "ax.legend(['test', 'pred'])\n",
        "None"
      ],
      "metadata": {
        "colab": {
          "base_uri": "https://localhost:8080/",
          "height": 463
        },
        "id": "hCHrg5RG0wNt",
        "outputId": "4267d6cc-0a49-424b-ade2-5353021f13e4"
      },
      "execution_count": null,
      "outputs": [
        {
          "output_type": "stream",
          "name": "stdout",
          "text": [
            "MSE:  1935.12\n",
            "Determnitation coefficient:  0.45\n"
          ]
        },
        {
          "output_type": "display_data",
          "data": {
            "text/plain": [
              "<Figure size 720x504 with 1 Axes>"
            ],
            "image/png": "[encoded data removed]"
          },
          "metadata": {
            "needs_background": "light"
          }
        }
      ]
    },
    {
      "cell_type": "code",
      "source": [
        "from sklearn.svm import SVR\n",
        "model = SVR()\n",
        "model.fit(X_train, y_train)\n",
        "print('MSE: ', round(mean_squared_error(y_test, y_pred), 2))\n",
        "print('Determnitation coefficient: ', round(r2_score(y_test, y_pred), 2))\n",
        "fig, ax = plt.subplots(1,1, figsize=(10,7))\n",
        "ax.plot(sorted(y_test), color=\"b\")\n",
        "ax.plot(sorted(y_pred), color=\"r\")\n",
        "ax.legend(['test', 'pred'])\n",
        "None"
      ],
      "metadata": {
        "colab": {
          "base_uri": "https://localhost:8080/",
          "height": 463
        },
        "id": "zBaztXoN7GMy",
        "outputId": "afe0cd6a-520a-4228-b5fd-e2f3442e0eb7"
      },
      "execution_count": null,
      "outputs": [
        {
          "output_type": "stream",
          "name": "stdout",
          "text": [
            "MSE:  1935.12\n",
            "Determnitation coefficient:  0.45\n"
          ]
        },
        {
          "output_type": "display_data",
          "data": {
            "text/plain": [
              "<Figure size 720x504 with 1 Axes>"
            ],
            "image/png": "[encoded data removed]"
          },
          "metadata": {
            "needs_background": "light"
          }
        }
      ]
    },
    {
      "cell_type": "code",
      "source": [
        "from sklearn.model_selection import GridSearchCV\n",
        "from sklearn.model_selection import RepeatedKFold\n",
        "cv = RepeatedKFold(n_splits=10, n_repeats=3, random_state=1)\n",
        "model = Ridge()\n",
        "space = dict()\n",
        "space['solver'] = ['svd', 'cholesky', 'lsqr', 'sag']\n",
        "space['alpha'] = [1e-5, 1e-4, 1e-3, 1e-2, 1e-1, 1, 10, 100]\n",
        "space['fit_intercept'] = [True, False]\n",
        "space['normalize'] = [True, False]\n",
        "search = GridSearchCV(model, space, scoring='neg_mean_absolute_error', n_jobs=-1, cv=cv)"
      ],
      "metadata": {
        "id": "f20U63S0xIr4"
      },
      "execution_count": null,
      "outputs": []
    },
    {
      "cell_type": "code",
      "source": [
        "# result = search.fit(X, y)\n",
        "# print('Best Score: %s' % result.best_score_)\n",
        "# print('Best Hyperparameters: %s' % result.best_params_)"
      ],
      "metadata": {
        "id": "alZJzmT2016p"
      },
      "execution_count": null,
      "outputs": []
    },
    {
      "cell_type": "code",
      "source": [
        "!pip install xgboost"
      ],
      "metadata": {
        "id": "8RvMnFQM1JGG"
      },
      "execution_count": null,
      "outputs": []
    },
    {
      "cell_type": "code",
      "source": [
        "from xgboost import XGBRegressor\n",
        "model = XGBRegressor(n_estimators=1000, max_depth=7, eta=0.1, subsample=0.7, colsample_bytree=0.8)\n",
        "model.fit(X_train, y_train)\n",
        "print('MSE: ', round(mean_squared_error(y_test, y_pred), 2))\n",
        "print('Determnitation coefficient: ', round(r2_score(y_test, y_pred), 2))\n",
        "fig, ax = plt.subplots(1,1, figsize=(10,7))\n",
        "ax.plot(sorted(y_test), color=\"b\")\n",
        "ax.plot(sorted(y_pred), color=\"r\")\n",
        "ax.legend(['test', 'pred'])\n",
        "None"
      ],
      "metadata": {
        "colab": {
          "base_uri": "https://localhost:8080/",
          "height": 235
        },
        "id": "-fUsBjb1A0Uv",
        "outputId": "e19a5fd9-b8c4-4853-ae9f-6f52db9cce1e"
      },
      "execution_count": null,
      "outputs": [
        {
          "output_type": "error",
          "ename": "NameError",
          "evalue": "ignored",
          "traceback": [
            "\u001b[0;31m---------------------------------------------------------------------------\u001b[0m",
            "\u001b[0;31mNameError\u001b[0m                                 Traceback (most recent call last)",
            "\u001b[0;32m<ipython-input-1-f890e195015b>\u001b[0m in \u001b[0;36m<module>\u001b[0;34m\u001b[0m\n\u001b[1;32m      1\u001b[0m \u001b[0;32mfrom\u001b[0m \u001b[0mxgboost\u001b[0m \u001b[0;32mimport\u001b[0m \u001b[0mXGBClassifier\u001b[0m\u001b[0;34m\u001b[0m\u001b[0;34m\u001b[0m\u001b[0m\n\u001b[1;32m      2\u001b[0m \u001b[0mmodel\u001b[0m \u001b[0;34m=\u001b[0m \u001b[0mXGBClassifier\u001b[0m\u001b[0;34m(\u001b[0m\u001b[0mn_estimators\u001b[0m\u001b[0;34m=\u001b[0m\u001b[0;36m1000\u001b[0m\u001b[0;34m,\u001b[0m \u001b[0mmax_depth\u001b[0m\u001b[0;34m=\u001b[0m\u001b[0;36m7\u001b[0m\u001b[0;34m,\u001b[0m \u001b[0meta\u001b[0m\u001b[0;34m=\u001b[0m\u001b[0;36m0.1\u001b[0m\u001b[0;34m,\u001b[0m \u001b[0msubsample\u001b[0m\u001b[0;34m=\u001b[0m\u001b[0;36m0.7\u001b[0m\u001b[0;34m,\u001b[0m \u001b[0mcolsample_bytree\u001b[0m\u001b[0;34m=\u001b[0m\u001b[0;36m0.8\u001b[0m\u001b[0;34m)\u001b[0m\u001b[0;34m\u001b[0m\u001b[0;34m\u001b[0m\u001b[0m\n\u001b[0;32m----> 3\u001b[0;31m \u001b[0mmodel\u001b[0m\u001b[0;34m.\u001b[0m\u001b[0mfit\u001b[0m\u001b[0;34m(\u001b[0m\u001b[0mX_train\u001b[0m\u001b[0;34m,\u001b[0m \u001b[0my_train\u001b[0m\u001b[0;34m)\u001b[0m\u001b[0;34m\u001b[0m\u001b[0;34m\u001b[0m\u001b[0m\n\u001b[0m\u001b[1;32m      4\u001b[0m \u001b[0my_pred\u001b[0m \u001b[0;34m=\u001b[0m \u001b[0mmodel\u001b[0m\u001b[0;34m.\u001b[0m\u001b[0mpredict\u001b[0m\u001b[0;34m(\u001b[0m\u001b[0mX_test\u001b[0m\u001b[0;34m)\u001b[0m\u001b[0;34m\u001b[0m\u001b[0;34m\u001b[0m\u001b[0m\n\u001b[1;32m      5\u001b[0m \u001b[0mprint\u001b[0m\u001b[0;34m(\u001b[0m\u001b[0;34m'f1_score: '\u001b[0m\u001b[0;34m,\u001b[0m \u001b[0mround\u001b[0m\u001b[0;34m(\u001b[0m\u001b[0mf1_score\u001b[0m\u001b[0;34m(\u001b[0m\u001b[0my_test\u001b[0m\u001b[0;34m,\u001b[0m \u001b[0my_pred\u001b[0m\u001b[0;34m)\u001b[0m\u001b[0;34m,\u001b[0m \u001b[0;36m2\u001b[0m\u001b[0;34m)\u001b[0m\u001b[0;34m)\u001b[0m\u001b[0;34m\u001b[0m\u001b[0;34m\u001b[0m\u001b[0m\n",
            "\u001b[0;31mNameError\u001b[0m: name 'X_train' is not defined"
          ]
        }
      ]
    },
    {
      "cell_type": "code",
      "source": [],
      "metadata": {
        "id": "KGX_ra9AA-y3"
      },
      "execution_count": null,
      "outputs": []
    }
  ]
}