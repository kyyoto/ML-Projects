{
  "nbformat": 4,
  "nbformat_minor": 0,
  "metadata": {
    "colab": {
      "provenance": []
    },
    "kernelspec": {
      "name": "python3",
      "display_name": "Python 3"
    },
    "language_info": {
      "name": "python"
    }
  },
  "cells": [
    {
      "cell_type": "code",
      "execution_count": null,
      "metadata": {
        "id": "YgKWOyfEoF1z"
      },
      "outputs": [],
      "source": [
        "import pandas as pd\n",
        "import numpy as np\n",
        "import re\n",
        "import matplotlib.pyplot as plt\n",
        "import seaborn as sns\n",
        "\n",
        "%matplotlib inline"
      ]
    },
    {
      "cell_type": "markdown",
      "source": [
        "Read Dataset\n",
        "---"
      ],
      "metadata": {
        "id": "VieZhDxeo_bs"
      }
    },
    {
      "cell_type": "code",
      "source": [
        "df = pd.read_csv('/content/drive/MyDrive/Data for ML projects/Churn_Modelling.csv', index_col='RowNumber')\n",
        "df.head()"
      ],
      "metadata": {
        "colab": {
          "base_uri": "https://localhost:8080/",
          "height": 301
        },
        "id": "g991B1wEoPxv",
        "outputId": "f8c89f18-56a8-42f8-b5a6-7d38679d6273"
      },
      "execution_count": null,
      "outputs": [
        {
          "output_type": "execute_result",
          "data": {
            "text/plain": [
              "           CustomerId   Surname  CreditScore Geography  Gender  Age  Tenure  \\\n",
              "RowNumber                                                                     \n",
              "1            15634602  Hargrave          619    France  Female   42       2   \n",
              "2            15647311      Hill          608     Spain  Female   41       1   \n",
              "3            15619304      Onio          502    France  Female   42       8   \n",
              "4            15701354      Boni          699    France  Female   39       1   \n",
              "5            15737888  Mitchell          850     Spain  Female   43       2   \n",
              "\n",
              "             Balance  NumOfProducts  HasCrCard  IsActiveMember  \\\n",
              "RowNumber                                                        \n",
              "1               0.00              1          1               1   \n",
              "2           83807.86              1          0               1   \n",
              "3          159660.80              3          1               0   \n",
              "4               0.00              2          0               0   \n",
              "5          125510.82              1          1               1   \n",
              "\n",
              "           EstimatedSalary  Exited  \n",
              "RowNumber                           \n",
              "1                101348.88       1  \n",
              "2                112542.58       0  \n",
              "3                113931.57       1  \n",
              "4                 93826.63       0  \n",
              "5                 79084.10       0  "
            ],
            "text/html": [
              "\n",
              "  <div id=\"df-8e657c18-871e-4a72-a79d-9cf4e7845004\">\n",
              "    <div class=\"colab-df-container\">\n",
              "      <div>\n",
              "<style scoped>\n",
              "    .dataframe tbody tr th:only-of-type {\n",
              "        vertical-align: middle;\n",
              "    }\n",
              "\n",
              "    .dataframe tbody tr th {\n",
              "        vertical-align: top;\n",
              "    }\n",
              "\n",
              "    .dataframe thead th {\n",
              "        text-align: right;\n",
              "    }\n",
              "</style>\n",
              "<table border=\"1\" class=\"dataframe\">\n",
              "  <thead>\n",
              "    <tr style=\"text-align: right;\">\n",
              "      <th></th>\n",
              "      <th>CustomerId</th>\n",
              "      <th>Surname</th>\n",
              "      <th>CreditScore</th>\n",
              "      <th>Geography</th>\n",
              "      <th>Gender</th>\n",
              "      <th>Age</th>\n",
              "      <th>Tenure</th>\n",
              "      <th>Balance</th>\n",
              "      <th>NumOfProducts</th>\n",
              "      <th>HasCrCard</th>\n",
              "      <th>IsActiveMember</th>\n",
              "      <th>EstimatedSalary</th>\n",
              "      <th>Exited</th>\n",
              "    </tr>\n",
              "    <tr>\n",
              "      <th>RowNumber</th>\n",
              "      <th></th>\n",
              "      <th></th>\n",
              "      <th></th>\n",
              "      <th></th>\n",
              "      <th></th>\n",
              "      <th></th>\n",
              "      <th></th>\n",
              "      <th></th>\n",
              "      <th></th>\n",
              "      <th></th>\n",
              "      <th></th>\n",
              "      <th></th>\n",
              "      <th></th>\n",
              "    </tr>\n",
              "  </thead>\n",
              "  <tbody>\n",
              "    <tr>\n",
              "      <th>1</th>\n",
              "      <td>15634602</td>\n",
              "      <td>Hargrave</td>\n",
              "      <td>619</td>\n",
              "      <td>France</td>\n",
              "      <td>Female</td>\n",
              "      <td>42</td>\n",
              "      <td>2</td>\n",
              "      <td>0.00</td>\n",
              "      <td>1</td>\n",
              "      <td>1</td>\n",
              "      <td>1</td>\n",
              "      <td>101348.88</td>\n",
              "      <td>1</td>\n",
              "    </tr>\n",
              "    <tr>\n",
              "      <th>2</th>\n",
              "      <td>15647311</td>\n",
              "      <td>Hill</td>\n",
              "      <td>608</td>\n",
              "      <td>Spain</td>\n",
              "      <td>Female</td>\n",
              "      <td>41</td>\n",
              "      <td>1</td>\n",
              "      <td>83807.86</td>\n",
              "      <td>1</td>\n",
              "      <td>0</td>\n",
              "      <td>1</td>\n",
              "      <td>112542.58</td>\n",
              "      <td>0</td>\n",
              "    </tr>\n",
              "    <tr>\n",
              "      <th>3</th>\n",
              "      <td>15619304</td>\n",
              "      <td>Onio</td>\n",
              "      <td>502</td>\n",
              "      <td>France</td>\n",
              "      <td>Female</td>\n",
              "      <td>42</td>\n",
              "      <td>8</td>\n",
              "      <td>159660.80</td>\n",
              "      <td>3</td>\n",
              "      <td>1</td>\n",
              "      <td>0</td>\n",
              "      <td>113931.57</td>\n",
              "      <td>1</td>\n",
              "    </tr>\n",
              "    <tr>\n",
              "      <th>4</th>\n",
              "      <td>15701354</td>\n",
              "      <td>Boni</td>\n",
              "      <td>699</td>\n",
              "      <td>France</td>\n",
              "      <td>Female</td>\n",
              "      <td>39</td>\n",
              "      <td>1</td>\n",
              "      <td>0.00</td>\n",
              "      <td>2</td>\n",
              "      <td>0</td>\n",
              "      <td>0</td>\n",
              "      <td>93826.63</td>\n",
              "      <td>0</td>\n",
              "    </tr>\n",
              "    <tr>\n",
              "      <th>5</th>\n",
              "      <td>15737888</td>\n",
              "      <td>Mitchell</td>\n",
              "      <td>850</td>\n",
              "      <td>Spain</td>\n",
              "      <td>Female</td>\n",
              "      <td>43</td>\n",
              "      <td>2</td>\n",
              "      <td>125510.82</td>\n",
              "      <td>1</td>\n",
              "      <td>1</td>\n",
              "      <td>1</td>\n",
              "      <td>79084.10</td>\n",
              "      <td>0</td>\n",
              "    </tr>\n",
              "  </tbody>\n",
              "</table>\n",
              "</div>\n",
              "      <button class=\"colab-df-convert\" onclick=\"convertToInteractive('df-8e657c18-871e-4a72-a79d-9cf4e7845004')\"\n",
              "              title=\"Convert this dataframe to an interactive table.\"\n",
              "              style=\"display:none;\">\n",
              "        \n",
              "  <svg xmlns=\"http://www.w3.org/2000/svg\" height=\"24px\"viewBox=\"0 0 24 24\"\n",
              "       width=\"24px\">\n",
              "    <path d=\"M0 0h24v24H0V0z\" fill=\"none\"/>\n",
              "    <path d=\"M18.56 5.44l.94 2.06.94-2.06 2.06-.94-2.06-.94-.94-2.06-.94 2.06-2.06.94zm-11 1L8.5 8.5l.94-2.06 2.06-.94-2.06-.94L8.5 2.5l-.94 2.06-2.06.94zm10 10l.94 2.06.94-2.06 2.06-.94-2.06-.94-.94-2.06-.94 2.06-2.06.94z\"/><path d=\"M17.41 7.96l-1.37-1.37c-.4-.4-.92-.59-1.43-.59-.52 0-1.04.2-1.43.59L10.3 9.45l-7.72 7.72c-.78.78-.78 2.05 0 2.83L4 21.41c.39.39.9.59 1.41.59.51 0 1.02-.2 1.41-.59l7.78-7.78 2.81-2.81c.8-.78.8-2.07 0-2.86zM5.41 20L4 18.59l7.72-7.72 1.47 1.35L5.41 20z\"/>\n",
              "  </svg>\n",
              "      </button>\n",
              "      \n",
              "  <style>\n",
              "    .colab-df-container {\n",
              "      display:flex;\n",
              "      flex-wrap:wrap;\n",
              "      gap: 12px;\n",
              "    }\n",
              "\n",
              "    .colab-df-convert {\n",
              "      background-color: #E8F0FE;\n",
              "      border: none;\n",
              "      border-radius: 50%;\n",
              "      cursor: pointer;\n",
              "      display: none;\n",
              "      fill: #1967D2;\n",
              "      height: 32px;\n",
              "      padding: 0 0 0 0;\n",
              "      width: 32px;\n",
              "    }\n",
              "\n",
              "    .colab-df-convert:hover {\n",
              "      background-color: #E2EBFA;\n",
              "      box-shadow: 0px 1px 2px rgba(60, 64, 67, 0.3), 0px 1px 3px 1px rgba(60, 64, 67, 0.15);\n",
              "      fill: #174EA6;\n",
              "    }\n",
              "\n",
              "    [theme=dark] .colab-df-convert {\n",
              "      background-color: #3B4455;\n",
              "      fill: #D2E3FC;\n",
              "    }\n",
              "\n",
              "    [theme=dark] .colab-df-convert:hover {\n",
              "      background-color: #434B5C;\n",
              "      box-shadow: 0px 1px 3px 1px rgba(0, 0, 0, 0.15);\n",
              "      filter: drop-shadow(0px 1px 2px rgba(0, 0, 0, 0.3));\n",
              "      fill: #FFFFFF;\n",
              "    }\n",
              "  </style>\n",
              "\n",
              "      <script>\n",
              "        const buttonEl =\n",
              "          document.querySelector('#df-8e657c18-871e-4a72-a79d-9cf4e7845004 button.colab-df-convert');\n",
              "        buttonEl.style.display =\n",
              "          google.colab.kernel.accessAllowed ? 'block' : 'none';\n",
              "\n",
              "        async function convertToInteractive(key) {\n",
              "          const element = document.querySelector('#df-8e657c18-871e-4a72-a79d-9cf4e7845004');\n",
              "          const dataTable =\n",
              "            await google.colab.kernel.invokeFunction('convertToInteractive',\n",
              "                                                     [key], {});\n",
              "          if (!dataTable) return;\n",
              "\n",
              "          const docLinkHtml = 'Like what you see? Visit the ' +\n",
              "            '<a target=\"_blank\" href=https://colab.research.google.com/notebooks/data_table.ipynb>data table notebook</a>'\n",
              "            + ' to learn more about interactive tables.';\n",
              "          element.innerHTML = '';\n",
              "          dataTable['output_type'] = 'display_data';\n",
              "          await google.colab.output.renderOutput(dataTable, element);\n",
              "          const docLink = document.createElement('div');\n",
              "          docLink.innerHTML = docLinkHtml;\n",
              "          element.appendChild(docLink);\n",
              "        }\n",
              "      </script>\n",
              "    </div>\n",
              "  </div>\n",
              "  "
            ]
          },
          "metadata": {},
          "execution_count": 88
        }
      ]
    },
    {
      "cell_type": "code",
      "source": [
        "df.drop(labels=['Surname'], axis=1, inplace=True)"
      ],
      "metadata": {
        "id": "nc9ceur-tlQO"
      },
      "execution_count": null,
      "outputs": []
    },
    {
      "cell_type": "markdown",
      "source": [
        "Show dataset info\n",
        "---"
      ],
      "metadata": {
        "id": "yUrz0GqipCTR"
      }
    },
    {
      "cell_type": "code",
      "source": [
        "df.info()"
      ],
      "metadata": {
        "colab": {
          "base_uri": "https://localhost:8080/"
        },
        "id": "C2SEDVh6pLjd",
        "outputId": "904b69ba-7a9d-437f-e504-0717c4d4efff"
      },
      "execution_count": null,
      "outputs": [
        {
          "output_type": "stream",
          "name": "stdout",
          "text": [
            "<class 'pandas.core.frame.DataFrame'>\n",
            "Int64Index: 10000 entries, 1 to 10000\n",
            "Data columns (total 12 columns):\n",
            " #   Column           Non-Null Count  Dtype  \n",
            "---  ------           --------------  -----  \n",
            " 0   CustomerId       10000 non-null  int64  \n",
            " 1   CreditScore      10000 non-null  int64  \n",
            " 2   Geography        10000 non-null  object \n",
            " 3   Gender           10000 non-null  object \n",
            " 4   Age              10000 non-null  int64  \n",
            " 5   Tenure           10000 non-null  int64  \n",
            " 6   Balance          10000 non-null  float64\n",
            " 7   NumOfProducts    10000 non-null  int64  \n",
            " 8   HasCrCard        10000 non-null  int64  \n",
            " 9   IsActiveMember   10000 non-null  int64  \n",
            " 10  EstimatedSalary  10000 non-null  float64\n",
            " 11  Exited           10000 non-null  int64  \n",
            "dtypes: float64(2), int64(8), object(2)\n",
            "memory usage: 1015.6+ KB\n"
          ]
        }
      ]
    },
    {
      "cell_type": "code",
      "source": [
        "df.dtypes"
      ],
      "metadata": {
        "colab": {
          "base_uri": "https://localhost:8080/"
        },
        "id": "lXPLpm83oxmU",
        "outputId": "cd718402-072e-4eec-a1d1-046d789b7708"
      },
      "execution_count": null,
      "outputs": [
        {
          "output_type": "execute_result",
          "data": {
            "text/plain": [
              "CustomerId           int64\n",
              "CreditScore          int64\n",
              "Geography           object\n",
              "Gender              object\n",
              "Age                  int64\n",
              "Tenure               int64\n",
              "Balance            float64\n",
              "NumOfProducts        int64\n",
              "HasCrCard            int64\n",
              "IsActiveMember       int64\n",
              "EstimatedSalary    float64\n",
              "Exited               int64\n",
              "dtype: object"
            ]
          },
          "metadata": {},
          "execution_count": 91
        }
      ]
    },
    {
      "cell_type": "code",
      "source": [
        "df.isna().sum()"
      ],
      "metadata": {
        "colab": {
          "base_uri": "https://localhost:8080/"
        },
        "id": "6TTF5yWno6j-",
        "outputId": "9e75beb2-9301-45b8-a531-71a669d774a3"
      },
      "execution_count": null,
      "outputs": [
        {
          "output_type": "execute_result",
          "data": {
            "text/plain": [
              "CustomerId         0\n",
              "CreditScore        0\n",
              "Geography          0\n",
              "Gender             0\n",
              "Age                0\n",
              "Tenure             0\n",
              "Balance            0\n",
              "NumOfProducts      0\n",
              "HasCrCard          0\n",
              "IsActiveMember     0\n",
              "EstimatedSalary    0\n",
              "Exited             0\n",
              "dtype: int64"
            ]
          },
          "metadata": {},
          "execution_count": 92
        }
      ]
    },
    {
      "cell_type": "markdown",
      "source": [
        "It`s really good!"
      ],
      "metadata": {
        "id": "mQE2aMuJpHXN"
      }
    },
    {
      "cell_type": "code",
      "source": [
        "df.shape"
      ],
      "metadata": {
        "colab": {
          "base_uri": "https://localhost:8080/"
        },
        "id": "GM6Y7UYypFol",
        "outputId": "09d37d49-f423-49e6-964f-61c4ae477a9e"
      },
      "execution_count": null,
      "outputs": [
        {
          "output_type": "execute_result",
          "data": {
            "text/plain": [
              "(10000, 12)"
            ]
          },
          "metadata": {},
          "execution_count": 93
        }
      ]
    },
    {
      "cell_type": "code",
      "source": [
        "df.columns"
      ],
      "metadata": {
        "colab": {
          "base_uri": "https://localhost:8080/"
        },
        "id": "Q4I2o_qmpOYT",
        "outputId": "257a2209-09cf-4ff0-e5fd-c336f689d51d"
      },
      "execution_count": null,
      "outputs": [
        {
          "output_type": "execute_result",
          "data": {
            "text/plain": [
              "Index(['CustomerId', 'CreditScore', 'Geography', 'Gender', 'Age', 'Tenure',\n",
              "       'Balance', 'NumOfProducts', 'HasCrCard', 'IsActiveMember',\n",
              "       'EstimatedSalary', 'Exited'],\n",
              "      dtype='object')"
            ]
          },
          "metadata": {},
          "execution_count": 94
        }
      ]
    },
    {
      "cell_type": "markdown",
      "source": [
        "Create 2 lists with numeric columns and object-type columns"
      ],
      "metadata": {
        "id": "2gMxqM4Mpx9R"
      }
    },
    {
      "cell_type": "code",
      "source": [
        "num_col_lst = []\n",
        "obj_col_lst = []\n",
        "for col in df.columns:\n",
        "  if type(df[col].loc[1]) == str:\n",
        "    obj_col_lst.append(col)\n",
        "  else:\n",
        "    num_col_lst.append(col)\n",
        "\n",
        "print(num_col_lst, '\\n', obj_col_lst)"
      ],
      "metadata": {
        "colab": {
          "base_uri": "https://localhost:8080/"
        },
        "id": "YpvYyxGLpQsq",
        "outputId": "42f31327-1d54-4b69-88d2-4e2adccd9525"
      },
      "execution_count": null,
      "outputs": [
        {
          "output_type": "stream",
          "name": "stdout",
          "text": [
            "['CustomerId', 'CreditScore', 'Age', 'Tenure', 'Balance', 'NumOfProducts', 'HasCrCard', 'IsActiveMember', 'EstimatedSalary', 'Exited'] \n",
            " ['Geography', 'Gender']\n"
          ]
        }
      ]
    },
    {
      "cell_type": "markdown",
      "source": [
        "Visualize distributions, correlations and outliers\n",
        "---"
      ],
      "metadata": {
        "id": "6v31hsxzqM7R"
      }
    },
    {
      "cell_type": "code",
      "source": [
        "fig, ax = plt.subplots(2, 5, figsize=(20,10))\n",
        "\n",
        "for i in range(len(num_col_lst)//2):\n",
        "  ax[0][i].hist(df[num_col_lst[i]])\n",
        "  ax[0][i].set_title(num_col_lst[i])\n",
        "\n",
        "for i in range(len(num_col_lst)//2):\n",
        "  ax[1][i].hist(df[num_col_lst[i+5]])\n",
        "  ax[1][i].set_title(num_col_lst[i+5])"
      ],
      "metadata": {
        "colab": {
          "base_uri": "https://localhost:8080/",
          "height": 600
        },
        "id": "6Xumda0mqI3F",
        "outputId": "7c774af1-a70c-422a-a1d1-0e621f373d21"
      },
      "execution_count": null,
      "outputs": [
        {
          "output_type": "display_data",
          "data": {
            "text/plain": [
              "<Figure size 1440x720 with 10 Axes>"
            ],
            "image/png": "[encoded data removed]"
          },
          "metadata": {
            "needs_background": "light"
          }
        }
      ]
    },
    {
      "cell_type": "markdown",
      "source": [
        "There are 2 dummy features: HasCrCard and IsActiveMember, We almost haven`t not normal distribured columns except of balance, so we have to check it more attentively, and also we see disbalancing classes at our target feature"
      ],
      "metadata": {
        "id": "eHNt_mM2rxhZ"
      }
    },
    {
      "cell_type": "code",
      "source": [
        "sns.heatmap(df[num_col_lst].corr(), annot=True, cmap='inferno', fmt='.0g')\n",
        "None"
      ],
      "metadata": {
        "colab": {
          "base_uri": "https://localhost:8080/",
          "height": 341
        },
        "id": "oP8LX33Aqwd-",
        "outputId": "17a5b5c8-f0ff-4fa6-e2cb-b37db59275a7"
      },
      "execution_count": null,
      "outputs": [
        {
          "output_type": "display_data",
          "data": {
            "text/plain": [
              "<Figure size 432x288 with 2 Axes>"
            ],
            "image/png": "[encoded data removed]"
          },
          "metadata": {
            "needs_background": "light"
          }
        }
      ]
    },
    {
      "cell_type": "code",
      "source": [
        "df[obj_col_lst].nunique()"
      ],
      "metadata": {
        "colab": {
          "base_uri": "https://localhost:8080/"
        },
        "id": "zLDahKZ6shnU",
        "outputId": "b6db1c4d-43ea-4d3c-b299-2baed7b519cb"
      },
      "execution_count": null,
      "outputs": [
        {
          "output_type": "execute_result",
          "data": {
            "text/plain": [
              "Geography    3\n",
              "Gender       2\n",
              "dtype: int64"
            ]
          },
          "metadata": {},
          "execution_count": 98
        }
      ]
    },
    {
      "cell_type": "code",
      "source": [
        "fig, ax = plt.subplots(2, 5, figsize=(15,7))\n",
        "for i in range(5):\n",
        "  ax[0][i].boxplot(x=num_col_lst[i],\n",
        "                 data=df)\n",
        "  ax[0][i].set_title(num_col_lst[i])\n",
        "for i in range(5):\n",
        "  ax[1][i].boxplot(x=num_col_lst[i+5],\n",
        "                  data=df)\n",
        "  ax[1][i].set_title(num_col_lst[i+5])\n",
        "\n",
        "fig.suptitle('Boxplots of variables', fontsize=16)"
      ],
      "metadata": {
        "colab": {
          "base_uri": "https://localhost:8080/",
          "height": 496
        },
        "id": "8qWkdjnQvyIN",
        "outputId": "3d92f95c-c367-429f-f2d5-08f30b31f95a"
      },
      "execution_count": null,
      "outputs": [
        {
          "output_type": "execute_result",
          "data": {
            "text/plain": [
              "Text(0.5, 0.98, 'Boxplots of variables')"
            ]
          },
          "metadata": {},
          "execution_count": 99
        },
        {
          "output_type": "display_data",
          "data": {
            "text/plain": [
              "<Figure size 1080x504 with 10 Axes>"
            ],
            "image/png": "[encoded data removed]"
          },
          "metadata": {
            "needs_background": "light"
          }
        }
      ]
    },
    {
      "cell_type": "code",
      "source": [
        "df.drop(labels=['CustomerId'], axis=1, inplace=True)"
      ],
      "metadata": {
        "id": "6QoJMV67tgk5"
      },
      "execution_count": null,
      "outputs": []
    },
    {
      "cell_type": "code",
      "source": [
        "df.Age.hist()"
      ],
      "metadata": {
        "colab": {
          "base_uri": "https://localhost:8080/",
          "height": 282
        },
        "id": "ta-NP_-xuFNr",
        "outputId": "bae1b66b-9fd6-46fd-e3af-3cc1ad186a74"
      },
      "execution_count": null,
      "outputs": [
        {
          "output_type": "execute_result",
          "data": {
            "text/plain": [
              "<matplotlib.axes._subplots.AxesSubplot at 0x7f314bbc7880>"
            ]
          },
          "metadata": {},
          "execution_count": 101
        },
        {
          "output_type": "display_data",
          "data": {
            "text/plain": [
              "<Figure size 432x288 with 1 Axes>"
            ],
            "image/png": "[encoded data removed]"
          },
          "metadata": {
            "needs_background": "light"
          }
        }
      ]
    },
    {
      "cell_type": "markdown",
      "source": [
        "Swap outliers by average "
      ],
      "metadata": {
        "id": "8rZnh_tTuWuP"
      }
    },
    {
      "cell_type": "code",
      "source": [
        "# m = df.Age.mean()\n",
        "\n",
        "# q1 = np.percentile(df['Age'], 25,\n",
        "#                     interpolation = 'midpoint')\n",
        "# q2 = np.percentile(df['Age'], 75,\n",
        "#                     interpolation = 'midpoint')\n",
        "# iqr = q2 - q1\n",
        "# upper = q2 + 1.5*iqr\n",
        "# lower = q1 - 1.5*iqr\n",
        "# df.Age = df.Age.apply(\n",
        "#     lambda i: m if i > upper or i < lower else i)"
      ],
      "metadata": {
        "id": "VkQPUzF8uPqN"
      },
      "execution_count": null,
      "outputs": []
    },
    {
      "cell_type": "code",
      "source": [
        "df.Age.hist()"
      ],
      "metadata": {
        "colab": {
          "base_uri": "https://localhost:8080/",
          "height": 282
        },
        "id": "ynpEykQTu66i",
        "outputId": "4d7464e6-38f3-4d27-9819-f1f3fbf195b5"
      },
      "execution_count": null,
      "outputs": [
        {
          "output_type": "execute_result",
          "data": {
            "text/plain": [
              "<matplotlib.axes._subplots.AxesSubplot at 0x7f314ab62ac0>"
            ]
          },
          "metadata": {},
          "execution_count": 103
        },
        {
          "output_type": "display_data",
          "data": {
            "text/plain": [
              "<Figure size 432x288 with 1 Axes>"
            ],
            "image/png": "[encoded data removed]"
          },
          "metadata": {
            "needs_background": "light"
          }
        }
      ]
    },
    {
      "cell_type": "code",
      "source": [
        "new_df = pd.get_dummies(df, drop_first=True)"
      ],
      "metadata": {
        "id": "ilZOprPaxFY0"
      },
      "execution_count": null,
      "outputs": []
    },
    {
      "cell_type": "code",
      "source": [
        "y = new_df.Exited\n",
        "X = new_df.drop(labels=['Exited'], axis = 1)"
      ],
      "metadata": {
        "id": "pwOoLJqsu8qQ"
      },
      "execution_count": null,
      "outputs": []
    },
    {
      "cell_type": "code",
      "source": [
        "!pip install imblearn"
      ],
      "metadata": {
        "id": "MjzQfB2W3sRL"
      },
      "execution_count": null,
      "outputs": []
    },
    {
      "cell_type": "code",
      "source": [
        "from imblearn.over_sampling import SMOTE\n",
        "oversample = SMOTE()\n",
        "X_smoted, y_smoted = oversample.fit_resample(X, y)\n",
        "y_smoted = pd.Series(y_smoted)\n",
        "y_smoted.value_counts()"
      ],
      "metadata": {
        "colab": {
          "base_uri": "https://localhost:8080/"
        },
        "id": "yDNtPWiY30lu",
        "outputId": "c978a64f-e122-4b29-e8ec-219bc9e419b8"
      },
      "execution_count": null,
      "outputs": [
        {
          "output_type": "execute_result",
          "data": {
            "text/plain": [
              "1    7963\n",
              "0    7963\n",
              "Name: Exited, dtype: int64"
            ]
          },
          "metadata": {},
          "execution_count": 117
        }
      ]
    },
    {
      "cell_type": "code",
      "source": [
        "from sklearn.model_selection import train_test_split\n",
        "X_train, X_test, y_train, y_test = train_test_split(X_smoted, y_smoted, test_size=0.2, random_state=42, shuffle=True)"
      ],
      "metadata": {
        "id": "ZDsYNbthxamN"
      },
      "execution_count": null,
      "outputs": []
    },
    {
      "cell_type": "code",
      "source": [
        "import time\n",
        "from sklearn.svm import SVC\n",
        "from sklearn.metrics import accuracy_score, precision_score, recall_score, f1_score\n",
        "from sklearn.model_selection import train_test_split\n",
        "\n",
        "t0 = time.time()\n",
        "\n",
        "classifier = SVC(kernel = 'poly')\n",
        "classifier.fit(X_train, y_train) \n",
        "\n",
        "t1 = time.time()\n",
        "print(\"Время обучения:\", t1 - t0)\n",
        "print()\n",
        "\n",
        "y_pred_train = classifier.predict(X_train)\n",
        "self_accuracy = accuracy_score(y_train, y_pred_train)\n",
        "self_precision = precision_score(y_train, y_pred_train, average='weighted')\n",
        "self_recall = recall_score(y_train, y_pred_train, average='weighted')\n",
        "train_f1 = f1_score(y_train, y_pred_train)\n",
        "print(\"Accuracy for training data\", self_accuracy)\n",
        "print(\"Precision for training data \", self_precision)\n",
        "print(\"Recall for training data\", self_recall)\n",
        "print(\"f1-score for training data\", train_f1)\n",
        "\n",
        "print()\n",
        "\n",
        "y_pred = classifier.predict(X_test)\n",
        "test_accuracy = accuracy_score(y_test, y_pred)\n",
        "test_precision = precision_score(y_test, y_pred, average='weighted')\n",
        "test_recall = recall_score(y_test, y_pred, average='weighted')\n",
        "test_f1 = f1_score(y_test, y_pred)\n",
        "print(\"Accuracy for test data:\", test_accuracy)\n",
        "print(\"Precision for test data \", test_precision)\n",
        "print(\"Recall for test data\", test_recall)\n",
        "print(\"f1-score for test data\", test_f1)\n",
        "\n",
        "print()"
      ],
      "metadata": {
        "colab": {
          "base_uri": "https://localhost:8080/"
        },
        "id": "IR-noN8TyVJU",
        "outputId": "65d05b3f-80de-4ffc-e33d-eda6b2b1e257"
      },
      "execution_count": null,
      "outputs": [
        {
          "output_type": "stream",
          "name": "stdout",
          "text": [
            "Время обучения: 8.578508138656616\n",
            "\n",
            "Accuracy for training data 0.5302197802197802\n",
            "Precision for training data  0.5372476592277732\n",
            "Recall for training data 0.5302197802197802\n",
            "f1-score for training data 0.41819772528433946\n",
            "\n",
            "Accuracy for test data: 0.5332705586942875\n",
            "Precision for test data  0.5333934161406563\n",
            "Recall for test data 0.5332705586942875\n",
            "f1-score for test data 0.41248518372184906\n",
            "\n"
          ]
        }
      ]
    },
    {
      "cell_type": "code",
      "source": [
        "import time\n",
        "from sklearn.neighbors import KNeighborsClassifier\n",
        "from sklearn.metrics import accuracy_score, precision_score, recall_score, f1_score\n",
        "from sklearn.model_selection import train_test_split\n",
        "\n",
        "t0 = time.time()\n",
        "\n",
        "classifier = KNeighborsClassifier()\n",
        "classifier.fit(X_train, y_train) \n",
        "\n",
        "t1 = time.time()\n",
        "print(\"Время обучения:\", t1 - t0)\n",
        "print()\n",
        "\n",
        "y_pred_train = classifier.predict(X_train)\n",
        "self_accuracy = accuracy_score(y_train, y_pred_train)\n",
        "self_precision = precision_score(y_train, y_pred_train, average='weighted')\n",
        "self_recall = recall_score(y_train, y_pred_train, average='weighted')\n",
        "train_f1 = f1_score(y_train, y_pred_train)\n",
        "print(\"Accuracy for training data\", self_accuracy)\n",
        "print(\"Precision for training data \", self_precision)\n",
        "print(\"Recall for training data\", self_recall)\n",
        "print(\"f1-score for training data\", train_f1)\n",
        "\n",
        "print()\n",
        "\n",
        "y_pred = classifier.predict(X_test)\n",
        "test_accuracy = accuracy_score(y_test, y_pred)\n",
        "test_precision = precision_score(y_test, y_pred, average='weighted')\n",
        "test_recall = recall_score(y_test, y_pred, average='weighted')\n",
        "test_f1 = f1_score(y_test, y_pred)\n",
        "print(\"Accuracy for test data:\", test_accuracy)\n",
        "print(\"Precision for test data \", test_precision)\n",
        "print(\"Recall for test data\", test_recall)\n",
        "print(\"f1-score for test data\", test_f1)\n",
        "\n",
        "print()"
      ],
      "metadata": {
        "colab": {
          "base_uri": "https://localhost:8080/"
        },
        "id": "APjylC1xyXQl",
        "outputId": "8845a044-b874-492f-81fd-260fc32e57ae"
      },
      "execution_count": null,
      "outputs": [
        {
          "output_type": "stream",
          "name": "stdout",
          "text": [
            "Время обучения: 0.026108264923095703\n",
            "\n",
            "Accuracy for training data 0.7938775510204081\n",
            "Precision for training data  0.7998223704217637\n",
            "Recall for training data 0.7938775510204081\n",
            "f1-score for training data 0.8087399854333577\n",
            "\n",
            "Accuracy for test data: 0.6839296924042687\n",
            "Precision for test data  0.6930688283210503\n",
            "Recall for test data 0.6839296924042687\n",
            "f1-score for test data 0.7058136137890738\n",
            "\n"
          ]
        }
      ]
    },
    {
      "cell_type": "code",
      "source": [
        "import time\n",
        "from sklearn.tree import DecisionTreeClassifier\n",
        "from sklearn.metrics import accuracy_score, precision_score, recall_score, f1_score\n",
        "from sklearn.model_selection import train_test_split\n",
        "\n",
        "t0 = time.time()\n",
        "\n",
        "classifier = DecisionTreeClassifier()\n",
        "classifier.fit(X_train, y_train) \n",
        "\n",
        "t1 = time.time()\n",
        "print(\"Время обучения:\", t1 - t0)\n",
        "print()\n",
        "\n",
        "y_pred_train = classifier.predict(X_train)\n",
        "self_accuracy = accuracy_score(y_train, y_pred_train)\n",
        "self_precision = precision_score(y_train, y_pred_train, average='weighted')\n",
        "self_recall = recall_score(y_train, y_pred_train, average='weighted')\n",
        "train_f1 = f1_score(y_train, y_pred_train)\n",
        "print(\"Accuracy for training data\", self_accuracy)\n",
        "print(\"Precision for training data \", self_precision)\n",
        "print(\"Recall for training data\", self_recall)\n",
        "print(\"f1-score for training data\", train_f1)\n",
        "\n",
        "print()\n",
        "\n",
        "y_pred = classifier.predict(X_test)\n",
        "test_accuracy = accuracy_score(y_test, y_pred)\n",
        "test_precision = precision_score(y_test, y_pred, average='weighted')\n",
        "test_recall = recall_score(y_test, y_pred, average='weighted')\n",
        "test_f1 = f1_score(y_test, y_pred)\n",
        "print(\"Accuracy for test data:\", test_accuracy)\n",
        "print(\"Precision for test data \", test_precision)\n",
        "print(\"Recall for test data\", test_recall)\n",
        "print(\"f1-score for test data\", test_f1)\n",
        "\n",
        "print()"
      ],
      "metadata": {
        "colab": {
          "base_uri": "https://localhost:8080/"
        },
        "id": "nPHDRNBIytqj",
        "outputId": "1925246e-2bb4-432b-9ed0-5f68965ca75c"
      },
      "execution_count": null,
      "outputs": [
        {
          "output_type": "stream",
          "name": "stdout",
          "text": [
            "Время обучения: 0.0799405574798584\n",
            "\n",
            "Accuracy for training data 1.0\n",
            "Precision for training data  1.0\n",
            "Recall for training data 1.0\n",
            "f1-score for training data 1.0\n",
            "\n",
            "Accuracy for test data: 0.7915881983678594\n",
            "Precision for test data  0.7927214996945403\n",
            "Recall for test data 0.7915881983678594\n",
            "f1-score for test data 0.7919799498746867\n",
            "\n"
          ]
        }
      ]
    },
    {
      "cell_type": "code",
      "source": [
        "from xgboost import XGBClassifier\n",
        "model = XGBClassifier(n_estimators=1000, max_depth=13, eta=0.3)\n",
        "model.fit(X_train, y_train)\n",
        "y_pred = model.predict(X_test)\n",
        "print('f1_score: ', round(f1_score(y_test, y_pred), 2))\n",
        "fig, ax = plt.subplots(1,1, figsize=(10,7))\n",
        "ax.plot(sorted(y_test), color=\"b\")\n",
        "ax.plot(sorted(y_pred), color=\"r\")\n",
        "ax.legend(['test', 'pred'])\n",
        "None"
      ],
      "metadata": {
        "colab": {
          "base_uri": "https://localhost:8080/",
          "height": 445
        },
        "id": "DIbgW3HYywUt",
        "outputId": "691bba55-3625-4731-a0f5-fce0a468d551"
      },
      "execution_count": null,
      "outputs": [
        {
          "output_type": "stream",
          "name": "stdout",
          "text": [
            "f1_score:  0.88\n"
          ]
        },
        {
          "output_type": "display_data",
          "data": {
            "text/plain": [
              "<Figure size 720x504 with 1 Axes>"
            ],
            "image/png": "[encoded data removed]"
          },
          "metadata": {
            "needs_background": "light"
          }
        }
      ]
    },
    {
      "cell_type": "code",
      "source": [
        "from sklearn.model_selection import RandomizedSearchCV, GridSearchCV\n",
        "from sklearn.metrics import roc_auc_score\n",
        "from sklearn.model_selection import StratifiedKFold\n",
        "from xgboost import XGBClassifier"
      ],
      "metadata": {
        "id": "J7si5CTP48KR"
      },
      "execution_count": null,
      "outputs": []
    },
    {
      "cell_type": "code",
      "source": [
        "# A parameter grid for XGBoost\n",
        "params = {\n",
        "        'min_child_weight': [1, 5, 10],\n",
        "        'gamma': [0.5, 1, 1.5, 2, 5],\n",
        "        'subsample': [0.6, 0.8, 1.0],\n",
        "        'colsample_bytree': [0.6, 0.8, 1.0],\n",
        "        'max_depth': [6, 8, 10]\n",
        "        }"
      ],
      "metadata": {
        "id": "Fn8ifqrZ3TmZ"
      },
      "execution_count": null,
      "outputs": []
    },
    {
      "cell_type": "code",
      "source": [
        "xgb = XGBClassifier(learning_rate=0.02, n_estimators=600, objective='binary:logistic',\n",
        "                    silent=True, nthread=1)"
      ],
      "metadata": {
        "id": "Af0p27dK4uzj"
      },
      "execution_count": null,
      "outputs": []
    },
    {
      "cell_type": "code",
      "source": [
        "folds = 3\n",
        "param_comb = 5\n",
        "\n",
        "skf = StratifiedKFold(n_splits=folds, shuffle = True, random_state = 1001)\n",
        "\n",
        "random_search = RandomizedSearchCV(xgb, param_distributions=params, n_iter=param_comb, scoring='f1', n_jobs=-1, cv=skf.split(X_smoted,y_smoted), verbose=3, random_state=1001 )\n",
        "\n",
        "# Here we go\n",
        "random_search.fit(X_smoted, y_smoted)"
      ],
      "metadata": {
        "colab": {
          "base_uri": "https://localhost:8080/"
        },
        "id": "QjOg9fU44wx_",
        "outputId": "4ef10ec2-661a-42ff-a897-48d2b5a503a9"
      },
      "execution_count": null,
      "outputs": [
        {
          "output_type": "stream",
          "name": "stdout",
          "text": [
            "Fitting 3 folds for each of 5 candidates, totalling 15 fits\n"
          ]
        },
        {
          "output_type": "execute_result",
          "data": {
            "text/plain": [
              "RandomizedSearchCV(cv=<generator object _BaseKFold.split at 0x7f313ee07cf0>,\n",
              "                   estimator=XGBClassifier(learning_rate=0.02, n_estimators=600,\n",
              "                                           nthread=1, silent=True),\n",
              "                   n_iter=5, n_jobs=-1,\n",
              "                   param_distributions={'colsample_bytree': [0.6, 0.8, 1.0],\n",
              "                                        'gamma': [0.5, 1, 1.5, 2, 5],\n",
              "                                        'max_depth': [6, 8, 10],\n",
              "                                        'min_child_weight': [1, 5, 10],\n",
              "                                        'subsample': [0.6, 0.8, 1.0]},\n",
              "                   random_state=1001, scoring='f1', verbose=3)"
            ]
          },
          "metadata": {},
          "execution_count": 143
        }
      ]
    },
    {
      "cell_type": "code",
      "source": [
        "print('\\n All results:')\n",
        "print(random_search.cv_results_)\n",
        "print('\\n Best estimator:')\n",
        "print(random_search.best_estimator_)\n",
        "print('\\n Best normalized gini score for %d-fold search with %d parameter combinations:' % (folds, param_comb))\n",
        "print(random_search.best_score_ * 2 - 1)\n",
        "print('\\n Best hyperparameters:')\n",
        "print(random_search.best_params_)\n",
        "results = pd.DataFrame(random_search.cv_results_)\n",
        "results.to_csv('xgb-random-grid-search-results-01.csv', index=False)"
      ],
      "metadata": {
        "colab": {
          "base_uri": "https://localhost:8080/"
        },
        "id": "SsN0nhc644WE",
        "outputId": "44cd7ac9-f7dd-49c2-cd2d-2672928c83d4"
      },
      "execution_count": null,
      "outputs": [
        {
          "output_type": "stream",
          "name": "stdout",
          "text": [
            "\n",
            " All results:\n",
            "{'mean_fit_time': array([10.86047411, 17.90993118, 17.63918336, 12.86202041, 15.1391271 ]), 'std_fit_time': array([0.08521381, 0.05869828, 1.04810266, 0.07973964, 2.34369186]), 'mean_score_time': array([0.1501464 , 0.67755612, 0.56041169, 0.36654965, 0.41780663]), 'std_score_time': array([0.00917532, 0.01604973, 0.00941475, 0.01473679, 0.04547489]), 'param_subsample': masked_array(data=[1.0, 0.6, 0.8, 1.0, 0.8],\n",
            "             mask=[False, False, False, False, False],\n",
            "       fill_value='?',\n",
            "            dtype=object), 'param_min_child_weight': masked_array(data=[5, 1, 5, 5, 1],\n",
            "             mask=[False, False, False, False, False],\n",
            "       fill_value='?',\n",
            "            dtype=object), 'param_max_depth': masked_array(data=[6, 10, 10, 10, 8],\n",
            "             mask=[False, False, False, False, False],\n",
            "       fill_value='?',\n",
            "            dtype=object), 'param_gamma': masked_array(data=[5, 1.5, 1, 5, 1],\n",
            "             mask=[False, False, False, False, False],\n",
            "       fill_value='?',\n",
            "            dtype=object), 'param_colsample_bytree': masked_array(data=[1.0, 0.8, 0.8, 0.6, 1.0],\n",
            "             mask=[False, False, False, False, False],\n",
            "       fill_value='?',\n",
            "            dtype=object), 'params': [{'subsample': 1.0, 'min_child_weight': 5, 'max_depth': 6, 'gamma': 5, 'colsample_bytree': 1.0}, {'subsample': 0.6, 'min_child_weight': 1, 'max_depth': 10, 'gamma': 1.5, 'colsample_bytree': 0.8}, {'subsample': 0.8, 'min_child_weight': 5, 'max_depth': 10, 'gamma': 1, 'colsample_bytree': 0.8}, {'subsample': 1.0, 'min_child_weight': 5, 'max_depth': 10, 'gamma': 5, 'colsample_bytree': 0.6}, {'subsample': 0.8, 'min_child_weight': 1, 'max_depth': 8, 'gamma': 1, 'colsample_bytree': 1.0}], 'split0_test_score': array([0.84072312, 0.86395459, 0.85762969, 0.84833585, 0.85999623]), 'split1_test_score': array([0.83327046, 0.86168224, 0.8553271 , 0.85155956, 0.85938083]), 'split2_test_score': array([0.84296578, 0.86768304, 0.86273771, 0.85513841, 0.86246472]), 'mean_test_score': array([0.83898645, 0.86443996, 0.85856483, 0.85167794, 0.86061393]), 'std_test_score': array([0.00414422, 0.00247374, 0.00309679, 0.00277839, 0.00133261]), 'rank_test_score': array([5, 1, 3, 4, 2], dtype=int32)}\n",
            "\n",
            " Best estimator:\n",
            "XGBClassifier(colsample_bytree=0.8, gamma=1.5, learning_rate=0.02, max_depth=10,\n",
            "              n_estimators=600, nthread=1, silent=True, subsample=0.6)\n",
            "\n",
            " Best normalized gini score for 3-fold search with 5 parameter combinations:\n",
            "0.7288799153630927\n",
            "\n",
            " Best hyperparameters:\n",
            "{'subsample': 0.6, 'min_child_weight': 1, 'max_depth': 10, 'gamma': 1.5, 'colsample_bytree': 0.8}\n"
          ]
        }
      ]
    },
    {
      "cell_type": "code",
      "source": [
        "from xgboost import XGBClassifier\n",
        "model = XGBClassifier(colsample_bytree=0.8, gamma=1.5, learning_rate=0.02, max_depth=10,\n",
        "              n_estimators=600, nthread=1, silent=True, subsample=0.6)\n",
        "model.fit(X_train, y_train)\n",
        "y_pred = model.predict(X_test)\n",
        "print('f1_score: ', round(f1_score(y_test, y_pred), 2))\n",
        "fig, ax = plt.subplots(1,1, figsize=(10,7))\n",
        "ax.plot(sorted(y_test), color=\"b\")\n",
        "ax.plot(sorted(y_pred), color=\"r\")\n",
        "ax.legend(['test', 'pred'])\n",
        "None"
      ],
      "metadata": {
        "colab": {
          "base_uri": "https://localhost:8080/",
          "height": 445
        },
        "id": "-Da2SdRp5L6s",
        "outputId": "782497c4-6132-425e-82ef-6ec9d74edb04"
      },
      "execution_count": null,
      "outputs": [
        {
          "output_type": "stream",
          "name": "stdout",
          "text": [
            "f1_score:  0.88\n"
          ]
        },
        {
          "output_type": "display_data",
          "data": {
            "text/plain": [
              "<Figure size 720x504 with 1 Axes>"
            ],
            "image/png": "[encoded data removed]"
          },
          "metadata": {
            "needs_background": "light"
          }
        }
      ]
    },
    {
      "cell_type": "code",
      "source": [],
      "metadata": {
        "id": "H5LNPMYJ5fiD"
      },
      "execution_count": null,
      "outputs": []
    }
  ]
}