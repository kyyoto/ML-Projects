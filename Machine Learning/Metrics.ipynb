{
  "nbformat": 4,
  "nbformat_minor": 0,
  "metadata": {
    "colab": {
      "provenance": []
    },
    "kernelspec": {
      "name": "python3",
      "display_name": "Python 3"
    },
    "language_info": {
      "name": "python"
    }
  },
  "cells": [
    {
      "cell_type": "markdown",
      "source": [
        "Data preparation\n",
        "---"
      ],
      "metadata": {
        "id": "UlI2enY0G1KH"
      }
    },
    {
      "cell_type": "code",
      "source": [
        "import pandas as pd\n",
        "import numpy as np\n",
        "from sklearn.model_selection import train_test_split\n",
        "from sklearn.metrics import accuracy_score, roc_curve, auc, f1_score\n",
        "import time\n",
        "import matplotlib.pyplot as plt"
      ],
      "metadata": {
        "id": "_Q0dhknVF4lx"
      },
      "execution_count": null,
      "outputs": []
    },
    {
      "cell_type": "code",
      "source": [
        "data = pd.read_csv('heart.csv')\n",
        "data.head(1)"
      ],
      "metadata": {
        "colab": {
          "base_uri": "https://localhost:8080/",
          "height": 145
        },
        "id": "LXFwRGaWGYUG",
        "outputId": "ebc3c364-2d60-4f3a-a621-41a06bb4e920"
      },
      "execution_count": null,
      "outputs": [
        {
          "output_type": "execute_result",
          "data": {
            "text/plain": [
              "   Age Sex ChestPainType  RestingBP  Cholesterol  FastingBS RestingECG  MaxHR  \\\n",
              "0   40   M           ATA        140          289          0     Normal    172   \n",
              "\n",
              "  ExerciseAngina  Oldpeak ST_Slope  HeartDisease  \n",
              "0              N      0.0       Up             0  "
            ],
            "text/html": [
              "\n",
              "  <div id=\"df-c8d4637a-559c-4bf9-9b8e-40b04c2984ee\">\n",
              "    <div class=\"colab-df-container\">\n",
              "      <div>\n",
              "<style scoped>\n",
              "    .dataframe tbody tr th:only-of-type {\n",
              "        vertical-align: middle;\n",
              "    }\n",
              "\n",
              "    .dataframe tbody tr th {\n",
              "        vertical-align: top;\n",
              "    }\n",
              "\n",
              "    .dataframe thead th {\n",
              "        text-align: right;\n",
              "    }\n",
              "</style>\n",
              "<table border=\"1\" class=\"dataframe\">\n",
              "  <thead>\n",
              "    <tr style=\"text-align: right;\">\n",
              "      <th></th>\n",
              "      <th>Age</th>\n",
              "      <th>Sex</th>\n",
              "      <th>ChestPainType</th>\n",
              "      <th>RestingBP</th>\n",
              "      <th>Cholesterol</th>\n",
              "      <th>FastingBS</th>\n",
              "      <th>RestingECG</th>\n",
              "      <th>MaxHR</th>\n",
              "      <th>ExerciseAngina</th>\n",
              "      <th>Oldpeak</th>\n",
              "      <th>ST_Slope</th>\n",
              "      <th>HeartDisease</th>\n",
              "    </tr>\n",
              "  </thead>\n",
              "  <tbody>\n",
              "    <tr>\n",
              "      <th>0</th>\n",
              "      <td>40</td>\n",
              "      <td>M</td>\n",
              "      <td>ATA</td>\n",
              "      <td>140</td>\n",
              "      <td>289</td>\n",
              "      <td>0</td>\n",
              "      <td>Normal</td>\n",
              "      <td>172</td>\n",
              "      <td>N</td>\n",
              "      <td>0.0</td>\n",
              "      <td>Up</td>\n",
              "      <td>0</td>\n",
              "    </tr>\n",
              "  </tbody>\n",
              "</table>\n",
              "</div>\n",
              "      <button class=\"colab-df-convert\" onclick=\"convertToInteractive('df-c8d4637a-559c-4bf9-9b8e-40b04c2984ee')\"\n",
              "              title=\"Convert this dataframe to an interactive table.\"\n",
              "              style=\"display:none;\">\n",
              "        \n",
              "  <svg xmlns=\"http://www.w3.org/2000/svg\" height=\"24px\"viewBox=\"0 0 24 24\"\n",
              "       width=\"24px\">\n",
              "    <path d=\"M0 0h24v24H0V0z\" fill=\"none\"/>\n",
              "    <path d=\"M18.56 5.44l.94 2.06.94-2.06 2.06-.94-2.06-.94-.94-2.06-.94 2.06-2.06.94zm-11 1L8.5 8.5l.94-2.06 2.06-.94-2.06-.94L8.5 2.5l-.94 2.06-2.06.94zm10 10l.94 2.06.94-2.06 2.06-.94-2.06-.94-.94-2.06-.94 2.06-2.06.94z\"/><path d=\"M17.41 7.96l-1.37-1.37c-.4-.4-.92-.59-1.43-.59-.52 0-1.04.2-1.43.59L10.3 9.45l-7.72 7.72c-.78.78-.78 2.05 0 2.83L4 21.41c.39.39.9.59 1.41.59.51 0 1.02-.2 1.41-.59l7.78-7.78 2.81-2.81c.8-.78.8-2.07 0-2.86zM5.41 20L4 18.59l7.72-7.72 1.47 1.35L5.41 20z\"/>\n",
              "  </svg>\n",
              "      </button>\n",
              "      \n",
              "  <style>\n",
              "    .colab-df-container {\n",
              "      display:flex;\n",
              "      flex-wrap:wrap;\n",
              "      gap: 12px;\n",
              "    }\n",
              "\n",
              "    .colab-df-convert {\n",
              "      background-color: #E8F0FE;\n",
              "      border: none;\n",
              "      border-radius: 50%;\n",
              "      cursor: pointer;\n",
              "      display: none;\n",
              "      fill: #1967D2;\n",
              "      height: 32px;\n",
              "      padding: 0 0 0 0;\n",
              "      width: 32px;\n",
              "    }\n",
              "\n",
              "    .colab-df-convert:hover {\n",
              "      background-color: #E2EBFA;\n",
              "      box-shadow: 0px 1px 2px rgba(60, 64, 67, 0.3), 0px 1px 3px 1px rgba(60, 64, 67, 0.15);\n",
              "      fill: #174EA6;\n",
              "    }\n",
              "\n",
              "    [theme=dark] .colab-df-convert {\n",
              "      background-color: #3B4455;\n",
              "      fill: #D2E3FC;\n",
              "    }\n",
              "\n",
              "    [theme=dark] .colab-df-convert:hover {\n",
              "      background-color: #434B5C;\n",
              "      box-shadow: 0px 1px 3px 1px rgba(0, 0, 0, 0.15);\n",
              "      filter: drop-shadow(0px 1px 2px rgba(0, 0, 0, 0.3));\n",
              "      fill: #FFFFFF;\n",
              "    }\n",
              "  </style>\n",
              "\n",
              "      <script>\n",
              "        const buttonEl =\n",
              "          document.querySelector('#df-c8d4637a-559c-4bf9-9b8e-40b04c2984ee button.colab-df-convert');\n",
              "        buttonEl.style.display =\n",
              "          google.colab.kernel.accessAllowed ? 'block' : 'none';\n",
              "\n",
              "        async function convertToInteractive(key) {\n",
              "          const element = document.querySelector('#df-c8d4637a-559c-4bf9-9b8e-40b04c2984ee');\n",
              "          const dataTable =\n",
              "            await google.colab.kernel.invokeFunction('convertToInteractive',\n",
              "                                                     [key], {});\n",
              "          if (!dataTable) return;\n",
              "\n",
              "          const docLinkHtml = 'Like what you see? Visit the ' +\n",
              "            '<a target=\"_blank\" href=https://colab.research.google.com/notebooks/data_table.ipynb>data table notebook</a>'\n",
              "            + ' to learn more about interactive tables.';\n",
              "          element.innerHTML = '';\n",
              "          dataTable['output_type'] = 'display_data';\n",
              "          await google.colab.output.renderOutput(dataTable, element);\n",
              "          const docLink = document.createElement('div');\n",
              "          docLink.innerHTML = docLinkHtml;\n",
              "          element.appendChild(docLink);\n",
              "        }\n",
              "      </script>\n",
              "    </div>\n",
              "  </div>\n",
              "  "
            ]
          },
          "metadata": {},
          "execution_count": 70
        }
      ]
    },
    {
      "cell_type": "code",
      "execution_count": null,
      "metadata": {
        "id": "1adUxq_LFn7K"
      },
      "outputs": [],
      "source": [
        "target = \"HeartDisease\"\n",
        "y = data[target]\n",
        "x = data.drop(target, axis=1)\n",
        "x = pd.get_dummies(x)"
      ]
    },
    {
      "cell_type": "code",
      "source": [
        "y[y==1].count()"
      ],
      "metadata": {
        "colab": {
          "base_uri": "https://localhost:8080/"
        },
        "id": "QF1heqRN8e5y",
        "outputId": "f70fcd06-30ce-40b2-fef6-a791af8ed32d"
      },
      "execution_count": null,
      "outputs": [
        {
          "output_type": "execute_result",
          "data": {
            "text/plain": [
              "508"
            ]
          },
          "metadata": {},
          "execution_count": 83
        }
      ]
    },
    {
      "cell_type": "code",
      "source": [
        "y[y==0].count()"
      ],
      "metadata": {
        "colab": {
          "base_uri": "https://localhost:8080/"
        },
        "id": "9jh3tINt8smq",
        "outputId": "81db4b45-a8da-4fcd-ff32-e7ca5792d9f7"
      },
      "execution_count": null,
      "outputs": [
        {
          "output_type": "execute_result",
          "data": {
            "text/plain": [
              "410"
            ]
          },
          "metadata": {},
          "execution_count": 84
        }
      ]
    },
    {
      "cell_type": "code",
      "source": [
        "x_train, x_test, y_train, y_test = train_test_split(\n",
        "        x, y,\n",
        "        train_size=0.8,\n",
        "        test_size=0.2\n",
        "    )"
      ],
      "metadata": {
        "id": "H0LxyobXG6UA"
      },
      "execution_count": null,
      "outputs": []
    },
    {
      "cell_type": "code",
      "source": [
        "ax = list()\n",
        "auc_lst = list()"
      ],
      "metadata": {
        "id": "T_tY9GffHMcH"
      },
      "execution_count": null,
      "outputs": []
    },
    {
      "cell_type": "markdown",
      "source": [
        "Tossing a die\n",
        "---"
      ],
      "metadata": {
        "id": "wIu6PuB5GrVf"
      }
    },
    {
      "cell_type": "code",
      "source": [
        "from sklearn.naive_bayes import GaussianNB\n",
        "\n",
        "t0 = time.time()\n",
        "\n",
        "model = GaussianNB()\n",
        "model.fit(x_train, y_train)\n",
        "model.predict_proba(x_train)\n",
        "\n",
        "y_pred_train = model.predict(x_train)\n",
        "accuracy_score(y_train, y_pred_train)\n",
        "\n",
        "# f1 = f1_score(y_valid, y_pred)\n",
        "\n",
        "# probs = y_pred_proba[:, 1]\n",
        "# fpr, tpr, treshold = roc_curve(y_test, probs)\n",
        "# plt.plot(fpr, tpr)\n",
        "# plt.xlabel('False Positive Rate')\n",
        "# plt.ylabel('True Positive Rate')\n",
        "# plt.title('ROC-кривая')\n",
        "# plt.show()\n",
        "# roc_auc = auc(fpr, tpr)\n",
        "\n",
        "t1 = time.time()\n",
        "print(\"Время обучения:\", t1 - t0)\n",
        "\n",
        "\n",
        "y_pred_train = model.predict(x_train)\n",
        "\n",
        "y_pred = model.predict(x_test)\n",
        "\n",
        "f1 = f1_score(y_test, y_pred)\n",
        "\n",
        "y_pred = model.predict(x_test)\n",
        "y_pred_proba = model.predict_proba(x_test)\n",
        "\n",
        "print(\"Accuracy for training data\", accuracy_score(y_train, y_pred_train))\n",
        "print(\"Accuracy for test data:\", accuracy_score(y_test, y_pred))\n",
        "print('f1 score', f1)"
      ],
      "metadata": {
        "colab": {
          "base_uri": "https://localhost:8080/"
        },
        "id": "QseIVJpVGTts",
        "outputId": "bb403422-2d8b-468c-c549-4c3931793689"
      },
      "execution_count": null,
      "outputs": [
        {
          "output_type": "stream",
          "name": "stdout",
          "text": [
            "Время обучения: 0.052573204040527344\n",
            "Accuracy for training data 0.8583106267029973\n",
            "Accuracy for test data: 0.8695652173913043\n",
            "f1 score 0.883495145631068\n"
          ]
        }
      ]
    },
    {
      "cell_type": "markdown",
      "source": [
        "Logistic Regression\n",
        "---"
      ],
      "metadata": {
        "id": "Qs-MT_X_OvWe"
      }
    },
    {
      "cell_type": "code",
      "source": [
        "import time\n",
        "from sklearn.linear_model import LogisticRegression\n",
        "from sklearn.metrics import accuracy_score, precision_score, recall_score\n",
        "from sklearn.model_selection import train_test_split\n",
        "\n",
        "t0 = time.time()\n",
        "\n",
        "model = LogisticRegression(max_iter=1000)\n",
        "model.fit(x_train, y_train) \n",
        "\n",
        "t1 = time.time()\n",
        "print(\"Время обучения:\", t1 - t0)\n",
        "print()\n",
        "\n",
        "y_pred_train = model.predict(x_train)\n",
        "\n",
        "y_pred = model.predict(x_test)\n",
        "\n",
        "f1 = f1_score(y_test, y_pred)\n",
        "\n",
        "y_pred = model.predict(x_test)\n",
        "y_pred_proba = model.predict_proba(x_test)\n",
        "\n",
        "print(\"Accuracy for training data\", accuracy_score(y_train, y_pred_train))\n",
        "print(\"Accuracy for test data:\", accuracy_score(y_test, y_pred))\n",
        "print('f1 score', f1)\n"
      ],
      "metadata": {
        "colab": {
          "base_uri": "https://localhost:8080/"
        },
        "id": "SdWkla0AOxxR",
        "outputId": "e07868f9-1c9a-4fd3-ce61-8ec75f483ef6"
      },
      "execution_count": null,
      "outputs": [
        {
          "output_type": "stream",
          "name": "stdout",
          "text": [
            "Время обучения: 0.24902820587158203\n",
            "\n",
            "Accuracy for training data 0.8651226158038147\n",
            "Accuracy for test data: 0.8858695652173914\n",
            "f1 score 0.8839779005524863\n"
          ]
        }
      ]
    },
    {
      "cell_type": "code",
      "source": [
        "fpr1, tpr1, thresholds = roc_curve(y_test, model.predict_proba(x_test)[:,1])\n",
        "\n",
        "roc_auc = auc(fpr1, tpr1)\n",
        "auc_lst.append(roc_auc)\n",
        "print('AUC', roc_auc)\n",
        "\n",
        "plt.plot(fpr1, tpr1)\n",
        "plt.xlabel('False Positive Rate')\n",
        "plt.ylabel('True Positive Rate')\n",
        "plt.title('ROC-кривая')\n",
        "plt.show()"
      ],
      "metadata": {
        "colab": {
          "base_uri": "https://localhost:8080/",
          "height": 312
        },
        "id": "0HkmNaesPBd6",
        "outputId": "47c7fb87-6032-41bb-c1de-12cb08a0f916"
      },
      "execution_count": null,
      "outputs": [
        {
          "output_type": "stream",
          "name": "stdout",
          "text": [
            "AUC 0.9233223062381853\n"
          ]
        },
        {
          "output_type": "display_data",
          "data": {
            "text/plain": [
              "<Figure size 432x288 with 1 Axes>"
            ],
            "image/png": "[encoded data removed]"
          },
          "metadata": {
            "needs_background": "light"
          }
        }
      ]
    },
    {
      "cell_type": "markdown",
      "source": [
        "SVC kernel = linear\n",
        "---"
      ],
      "metadata": {
        "id": "oV3ubEs9IlzS"
      }
    },
    {
      "cell_type": "code",
      "source": [
        "import time\n",
        "from sklearn.svm import SVC\n",
        "from sklearn.metrics import accuracy_score, precision_score, recall_score\n",
        "from sklearn.model_selection import train_test_split\n",
        "\n",
        "t0 = time.time()\n",
        "\n",
        "model = SVC(kernel = 'linear', probability = True)\n",
        "model.fit(x_train, y_train) \n",
        "\n",
        "t1 = time.time()\n",
        "print(\"Время обучения:\", t1 - t0)\n",
        "print()\n",
        "\n",
        "y_pred_train = model.predict(x_train)\n",
        "\n",
        "y_pred = model.predict(x_test)\n",
        "\n",
        "f1 = f1_score(y_test, y_pred)\n",
        "\n",
        "y_pred = model.predict(x_test)\n",
        "y_pred_proba = model.predict_proba(x_test)\n",
        "\n",
        "print(\"Accuracy for training data\", accuracy_score(y_train, y_pred_train))\n",
        "print(\"Accuracy for test data:\", accuracy_score(y_test, y_pred))\n",
        "print('f1 score', f1)\n"
      ],
      "metadata": {
        "colab": {
          "base_uri": "https://localhost:8080/"
        },
        "id": "EJowywQgH9mA",
        "outputId": "601bd08e-f4fa-4863-b06d-d485956ccc88"
      },
      "execution_count": null,
      "outputs": [
        {
          "output_type": "stream",
          "name": "stdout",
          "text": [
            "Время обучения: 14.306233644485474\n",
            "\n",
            "Accuracy for training data 0.8623978201634878\n",
            "Accuracy for test data: 0.8858695652173914\n",
            "f1 score 0.8839779005524863\n"
          ]
        }
      ]
    },
    {
      "cell_type": "code",
      "source": [
        "fpr2, tpr2, thresholds = roc_curve(y_test, model.predict_proba(x_test)[:,1])\n",
        "\n",
        "roc_auc = auc(fpr2, tpr2)\n",
        "auc_lst.append(roc_auc)\n",
        "print('AUC', roc_auc)\n",
        "\n",
        "plt.plot(fpr2, tpr2)\n",
        "plt.xlabel('False Positive Rate')\n",
        "plt.ylabel('True Positive Rate')\n",
        "plt.title('ROC-кривая')\n",
        "plt.show()"
      ],
      "metadata": {
        "colab": {
          "base_uri": "https://localhost:8080/",
          "height": 312
        },
        "id": "r3JbSwhkLwZp",
        "outputId": "feec0ff5-9d9c-4602-a133-e6ac66bad97e"
      },
      "execution_count": null,
      "outputs": [
        {
          "output_type": "stream",
          "name": "stdout",
          "text": [
            "AUC 0.9242674858223062\n"
          ]
        },
        {
          "output_type": "display_data",
          "data": {
            "text/plain": [
              "<Figure size 432x288 with 1 Axes>"
            ],
            "image/png": "[encoded data removed]"
          },
          "metadata": {
            "needs_background": "light"
          }
        }
      ]
    },
    {
      "cell_type": "markdown",
      "source": [
        "Linear Discriminant Analysis\n",
        "---"
      ],
      "metadata": {
        "id": "MSpelKGAPaAX"
      }
    },
    {
      "cell_type": "code",
      "source": [
        "from sklearn.discriminant_analysis import LinearDiscriminantAnalysis\n",
        "import time\n",
        "from sklearn.metrics import accuracy_score, precision_score, recall_score\n",
        "from sklearn.model_selection import train_test_split\n",
        "\n",
        "t0 = time.time()\n",
        "\n",
        "model = SVC(kernel = 'linear', probability = True)\n",
        "model.fit(x_train, y_train) \n",
        "\n",
        "t1 = time.time()\n",
        "print(\"Время обучения:\", t1 - t0)\n",
        "print()\n",
        "\n",
        "y_pred_train = model.predict(x_train)\n",
        "\n",
        "y_pred = model.predict(x_test)\n",
        "\n",
        "f1 = f1_score(y_test, y_pred)\n",
        "\n",
        "y_pred = model.predict(x_test)\n",
        "y_pred_proba = model.predict_proba(x_test)\n",
        "\n",
        "print(\"Accuracy for training data\", accuracy_score(y_train, y_pred_train))\n",
        "print(\"Accuracy for test data:\", accuracy_score(y_test, y_pred))\n",
        "print('f1 score', f1)"
      ],
      "metadata": {
        "colab": {
          "base_uri": "https://localhost:8080/"
        },
        "id": "ra9GR6hROC3c",
        "outputId": "cb5d1bd7-200e-4590-fe35-30087ab72d0e"
      },
      "execution_count": null,
      "outputs": [
        {
          "output_type": "stream",
          "name": "stdout",
          "text": [
            "Время обучения: 13.246612787246704\n",
            "\n",
            "Accuracy for training data 0.8623978201634878\n",
            "Accuracy for test data: 0.8858695652173914\n",
            "f1 score 0.8839779005524863\n"
          ]
        }
      ]
    },
    {
      "cell_type": "code",
      "source": [
        "fpr3, tpr3, thresholds = roc_curve(y_test, model.predict_proba(x_test)[:,1])\n",
        "\n",
        "roc_auc = auc(fpr3, tpr3)\n",
        "auc_lst.append(roc_auc)\n",
        "print('AUC', roc_auc)\n",
        "\n",
        "plt.plot(fpr3, tpr3)\n",
        "plt.xlabel('False Positive Rate')\n",
        "plt.ylabel('True Positive Rate')\n",
        "plt.title('ROC-кривая')\n",
        "plt.show()"
      ],
      "metadata": {
        "colab": {
          "base_uri": "https://localhost:8080/",
          "height": 312
        },
        "id": "ftNOhJO6PVXP",
        "outputId": "ab9f8e4e-8e76-4241-c5aa-dd55dbf5db03"
      },
      "execution_count": null,
      "outputs": [
        {
          "output_type": "stream",
          "name": "stdout",
          "text": [
            "AUC 0.9242674858223062\n"
          ]
        },
        {
          "output_type": "display_data",
          "data": {
            "text/plain": [
              "<Figure size 432x288 with 1 Axes>"
            ],
            "image/png": "[encoded data removed]"
          },
          "metadata": {
            "needs_background": "light"
          }
        }
      ]
    },
    {
      "cell_type": "markdown",
      "source": [
        "K Neighbors Classifier\n",
        "---"
      ],
      "metadata": {
        "id": "O3l0PEXiPdRa"
      }
    },
    {
      "cell_type": "code",
      "source": [
        "from sklearn.neighbors import KNeighborsClassifier\n",
        "import time\n",
        "from sklearn.metrics import accuracy_score, precision_score, recall_score\n",
        "from sklearn.model_selection import train_test_split\n",
        "\n",
        "t0 = time.time()\n",
        "\n",
        "model = KNeighborsClassifier(n_neighbors=5)\n",
        "model.fit(x_train, y_train) \n",
        "\n",
        "t1 = time.time()\n",
        "print(\"Время обучения:\", t1 - t0)\n",
        "print()\n",
        "\n",
        "y_pred_train = model.predict(x_train)\n",
        "\n",
        "y_pred = model.predict(x_test)\n",
        "\n",
        "f1 = f1_score(y_test, y_pred)\n",
        "\n",
        "y_pred = model.predict(x_test)\n",
        "y_pred_proba = model.predict_proba(x_test)\n",
        "\n",
        "print(\"Accuracy for training data\", accuracy_score(y_train, y_pred_train))\n",
        "print(\"Accuracy for test data:\", accuracy_score(y_test, y_pred))\n",
        "print('f1 score', f1)"
      ],
      "metadata": {
        "colab": {
          "base_uri": "https://localhost:8080/"
        },
        "id": "o9STRZGRPgai",
        "outputId": "f9475191-c443-4b62-f273-0207c315dd14"
      },
      "execution_count": null,
      "outputs": [
        {
          "output_type": "stream",
          "name": "stdout",
          "text": [
            "Время обучения: 0.0030333995819091797\n",
            "\n",
            "Accuracy for training data 0.7874659400544959\n",
            "Accuracy for test data: 0.7065217391304348\n",
            "f1 score 0.7096774193548387\n"
          ]
        }
      ]
    },
    {
      "cell_type": "code",
      "source": [
        "fpr4, tpr4, thresholds = roc_curve(y_test, model.predict_proba(x_test)[:,1])\n",
        "\n",
        "roc_auc = auc(fpr4, tpr4)\n",
        "auc_lst.append(roc_auc)\n",
        "print('AUC', roc_auc)\n",
        "\n",
        "plt.plot(fpr4, tpr4)\n",
        "plt.xlabel('False Positive Rate')\n",
        "plt.ylabel('True Positive Rate')\n",
        "plt.title('ROC-кривая')\n",
        "plt.show()"
      ],
      "metadata": {
        "colab": {
          "base_uri": "https://localhost:8080/",
          "height": 312
        },
        "id": "dMHY_yZUPiHo",
        "outputId": "bc4d6cd9-2f49-4507-94d3-ae07d48e3343"
      },
      "execution_count": null,
      "outputs": [
        {
          "output_type": "stream",
          "name": "stdout",
          "text": [
            "AUC 0.7647684310018904\n"
          ]
        },
        {
          "output_type": "display_data",
          "data": {
            "text/plain": [
              "<Figure size 432x288 with 1 Axes>"
            ],
            "image/png": "[encoded data removed]"
          },
          "metadata": {
            "needs_background": "light"
          }
        }
      ]
    },
    {
      "cell_type": "markdown",
      "source": [
        "All Roc curves\n",
        "---"
      ],
      "metadata": {
        "id": "nZsqKmgnQjqR"
      }
    },
    {
      "cell_type": "code",
      "source": [
        "fig, ax = plt.subplots(1,1, figsize=(10,5))\n",
        "\n",
        "ax.plot(fpr1,tpr1, label=' dfbdf ')\n",
        "ax.plot(fpr2,tpr2)\n",
        "ax.plot(fpr3,tpr3)\n",
        "ax.plot(fpr4,tpr4)\n",
        "ax.set_label('ROC curves')\n",
        "print(auc_lst)"
      ],
      "metadata": {
        "colab": {
          "base_uri": "https://localhost:8080/",
          "height": 337
        },
        "id": "gavU7uf-QlyX",
        "outputId": "7bdb4673-aa4f-4646-e349-148aa503a3fa"
      },
      "execution_count": null,
      "outputs": [
        {
          "output_type": "stream",
          "name": "stdout",
          "text": [
            "[0.9233223062381853, 0.9242674858223062, 0.9242674858223062, 0.7647684310018904]\n"
          ]
        },
        {
          "output_type": "display_data",
          "data": {
            "text/plain": [
              "<Figure size 720x360 with 1 Axes>"
            ],
            "image/png": "[encoded data removed]"
          },
          "metadata": {
            "needs_background": "light"
          }
        }
      ]
    },
    {
      "cell_type": "code",
      "source": [
        "from sklearn.metrics import (precision_recall_curve, PrecisionRecallDisplay)\n",
        "PrecisionRecallDisplay.from_estimator(model, x_test, y_test)\n",
        "plt.show()"
      ],
      "metadata": {
        "colab": {
          "base_uri": "https://localhost:8080/",
          "height": 279
        },
        "id": "1WZQ_wQMQwhs",
        "outputId": "b35f4b0b-03ad-416c-ffac-7e8a09763c35"
      },
      "execution_count": null,
      "outputs": [
        {
          "output_type": "display_data",
          "data": {
            "text/plain": [
              "<Figure size 432x288 with 1 Axes>"
            ],
            "image/png": "[encoded data removed]"
          },
          "metadata": {
            "needs_background": "light"
          }
        }
      ]
    },
    {
      "cell_type": "code",
      "source": [
        "from sklearn.neural_network import MLPClassifier\n",
        "from sklearn.metrics import average_precision_score\n",
        "model = MLPClassifier()\n",
        "model.fit(x_train, y_train) \n",
        "y_pred_train = model.predict(x_train)\n",
        "y_pred = model.predict(x_test)\n",
        "f1 = f1_score(y_test, y_pred)\n",
        "y_pred_proba = model.predict_proba(x_test)\n",
        "probs = y_pred_proba[:, 1]\n",
        "fpr5, tpr5, treshold = roc_curve(y_test, probs)\n",
        "\n",
        "print(\"Точность на обучающей выборке\", accuracy_score(y_train, y_pred_train))\n",
        "print(\"Точность на тестовой выборке\", accuracy_score(y_test, y_pred))\n",
        "print(\"f1 score\", f1)\n",
        "print(\"AUC\", auc(fpr5, tpr5))\n",
        "print(\"Метрика average precision score\", average_precision_score(y_test, y_pred))"
      ],
      "metadata": {
        "colab": {
          "base_uri": "https://localhost:8080/"
        },
        "id": "z33N2tdf3yt8",
        "outputId": "9b0aeb13-7852-424f-ce1b-18d75e9f2d64"
      },
      "execution_count": null,
      "outputs": [
        {
          "output_type": "stream",
          "name": "stdout",
          "text": [
            "Точность на обучающей выборке 0.8828337874659401\n",
            "Точность на тестовой выборке 0.8695652173913043\n",
            "f1 score 0.8636363636363636\n",
            "AUC 0.9190689981096408\n",
            "Метрика average precision score 0.834368530020704\n"
          ]
        }
      ]
    },
    {
      "cell_type": "code",
      "source": [
        "fig1, ax1 = plt.subplots(1,1, figsize=(6.3,5))\n",
        "ax1.plot(fpr5, tpr5, color = 'green')\n",
        "PrecisionRecallDisplay.from_estimator(model, x_test, y_test)"
      ],
      "metadata": {
        "colab": {
          "base_uri": "https://localhost:8080/",
          "height": 599
        },
        "id": "fNLXsJkw4WvO",
        "outputId": "b0e83b63-5823-4874-d756-839f044f1d62"
      },
      "execution_count": null,
      "outputs": [
        {
          "output_type": "execute_result",
          "data": {
            "text/plain": [
              "<sklearn.metrics._plot.precision_recall_curve.PrecisionRecallDisplay at 0x7fbb7797a210>"
            ]
          },
          "metadata": {},
          "execution_count": 50
        },
        {
          "output_type": "display_data",
          "data": {
            "text/plain": [
              "<Figure size 453.6x360 with 1 Axes>"
            ],
            "image/png": "[encoded data removed]"
          },
          "metadata": {
            "needs_background": "light"
          }
        },
        {
          "output_type": "display_data",
          "data": {
            "text/plain": [
              "<Figure size 432x288 with 1 Axes>"
            ],
            "image/png": "[encoded data removed]"
          },
          "metadata": {
            "needs_background": "light"
          }
        }
      ]
    },
    {
      "cell_type": "code",
      "source": [],
      "metadata": {
        "id": "NSS0FgVq42Eg"
      },
      "execution_count": null,
      "outputs": []
    }
  ]
}