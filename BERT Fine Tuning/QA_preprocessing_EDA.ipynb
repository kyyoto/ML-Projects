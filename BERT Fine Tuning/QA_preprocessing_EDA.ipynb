{
 "cells": [
  {
   "cell_type": "code",
   "execution_count": null,
   "metadata": {},
   "outputs": [],
   "source": [
    "import json\n",
    "import glob\n",
    "files = glob.glob(r\"C:Q_A//*.json\")"
   ]
  },
  {
   "cell_type": "code",
   "execution_count": null,
   "metadata": {},
   "outputs": [],
   "source": [
    "train_files = files[:801]\n",
    "test_files = files[801:]"
   ]
  },
  {
   "cell_type": "code",
   "execution_count": null,
   "metadata": {},
   "outputs": [],
   "source": [
    "train_questions = []\n",
    "train_answers = []\n",
    "\n",
    "def concat_data(path):\n",
    "    with open(path, 'r', encoding='utf-8') as file:\n",
    "        data = json.load(file)\n",
    "    for question, anss in data.items():\n",
    "        for ans in anss:\n",
    "            train_questions.append(question)\n",
    "            train_answers.append(ans)\n",
    "            \n",
    "for file in train_files:\n",
    "    concat_data(file)"
   ]
  },
  {
   "cell_type": "code",
   "execution_count": null,
   "metadata": {},
   "outputs": [],
   "source": [
    "test_questions = []\n",
    "test_answers = []\n",
    "\n",
    "def concat_data(path):\n",
    "    with open(path, 'r', encoding='utf-8') as file:\n",
    "        data = json.load(file)\n",
    "    for question, anss in data.items():\n",
    "        for ans in anss:\n",
    "            test_questions.append(question)\n",
    "            test_answers.append(ans)\n",
    "            \n",
    "for file in train_files:\n",
    "    concat_data(file)"
   ]
  }
 ],
 "metadata": {
  "kernelspec": {
   "display_name": "Python 3",
   "language": "python",
   "name": "python3"
  },
  "language_info": {
   "name": "python",
   "version": "3.10.7"
  },
  "orig_nbformat": 4
 },
 "nbformat": 4,
 "nbformat_minor": 2
}
