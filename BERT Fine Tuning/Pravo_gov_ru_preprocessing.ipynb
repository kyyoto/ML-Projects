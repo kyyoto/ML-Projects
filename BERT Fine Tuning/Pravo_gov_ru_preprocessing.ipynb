{
 "cells": [
  {
   "cell_type": "code",
   "execution_count": null,
   "metadata": {},
   "outputs": [],
   "source": [
    "import pandas as pd\n",
    "import numpy as np\n",
    "import json\n",
    "import re\n",
    "import glob\n",
    "files = glob.glob(r\"C://Pravo_gov_ru_txts//*.txt\")"
   ]
  },
  {
   "cell_type": "code",
   "execution_count": null,
   "metadata": {},
   "outputs": [],
   "source": [
    "pattern = re.compile(r\"[A-Za-z]+\")\n",
    "res = []\n",
    "def data_preprocessing(file):\n",
    "    with open(file, 'r', encoding='windows-1251') as fl:\n",
    "        data = fl.readlines()\n",
    "    corpus = ''\n",
    "    \n",
    "    for row in data:\n",
    "        corpus +=  row.strip().lower() + ' '\n",
    "    corpus = re.sub(pattern, ' ', corpus)\n",
    "    print(corpus)\n",
    "    res.append({len(res): corpus})"
   ]
  },
  {
   "cell_type": "code",
   "execution_count": null,
   "metadata": {},
   "outputs": [],
   "source": [
    "for file in files:\n",
    "    data_preprocessing(file)"
   ]
  },
  {
   "cell_type": "code",
   "execution_count": null,
   "metadata": {},
   "outputs": [],
   "source": [
    "with open('Constitution_court.json', 'w', encoding='windows-1251') as fl:\n",
    "    json.dump(res, fl)"
   ]
  }
 ],
 "metadata": {
  "language_info": {
   "name": "python"
  },
  "orig_nbformat": 4
 },
 "nbformat": 4,
 "nbformat_minor": 2
}
