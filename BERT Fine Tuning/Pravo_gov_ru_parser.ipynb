{
 "cells": [
  {
   "cell_type": "markdown",
   "id": "8cd0b221",
   "metadata": {},
   "source": [
    "http://publication.pravo.gov.ru/\n",
    "---"
   ]
  },
  {
   "cell_type": "code",
   "execution_count": 1,
   "id": "47682d41",
   "metadata": {
    "collapsed": true
   },
   "outputs": [
    {
     "name": "stdout",
     "output_type": "stream",
     "text": [
      "OK: 'http://publication.pravo.gov.ru/Search/DocumentSearchResult?SearchObject.IsShowAppendPageCountList=true&SearchObject.IsLastUpdateList=true&SearchObject.NavigationSignatoryAuthorityCode=court&SearchObject.NavigationSignatoryAuthorityId=&SearchObject.NavigationSignatoryAuthorityCategory=&SearchObject.SelectedSignatoryAuthorityId=00000000-0000-0000-0000-000000000000&SearchObject.RangeSize=30&SearchObject.CurrentPageNumber=1&_=1597736552634' page\n",
      " 12% [.........                                                                 ]  147456 / 1208340"
     ]
    },
    {
     "ename": "KeyboardInterrupt",
     "evalue": "",
     "output_type": "error",
     "traceback": [
      "\u001b[1;31m---------------------------------------------------------------------------\u001b[0m",
      "\u001b[1;31mKeyboardInterrupt\u001b[0m                         Traceback (most recent call last)",
      "Cell \u001b[1;32mIn [1], line 72\u001b[0m\n\u001b[0;32m     68\u001b[0m \u001b[38;5;28;01melse\u001b[39;00m:\n\u001b[0;32m     69\u001b[0m     \u001b[38;5;28mprint\u001b[39m(\u001b[38;5;124m'\u001b[39m\u001b[38;5;124mOK: \u001b[39m\u001b[38;5;132;01m%r\u001b[39;00m\u001b[38;5;124m page\u001b[39m\u001b[38;5;124m'\u001b[39m \u001b[38;5;241m%\u001b[39m (url))\n\u001b[1;32m---> 72\u001b[0m \u001b[38;5;28;01mfor\u001b[39;00m i \u001b[38;5;129;01min\u001b[39;00m \u001b[43mget_items\u001b[49m\u001b[43m(\u001b[49m\u001b[43msoup\u001b[49m\u001b[43m)\u001b[49m:\n\u001b[0;32m     73\u001b[0m     \u001b[38;5;28mprint\u001b[39m(i)\n\u001b[0;32m     74\u001b[0m     f\u001b[38;5;241m.\u001b[39mwrite(\u001b[38;5;28mstr\u001b[39m(i) \u001b[38;5;241m+\u001b[39m \u001b[38;5;124m'\u001b[39m\u001b[38;5;130;01m\\n\u001b[39;00m\u001b[38;5;124m'\u001b[39m)\n",
      "Cell \u001b[1;32mIn [1], line 51\u001b[0m, in \u001b[0;36mget_items\u001b[1;34m(data_soup)\u001b[0m\n\u001b[0;32m     49\u001b[0m                 doc \u001b[38;5;241m=\u001b[39m {\u001b[38;5;124m\"\u001b[39m\u001b[38;5;124mtitle\u001b[39m\u001b[38;5;124m\"\u001b[39m: title_doc, \u001b[38;5;124m\"\u001b[39m\u001b[38;5;124murl\u001b[39m\u001b[38;5;124m\"\u001b[39m: url_doc, \u001b[38;5;124m\"\u001b[39m\u001b[38;5;124mfile\u001b[39m\u001b[38;5;124m\"\u001b[39m: file_url}\n\u001b[0;32m     50\u001b[0m                 docs\u001b[38;5;241m.\u001b[39mappend(doc)\n\u001b[1;32m---> 51\u001b[0m                 \u001b[43mwget\u001b[49m\u001b[38;5;241;43m.\u001b[39;49m\u001b[43mdownload\u001b[49m\u001b[43m(\u001b[49m\u001b[43mfile_url\u001b[49m\u001b[43m)\u001b[49m\n\u001b[0;32m     52\u001b[0m \u001b[38;5;28;01mreturn\u001b[39;00m docs\n",
      "File \u001b[1;32m~\\AppData\\Local\\Programs\\Python\\Python310\\lib\\site-packages\\wget.py:526\u001b[0m, in \u001b[0;36mdownload\u001b[1;34m(url, out, bar)\u001b[0m\n\u001b[0;32m    524\u001b[0m \u001b[38;5;28;01melse\u001b[39;00m:\n\u001b[0;32m    525\u001b[0m     binurl \u001b[38;5;241m=\u001b[39m url\n\u001b[1;32m--> 526\u001b[0m (tmpfile, headers) \u001b[38;5;241m=\u001b[39m \u001b[43mulib\u001b[49m\u001b[38;5;241;43m.\u001b[39;49m\u001b[43murlretrieve\u001b[49m\u001b[43m(\u001b[49m\u001b[43mbinurl\u001b[49m\u001b[43m,\u001b[49m\u001b[43m \u001b[49m\u001b[43mtmpfile\u001b[49m\u001b[43m,\u001b[49m\u001b[43m \u001b[49m\u001b[43mcallback\u001b[49m\u001b[43m)\u001b[49m\n\u001b[0;32m    527\u001b[0m filename \u001b[38;5;241m=\u001b[39m detect_filename(url, out, headers)\n\u001b[0;32m    528\u001b[0m \u001b[38;5;28;01mif\u001b[39;00m outdir:\n",
      "File \u001b[1;32m~\\AppData\\Local\\Programs\\Python\\Python310\\lib\\urllib\\request.py:270\u001b[0m, in \u001b[0;36murlretrieve\u001b[1;34m(url, filename, reporthook, data)\u001b[0m\n\u001b[0;32m    267\u001b[0m     reporthook(blocknum, bs, size)\n\u001b[0;32m    269\u001b[0m \u001b[38;5;28;01mwhile\u001b[39;00m \u001b[38;5;28;01mTrue\u001b[39;00m:\n\u001b[1;32m--> 270\u001b[0m     block \u001b[38;5;241m=\u001b[39m \u001b[43mfp\u001b[49m\u001b[38;5;241;43m.\u001b[39;49m\u001b[43mread\u001b[49m\u001b[43m(\u001b[49m\u001b[43mbs\u001b[49m\u001b[43m)\u001b[49m\n\u001b[0;32m    271\u001b[0m     \u001b[38;5;28;01mif\u001b[39;00m \u001b[38;5;129;01mnot\u001b[39;00m block:\n\u001b[0;32m    272\u001b[0m         \u001b[38;5;28;01mbreak\u001b[39;00m\n",
      "File \u001b[1;32m~\\AppData\\Local\\Programs\\Python\\Python310\\lib\\http\\client.py:465\u001b[0m, in \u001b[0;36mHTTPResponse.read\u001b[1;34m(self, amt)\u001b[0m\n\u001b[0;32m    462\u001b[0m \u001b[38;5;28;01mif\u001b[39;00m \u001b[38;5;28mself\u001b[39m\u001b[38;5;241m.\u001b[39mlength \u001b[38;5;129;01mis\u001b[39;00m \u001b[38;5;129;01mnot\u001b[39;00m \u001b[38;5;28;01mNone\u001b[39;00m \u001b[38;5;129;01mand\u001b[39;00m amt \u001b[38;5;241m>\u001b[39m \u001b[38;5;28mself\u001b[39m\u001b[38;5;241m.\u001b[39mlength:\n\u001b[0;32m    463\u001b[0m     \u001b[38;5;66;03m# clip the read to the \"end of response\"\u001b[39;00m\n\u001b[0;32m    464\u001b[0m     amt \u001b[38;5;241m=\u001b[39m \u001b[38;5;28mself\u001b[39m\u001b[38;5;241m.\u001b[39mlength\n\u001b[1;32m--> 465\u001b[0m s \u001b[38;5;241m=\u001b[39m \u001b[38;5;28;43mself\u001b[39;49m\u001b[38;5;241;43m.\u001b[39;49m\u001b[43mfp\u001b[49m\u001b[38;5;241;43m.\u001b[39;49m\u001b[43mread\u001b[49m\u001b[43m(\u001b[49m\u001b[43mamt\u001b[49m\u001b[43m)\u001b[49m\n\u001b[0;32m    466\u001b[0m \u001b[38;5;28;01mif\u001b[39;00m \u001b[38;5;129;01mnot\u001b[39;00m s \u001b[38;5;129;01mand\u001b[39;00m amt:\n\u001b[0;32m    467\u001b[0m     \u001b[38;5;66;03m# Ideally, we would raise IncompleteRead if the content-length\u001b[39;00m\n\u001b[0;32m    468\u001b[0m     \u001b[38;5;66;03m# wasn't satisfied, but it might break compatibility.\u001b[39;00m\n\u001b[0;32m    469\u001b[0m     \u001b[38;5;28mself\u001b[39m\u001b[38;5;241m.\u001b[39m_close_conn()\n",
      "File \u001b[1;32m~\\AppData\\Local\\Programs\\Python\\Python310\\lib\\socket.py:705\u001b[0m, in \u001b[0;36mSocketIO.readinto\u001b[1;34m(self, b)\u001b[0m\n\u001b[0;32m    703\u001b[0m \u001b[38;5;28;01mwhile\u001b[39;00m \u001b[38;5;28;01mTrue\u001b[39;00m:\n\u001b[0;32m    704\u001b[0m     \u001b[38;5;28;01mtry\u001b[39;00m:\n\u001b[1;32m--> 705\u001b[0m         \u001b[38;5;28;01mreturn\u001b[39;00m \u001b[38;5;28;43mself\u001b[39;49m\u001b[38;5;241;43m.\u001b[39;49m\u001b[43m_sock\u001b[49m\u001b[38;5;241;43m.\u001b[39;49m\u001b[43mrecv_into\u001b[49m\u001b[43m(\u001b[49m\u001b[43mb\u001b[49m\u001b[43m)\u001b[49m\n\u001b[0;32m    706\u001b[0m     \u001b[38;5;28;01mexcept\u001b[39;00m timeout:\n\u001b[0;32m    707\u001b[0m         \u001b[38;5;28mself\u001b[39m\u001b[38;5;241m.\u001b[39m_timeout_occurred \u001b[38;5;241m=\u001b[39m \u001b[38;5;28;01mTrue\u001b[39;00m\n",
      "\u001b[1;31mKeyboardInterrupt\u001b[0m: "
     ]
    }
   ],
   "source": [
    "import requests\n",
    "from bs4 import BeautifulSoup as bs\n",
    "import wget\n",
    "import time\n",
    "\n",
    "file_out = 'base.txt'\n",
    "START_PAGE = 'http://publication.pravo.gov.ru/SignatoryAuthority/court'\n",
    "# START_PAGE = f'http://publication.pravo.gov.ru/SignatoryAuthority/region{17}' - ссылка для парсинга подзаконных актов регионов\n",
    "\n",
    "headers = {'User-Agent': 'Mozilla/5.0 (Macintosh; Intel Mac OS X 10_10_1) AppleWebKit/537.36 '\n",
    "                         '(KHTML, like Gecko) Chrome/39.0.2171.95 Safari/537.36'}\n",
    "\n",
    "params = {'method': 'GET',\n",
    "          'credentials': 'include',\n",
    "          'X-Requested-With': 'XMLHttpRequest'}\n",
    "\n",
    "s = requests.Session()\n",
    "s.params.update(params)\n",
    "s.headers.update(headers)\n",
    "s.proxies.update({})\n",
    "\n",
    "\n",
    "def get_page(url):\n",
    "    data = s.get(url).text\n",
    "    soup = bs(data, 'lxml')\n",
    "    return soup\n",
    "\n",
    "\n",
    "def get_pagi():\n",
    "    \"\"\"Получаем количество страниц\"\"\"\n",
    "    page = get_page(START_PAGE)\n",
    "    data = page.find('div', {'class': 'page-nave-count'}).text\n",
    "    item_count = int(data.split()[-1])\n",
    "    return item_count\n",
    "\n",
    "\n",
    "def get_items(data_soup):\n",
    "    \"\"\"извлекаем данные из страницы\"\"\"\n",
    "    docs = []\n",
    "    for items in data_soup.findAll('div', {'class': 'tr'}):\n",
    "        data = items.findAll('a', {'class': 'choosedocument'})\n",
    "        file = items.find('a', {'class': 'navigation'})\n",
    "        if data:\n",
    "            for i in data:\n",
    "                url_doc = \"http://publication.pravo.gov.ru{}\".format(i.get('href'))\n",
    "                title_doc = i.text\n",
    "                file_url = \"http://publication.pravo.gov.ru{}\".format(file.get('href'))\n",
    "                if title_doc:\n",
    "                    doc = {\"title\": title_doc, \"url\": url_doc, \"file\": file_url}\n",
    "                    docs.append(doc)\n",
    "                    wget.download(file_url)\n",
    "    return docs\n",
    "\n",
    "\n",
    "with open(file_out, 'w', encoding='utf-8') as f:\n",
    "    for page in range(1, get_pagi()//30):\n",
    "        url = 'http://publication.pravo.gov.ru/Search/DocumentSearchResult?SearchObject.IsShowAppendPageCountList=true&' \\\n",
    "             'SearchObject.IsLastUpdateList=true&SearchObject.NavigationSignatoryAuthorityCode=court&' \\\n",
    "             'SearchObject.NavigationSignatoryAuthorityId=&SearchObject.NavigationSignatoryAuthorityCategory=&' \\\n",
    "             'SearchObject.SelectedSignatoryAuthorityId=00000000-0000-0000-0000-000000000000&SearchObject.RangeSize=30&' \\\n",
    "             'SearchObject.CurrentPageNumber={}&_=1597736552634'.format(page)\n",
    "        soup = get_page(url)\n",
    "        try:\n",
    "            soup = get_page(url)\n",
    "        except Exception as exc:\n",
    "            print('FAIL: %r generated an exception: %s' % (url, exc))\n",
    "            time.sleep(10)\n",
    "        else:\n",
    "            print('OK: %r page' % (url))\n",
    "            \n",
    "            \n",
    "        for i in get_items(soup):\n",
    "            print(i)\n",
    "            f.write(str(i) + '\\n')"
   ]
  },
  {
   "cell_type": "code",
   "execution_count": 2,
   "id": "c8044c74",
   "metadata": {},
   "outputs": [
    {
     "name": "stdout",
     "output_type": "stream",
     "text": [
      "OK: 415 doc has been writed\n"
     ]
    }
   ],
   "source": [
    "import pytesseract\n",
    "from pdf2image import *\n",
    "import glob\n",
    "import os.path\n",
    "import time\n",
    "\n",
    "full_text = \"\"\n",
    "counter = 0\n",
    "\n",
    "pdfs = glob.glob(r\"C:Pravo_gov_ru_pdfs//*.pdf\")\n",
    "pytesseract.pytesseract.tesseract_cmd = 'C://Program Files//Tesseract-OCR//tesseract.exe'\n",
    "\n",
    "for pdf_path in pdfs:\n",
    "    pages = convert_from_path(pdf_path, \n",
    "                              500, \n",
    "                              poppler_path=r'C://Users//icom1//OneDrive - icom//Рабочий стол//BERT Course//poppler-0.68.0//bin')\n",
    "\n",
    "    for pageNum,imgBlob in enumerate(pages):\n",
    "        text = pytesseract.image_to_string(imgBlob, lang='rus+eng')\n",
    "        full_text += ' ' + text\n",
    "    \n",
    "    try:\n",
    "        if not os.path.isfile(f'C://Pravo_gov_ru_txts//{counter}.txt'):\n",
    "            with open(f'C://Pravo_gov_ru_txts//{counter}.txt', 'w') as the_file:\n",
    "                the_file.write(full_text)\n",
    "    except Exception as exc:\n",
    "            time.sleep(10)\n",
    "    else:\n",
    "        print('OK: %r doc has been writed' % (counter))\n",
    "\n",
    "    counter += 1"
   ]
  },
  {
   "cell_type": "code",
   "execution_count": null,
   "id": "15834db2",
   "metadata": {},
   "outputs": [],
   "source": []
  }
 ],
 "metadata": {
  "kernelspec": {
   "display_name": "Python 3 (ipykernel)",
   "language": "python",
   "name": "python3"
  },
  "language_info": {
   "codemirror_mode": {
    "name": "ipython",
    "version": 3
   },
   "file_extension": ".py",
   "mimetype": "text/x-python",
   "name": "python",
   "nbconvert_exporter": "python",
   "pygments_lexer": "ipython3",
   "version": "3.10.7"
  }
 },
 "nbformat": 4,
 "nbformat_minor": 5
}
