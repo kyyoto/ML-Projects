{
 "cells": [
  {
   "cell_type": "code",
   "execution_count": 1,
   "id": "4d10e87c",
   "metadata": {},
   "outputs": [
    {
     "name": "stderr",
     "output_type": "stream",
     "text": [
      "C:\\Users\\icom1\\AppData\\Local\\Programs\\Python\\Python310\\lib\\site-packages\\tqdm\\auto.py:22: TqdmWarning: IProgress not found. Please update jupyter and ipywidgets. See https://ipywidgets.readthedocs.io/en/stable/user_install.html\n",
      "  from .autonotebook import tqdm as notebook_tqdm\n"
     ]
    }
   ],
   "source": [
    "import pandas as pd\n",
    "import numpy as np\n",
    "import matplotlib.pyplot as plt\n",
    "import seaborn as sns\n",
    "import nltk\n",
    "import re\n",
    "import multiprocessing\n",
    "import dask.array as da\n",
    "import csv\n",
    "import json\n",
    "from sklearn.linear_model import LogisticRegression\n",
    "from sklearn.neural_network import MLPClassifier\n",
    "from sklearn.tree import DecisionTreeClassifier\n",
    "from sklearn.svm import SVC\n",
    "from sklearn.neighbors import KNeighborsClassifier\n",
    "from sklearn.linear_model import SGDClassifier\n",
    "from sklearn.feature_extraction.text import TfidfVectorizer\n",
    "from sklearn.pipeline import Pipeline\n",
    "from sklearn.compose import ColumnTransformer\n",
    "from sklearn.base import BaseEstimator, TransformerMixin\n",
    "from transformers import AutoModel, AutoTokenizer\n",
    "from scipy import sparse\n",
    "import pymorphy2\n",
    "import torch\n",
    "path = 'C://Users//icom1//OneDrive - icom//Рабочий стол//hackhaton//'"
   ]
  },
  {
   "cell_type": "code",
   "execution_count": 2,
   "id": "a0da217c",
   "metadata": {},
   "outputs": [],
   "source": [
    "from nltk.corpus import stopwords\n",
    "from nltk.tokenize import word_tokenize\n",
    "def remove_stopwords(description):\n",
    "    text_tokens = word_tokenize(description)\n",
    "    st_words = stopwords.words('russian')\n",
    "    lst_no_stopwords = [word for word in text_tokens if not word in st_words]\n",
    "    return ' '.join(lst_no_stopwords)"
   ]
  },
  {
   "cell_type": "code",
   "execution_count": 3,
   "id": "e26c2365",
   "metadata": {},
   "outputs": [],
   "source": [
    "def transform_df(df):\n",
    "    \n",
    "    if 'target' in df.columns:\n",
    "        df = df.merge(\n",
    "                    json_df, \n",
    "                    how = 'left',\n",
    "                    left_on='index', \n",
    "                    right_on='ID'\n",
    "        )[['index', 'name', 'target','Responsobilities']]\n",
    "    else:\n",
    "        df = df.merge(\n",
    "                    json_df, \n",
    "                    how = 'left',\n",
    "                    left_on='index', \n",
    "                    right_on='ID'\n",
    "        )[['index', 'name', 'Responsobilities']]        \n",
    "    \n",
    "    df['name'] = df['name'].str.lower()\n",
    "    df['Responsobilities'] = df['Responsobilities'].str.lower().fillna('')\n",
    "    \n",
    "    df['Responsobilities'] = df['Responsobilities'].apply(remove_stopwords)\n",
    "    df['name'] = df['name'].apply(remove_stopwords)\n",
    "    \n",
    "    morph = pymorphy2.MorphAnalyzer()\n",
    "    al = []\n",
    "    for words in df.name.apply(lambda i: i.split()):\n",
    "        parsed = []\n",
    "        for w in words:\n",
    "            parsed.append(morph.parse(w)[0].normal_form)\n",
    "        al.append(' '.join(parsed))\n",
    "    df['name'] = al\n",
    "    \n",
    "    al = []\n",
    "    for words in df.Responsobilities.apply(lambda i: i.split()):\n",
    "        parsed = []\n",
    "        for w in words:\n",
    "            parsed.append(morph.parse(w)[0].normal_form)\n",
    "        al.append(' '.join(parsed))\n",
    "    df['Responsobilities'] = al\n",
    "    \n",
    "    pattern = re.compile(r\"[0-9!#$%&'()*+,./:;<=>?@[\\]^_`{|}~—\\\"\\-]+\")\n",
    "    \n",
    "    df.name = df.name.str.replace(pattern, ' ')\n",
    "    df['Responsobilities'] = df['Responsobilities'].str.replace(pattern, ' ')\n",
    "    \n",
    "    df['full_description'] = df.name + \" \" + df['Responsobilities']\n",
    "    \n",
    "    return df\n",
    "\n"
   ]
  },
  {
   "cell_type": "markdown",
   "id": "802e6212",
   "metadata": {},
   "source": [
    "Prepocessing train data\n",
    "==="
   ]
  },
  {
   "cell_type": "code",
   "execution_count": 5,
   "id": "76e09450",
   "metadata": {
    "scrolled": true
   },
   "outputs": [],
   "source": [
    "train = pd.read_csv(path+'train.csv', encoding='utf-8')"
   ]
  },
  {
   "cell_type": "markdown",
   "id": "eec3eaf2",
   "metadata": {},
   "source": [
    "Delete -1\n",
    "---"
   ]
  },
  {
   "cell_type": "code",
   "execution_count": 6,
   "id": "06343a14",
   "metadata": {},
   "outputs": [],
   "source": [
    "train = train[train.target != -1]"
   ]
  },
  {
   "cell_type": "markdown",
   "id": "cc6514cf",
   "metadata": {},
   "source": [
    "Replacing description by different columns from concatenated json files\n",
    "---"
   ]
  },
  {
   "cell_type": "code",
   "execution_count": 7,
   "id": "43dc39fa",
   "metadata": {},
   "outputs": [
    {
     "name": "stdout",
     "output_type": "stream",
     "text": [
      "Overwriting jsons_to_dict.py\n"
     ]
    }
   ],
   "source": [
    "%%file jsons_to_dict.py\n",
    "\n",
    "import pandas as pd\n",
    "\n",
    "def jsons_to_dict(file):\n",
    "    json_df = pd.read_json(file)\n",
    "    json_df.Content = json_df.Content\n",
    "\n",
    "    Requirements = []\n",
    "    Responsobilities = []\n",
    "\n",
    "    for conditions in json_df.Content.iteritems():\n",
    "\n",
    "        if 'Обязанности' in conditions[1].keys() and len(conditions[1]['Обязанности'])>0:    \n",
    "            Responsobilities.append(conditions[1]['Обязанности'][0])\n",
    "        else: \n",
    "            Responsobilities.append(None)\n",
    "\n",
    "    json_df['Responsobilities'] = Responsobilities\n",
    "    \n",
    "    return json_df"
   ]
  },
  {
   "cell_type": "code",
   "execution_count": 8,
   "id": "cecd404c",
   "metadata": {},
   "outputs": [],
   "source": [
    "from jsons_to_dict import jsons_to_dict"
   ]
  },
  {
   "cell_type": "code",
   "execution_count": 9,
   "id": "a3359494",
   "metadata": {},
   "outputs": [],
   "source": [
    "files = []\n",
    "\n",
    "for i in range(5):\n",
    "     files.append(f'{path}{i+1}_parsed.json')\n",
    "        \n",
    "with multiprocessing.Pool(processes = 5) as pool:\n",
    "    json_df = pd.concat(pool.map(jsons_to_dict, files))"
   ]
  },
  {
   "cell_type": "code",
   "execution_count": 10,
   "id": "76984cf1",
   "metadata": {},
   "outputs": [],
   "source": [
    "train = transform_train(train)\n",
    "\n",
    "train = train[['target', 'full_description']]"
   ]
  },
  {
   "cell_type": "code",
   "execution_count": 11,
   "id": "3be6a253",
   "metadata": {},
   "outputs": [],
   "source": [
    "test = pd.read_csv(path+\"test.csv\")\n",
    "\n",
    "X_test = transform_df(test)"
   ]
  },
  {
   "cell_type": "markdown",
   "id": "203679ce",
   "metadata": {},
   "source": [
    "Build BERT embedder\n",
    "---"
   ]
  },
  {
   "cell_type": "code",
   "execution_count": 28,
   "id": "bc915f94",
   "metadata": {},
   "outputs": [],
   "source": [
    "class BertEmbedder(BaseEstimator, TransformerMixin):\n",
    "\n",
    "    def __init__(self, bert_tokenizer, bert_model):\n",
    "        self.bert_tokenizer = bert_tokenizer\n",
    "        self.bert_model = bert_model\n",
    "\n",
    "    def fit(self, X, y=None):\n",
    "        return self\n",
    "\n",
    "    def transform(self, X):\n",
    "        batch_size = 16\n",
    "        with torch.no_grad():\n",
    "            t = self.bert_tokenizer(X.tolist()[:], padding=True, truncation=True, return_tensors=\"pt\")\n",
    "            model_output = self.bert_model(**t)\n",
    "            embeddings = model_output.last_hidden_state[:, 0, :]\n",
    "            embeddings = torch.nn.functional.normalize(embeddings)\n",
    "        return embeddings.numpy()"
   ]
  },
  {
   "cell_type": "code",
   "execution_count": 29,
   "id": "fdc21f4e",
   "metadata": {},
   "outputs": [
    {
     "name": "stderr",
     "output_type": "stream",
     "text": [
      "Some weights of the model checkpoint at cointegrated/rubert-tiny2 were not used when initializing BertModel: ['cls.predictions.transform.LayerNorm.bias', 'cls.predictions.transform.LayerNorm.weight', 'cls.predictions.decoder.weight', 'cls.predictions.bias', 'cls.seq_relationship.weight', 'cls.predictions.decoder.bias', 'cls.predictions.transform.dense.weight', 'cls.predictions.transform.dense.bias', 'cls.seq_relationship.bias']\n",
      "- This IS expected if you are initializing BertModel from the checkpoint of a model trained on another task or with another architecture (e.g. initializing a BertForSequenceClassification model from a BertForPreTraining model).\n",
      "- This IS NOT expected if you are initializing BertModel from the checkpoint of a model that you expect to be exactly identical (initializing a BertForSequenceClassification model from a BertForSequenceClassification model).\n"
     ]
    }
   ],
   "source": [
    "rubert_tokenizer = AutoTokenizer.from_pretrained(\"cointegrated/rubert-tiny2\")\n",
    "rubert_model = AutoModel.from_pretrained(\"cointegrated/rubert-tiny2\")"
   ]
  },
  {
   "cell_type": "code",
   "execution_count": 30,
   "id": "496f580a",
   "metadata": {},
   "outputs": [],
   "source": [
    "bert_embedder = BertEmbedder(rubert_tokenizer, rubert_model)"
   ]
  },
  {
   "cell_type": "code",
   "execution_count": 191,
   "id": "c75476bb",
   "metadata": {},
   "outputs": [],
   "source": [
    "X_train = bert_embedder.transform(train.full_description.str[:300])"
   ]
  },
  {
   "cell_type": "code",
   "execution_count": 192,
   "id": "1de15a50",
   "metadata": {},
   "outputs": [
    {
     "data": {
      "text/plain": [
       "<AxesSubplot: >"
      ]
     },
     "execution_count": 192,
     "metadata": {},
     "output_type": "execute_result"
    },
    {
     "data": {
      "image/png": "[encoded data removed]",
      "text/plain": [
       "<Figure size 640x480 with 1 Axes>"
      ]
     },
     "metadata": {},
     "output_type": "display_data"
    }
   ],
   "source": [
    "train.target.hist() #классы несбалансированы"
   ]
  },
  {
   "cell_type": "markdown",
   "id": "4255828e",
   "metadata": {},
   "source": [
    "Build NN model\n",
    "---"
   ]
  },
  {
   "cell_type": "code",
   "execution_count": 230,
   "id": "a6a25d9f",
   "metadata": {},
   "outputs": [
    {
     "name": "stdout",
     "output_type": "stream",
     "text": [
      "Epoch 1/30\n",
      "221/221 [==============================] - 7s 25ms/step - loss: 2.1115 - accuracy: 0.5338 - val_loss: 1.0493 - val_accuracy: 0.7514\n",
      "Epoch 2/30\n",
      "221/221 [==============================] - 6s 25ms/step - loss: 0.8639 - accuracy: 0.7959 - val_loss: 0.7231 - val_accuracy: 0.8134\n",
      "Epoch 3/30\n",
      "221/221 [==============================] - 6s 26ms/step - loss: 0.6399 - accuracy: 0.8444 - val_loss: 0.5799 - val_accuracy: 0.8575\n",
      "Epoch 4/30\n",
      "221/221 [==============================] - 6s 26ms/step - loss: 0.5353 - accuracy: 0.8714 - val_loss: 0.5152 - val_accuracy: 0.8620\n",
      "Epoch 5/30\n",
      "221/221 [==============================] - 6s 26ms/step - loss: 0.4684 - accuracy: 0.8875 - val_loss: 0.4729 - val_accuracy: 0.8754\n",
      "Epoch 6/30\n",
      "221/221 [==============================] - 6s 25ms/step - loss: 0.4158 - accuracy: 0.8959 - val_loss: 0.4452 - val_accuracy: 0.8920\n",
      "Epoch 7/30\n",
      "221/221 [==============================] - 6s 26ms/step - loss: 0.3801 - accuracy: 0.9069 - val_loss: 0.4224 - val_accuracy: 0.8914\n",
      "Epoch 8/30\n",
      "221/221 [==============================] - 6s 28ms/step - loss: 0.3488 - accuracy: 0.9122 - val_loss: 0.4209 - val_accuracy: 0.8984\n",
      "Epoch 9/30\n",
      "221/221 [==============================] - 6s 26ms/step - loss: 0.3260 - accuracy: 0.9186 - val_loss: 0.3951 - val_accuracy: 0.8984\n",
      "Epoch 10/30\n",
      "221/221 [==============================] - 6s 26ms/step - loss: 0.3010 - accuracy: 0.9238 - val_loss: 0.3916 - val_accuracy: 0.9073\n",
      "Epoch 11/30\n",
      "221/221 [==============================] - 6s 26ms/step - loss: 0.2834 - accuracy: 0.9257 - val_loss: 0.3761 - val_accuracy: 0.9093\n",
      "Epoch 12/30\n",
      "221/221 [==============================] - 6s 25ms/step - loss: 0.2653 - accuracy: 0.9316 - val_loss: 0.3693 - val_accuracy: 0.9061\n",
      "Epoch 13/30\n",
      "221/221 [==============================] - 6s 26ms/step - loss: 0.2475 - accuracy: 0.9350 - val_loss: 0.3721 - val_accuracy: 0.9086\n",
      "Epoch 14/30\n",
      "221/221 [==============================] - 6s 26ms/step - loss: 0.2336 - accuracy: 0.9411 - val_loss: 0.3723 - val_accuracy: 0.9093\n",
      "Epoch 15/30\n",
      "221/221 [==============================] - 5s 24ms/step - loss: 0.2258 - accuracy: 0.9406 - val_loss: 0.3714 - val_accuracy: 0.9105\n",
      "Epoch 16/30\n",
      "221/221 [==============================] - 10813s 49s/step - loss: 0.2141 - accuracy: 0.9433 - val_loss: 0.3588 - val_accuracy: 0.9176\n",
      "Epoch 17/30\n",
      "221/221 [==============================] - 11s 48ms/step - loss: 0.2049 - accuracy: 0.9463 - val_loss: 0.3600 - val_accuracy: 0.9195\n",
      "Epoch 18/30\n",
      "221/221 [==============================] - 10s 46ms/step - loss: 0.1282 - accuracy: 0.9668 - val_loss: 0.3600 - val_accuracy: 0.9188\n",
      "Epoch 30/30\n",
      "221/221 [==============================] - 10s 45ms/step - loss: 0.1227 - accuracy: 0.9671 - val_loss: 0.3552 - val_accuracy: 0.9297\n"
     ]
    }
   ],
   "source": [
    "import itertools\n",
    "import numpy as np\n",
    "import pandas as pd\n",
    "import tensorflow as tf\n",
    "\n",
    "from sklearn.preprocessing import LabelBinarizer, LabelEncoder\n",
    "from sklearn.metrics import confusion_matrix\n",
    "\n",
    "from tensorflow import keras\n",
    "from keras.models import Sequential\n",
    "from keras.layers import Dense, Activation, Dropout\n",
    "from tensorflow.keras.constraints import MaxNorm\n",
    "from keras.preprocessing import text, sequence\n",
    "from keras import utils\n",
    "\n",
    "train_tags = train.target\n",
    "\n",
    "encoder = LabelEncoder()\n",
    "encoder.fit(train_tags)\n",
    "y_train = encoder.transform(train_tags)\n",
    "\n",
    "num_classes = len(train.target.unique()) + 1\n",
    "y_train = utils.to_categorical(y_train, num_classes)\n",
    "\n",
    "batch_size = 64\n",
    "epochs = 30\n",
    "\n",
    "# Build the model\n",
    "\n",
    "model = Sequential()\n",
    "model.add(Dense(2048, input_shape=(312,)))\n",
    "model.add(Activation('leaky_relu'))\n",
    "model.add(Dropout(0.6, input_shape=(312,)))\n",
    "model.add(Dense(num_classes))\n",
    "model.add(Activation('softmax'))\n",
    "\n",
    "model.compile(loss='categorical_crossentropy',\n",
    "              optimizer='adam',\n",
    "              metrics=['accuracy'])\n",
    "\n",
    "history = model.fit(X_train, y_train,\n",
    "                    batch_size=batch_size,\n",
    "                    epochs=epochs,\n",
    "                    verbose=1,\n",
    "                    validation_split=0.1\n",
    "                   )"
   ]
  },
  {
   "cell_type": "markdown",
   "id": "975b9cda",
   "metadata": {},
   "source": [
    "Predict test targets\n",
    "---"
   ]
  },
  {
   "cell_type": "code",
   "execution_count": 224,
   "id": "0e3a8417",
   "metadata": {},
   "outputs": [
    {
     "name": "stdout",
     "output_type": "stream",
     "text": [
      "35/35 [==============================] - 0s 6ms/step\n"
     ]
    }
   ],
   "source": [
    "x_test = bert_embedder.transform(X_test.full_description.str[:300])\n",
    "predict_x = model.predict(x_test) \n",
    "classes_x = np.argmax(predict_x,axis=1)"
   ]
  },
  {
   "cell_type": "code",
   "execution_count": 225,
   "id": "b4de88a8",
   "metadata": {
    "scrolled": true
   },
   "outputs": [
    {
     "data": {
      "text/plain": [
       "(1090,)"
      ]
     },
     "execution_count": 225,
     "metadata": {},
     "output_type": "execute_result"
    }
   ],
   "source": [
    "y_pred = encoder.inverse_transform(classes_x)\n",
    "y_pred.shape"
   ]
  },
  {
   "cell_type": "markdown",
   "id": "011da1ee",
   "metadata": {},
   "source": [
    "Preparing submission file\n",
    "---"
   ]
  },
  {
   "cell_type": "code",
   "execution_count": 226,
   "id": "4d39a76d",
   "metadata": {},
   "outputs": [
    {
     "data": {
      "text/html": [
       "<div>\n",
       "<style scoped>\n",
       "    .dataframe tbody tr th:only-of-type {\n",
       "        vertical-align: middle;\n",
       "    }\n",
       "\n",
       "    .dataframe tbody tr th {\n",
       "        vertical-align: top;\n",
       "    }\n",
       "\n",
       "    .dataframe thead th {\n",
       "        text-align: right;\n",
       "    }\n",
       "</style>\n",
       "<table border=\"1\" class=\"dataframe\">\n",
       "  <thead>\n",
       "    <tr style=\"text-align: right;\">\n",
       "      <th></th>\n",
       "      <th>index</th>\n",
       "      <th>target</th>\n",
       "    </tr>\n",
       "  </thead>\n",
       "  <tbody>\n",
       "    <tr>\n",
       "      <th>0</th>\n",
       "      <td>26461447</td>\n",
       "      <td>8322</td>\n",
       "    </tr>\n",
       "    <tr>\n",
       "      <th>1</th>\n",
       "      <td>26464220</td>\n",
       "      <td>3323</td>\n",
       "    </tr>\n",
       "    <tr>\n",
       "      <th>2</th>\n",
       "      <td>26467473</td>\n",
       "      <td>5223</td>\n",
       "    </tr>\n",
       "    <tr>\n",
       "      <th>3</th>\n",
       "      <td>26468989</td>\n",
       "      <td>4110</td>\n",
       "    </tr>\n",
       "  </tbody>\n",
       "</table>\n",
       "</div>"
      ],
      "text/plain": [
       "      index  target\n",
       "0  26461447    8322\n",
       "1  26464220    3323\n",
       "2  26467473    5223\n",
       "3  26468989    4110"
      ]
     },
     "metadata": {},
     "output_type": "display_data"
    }
   ],
   "source": [
    "submission = test[[\"index\"]].assign(target=y_pred)\n",
    "display(submission.head(4))\n",
    "submission.to_csv(\"C://Users//icom1//submit_fnl.csv\", index=False)"
   ]
  },
  {
   "cell_type": "code",
   "execution_count": 227,
   "id": "ffe51bf3",
   "metadata": {
    "scrolled": true
   },
   "outputs": [
    {
     "name": "stdout",
     "output_type": "stream",
     "text": [
      "Successfully submitted to Хакатон Byte_Data_Hack_22\n"
     ]
    },
    {
     "name": "stderr",
     "output_type": "stream",
     "text": [
      "Error processing line 1 of C:\\Users\\icom1\\AppData\\Local\\Programs\\Python\\Python310\\lib\\site-packages\\matplotlib-3.5.3-py3.10-nspkg.pth:\n",
      "\n",
      "  Traceback (most recent call last):\n",
      "    File \"C:\\Users\\icom1\\AppData\\Local\\Programs\\Python\\Python310\\lib\\site.py\", line 186, in addpackage\n",
      "      exec(line)\n",
      "    File \"<string>\", line 1, in <module>\n",
      "    File \"<frozen importlib._bootstrap>\", line 568, in module_from_spec\n",
      "  AttributeError: 'NoneType' object has no attribute 'loader'\n",
      "\n",
      "Remainder of file ignored\n",
      "Error processing line 1 of C:\\Users\\icom1\\AppData\\Local\\Programs\\Python\\Python310\\lib\\site-packages\\matplotlib-3.6.0-py3.10-nspkg.pth:\n",
      "\n",
      "  Traceback (most recent call last):\n",
      "    File \"C:\\Users\\icom1\\AppData\\Local\\Programs\\Python\\Python310\\lib\\site.py\", line 186, in addpackage\n",
      "      exec(line)\n",
      "    File \"<string>\", line 1, in <module>\n",
      "    File \"<frozen importlib._bootstrap>\", line 568, in module_from_spec\n",
      "  AttributeError: 'NoneType' object has no attribute 'loader'\n",
      "\n",
      "Remainder of file ignored\n",
      "\n",
      "  0%|          | 0.00/16.5k [00:00<?, ?B/s]\n",
      "100%|##########| 16.5k/16.5k [00:01<00:00, 14.7kB/s]\n"
     ]
    }
   ],
   "source": [
    "import kaggle \n",
    "SET_KAGGLE_USERNAME= \"kyyoto\"\n",
    "SET_KAGGLE_KEY=\"521387cd2dcddbd071c6e4576bf48476\"\n",
    "!kaggle competitions submit -c bytedatahack-22 -f submit_fnl.csv -m \"Message\""
   ]
  },
  {
   "cell_type": "markdown",
   "id": "9105b450",
   "metadata": {},
   "source": [
    "Win the Hackhaton :)\n",
    "--- "
   ]
  }
 ],
 "metadata": {
  "kernelspec": {
   "display_name": "Python 3 (ipykernel)",
   "language": "python",
   "name": "python3"
  },
  "language_info": {
   "codemirror_mode": {
    "name": "ipython",
    "version": 3
   },
   "file_extension": ".py",
   "mimetype": "text/x-python",
   "name": "python",
   "nbconvert_exporter": "python",
   "pygments_lexer": "ipython3",
   "version": "3.10.7"
  }
 },
 "nbformat": 4,
 "nbformat_minor": 5
}
