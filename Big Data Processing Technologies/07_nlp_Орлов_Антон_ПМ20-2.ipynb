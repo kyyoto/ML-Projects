{
 "cells": [
  {
   "cell_type": "markdown",
   "metadata": {},
   "source": [
    "# Введение в обработку текста на естественном языке"
   ]
  },
  {
   "cell_type": "markdown",
   "metadata": {},
   "source": [
    "__Автор задач: Блохин Н.В. (NVBlokhin@fa.ru)__\n",
    "\n",
    "Материалы:\n",
    "* Макрушин С.В. Лекция \"Введение в обработку текста на естественном языке\"\n",
    "* https://www.nltk.org/api/nltk.metrics.distance.html\n",
    "* https://pymorphy2.readthedocs.io/en/stable/user/guide.html\n",
    "* https://realpython.com/nltk-nlp-python/\n",
    "* https://scikit-learn.org/stable/modules/feature_extraction.html"
   ]
  },
  {
   "cell_type": "code",
   "execution_count": 1,
   "metadata": {},
   "outputs": [],
   "source": [
    "path = 'C://Users//icom1//OneDrive - icom//Рабочий стол//TOBD_datasets//'"
   ]
  },
  {
   "cell_type": "markdown",
   "metadata": {},
   "source": [
    "## Лабораторная работа 7"
   ]
  },
  {
   "cell_type": "markdown",
   "metadata": {},
   "source": [
    "1\\. Загрузите данные из файла `ru_recipes_sample.csv` в виде `pd.DataFrame` `recipes` Используя регулярные выражения, удалите из описаний (столбец `description`) все символы, кроме русских букв, цифр и пробелов. Приведите все слова в описании к нижнему регистру. Сохраните полученный результат в столбец `description`."
   ]
  },
  {
   "cell_type": "code",
   "execution_count": 2,
   "metadata": {},
   "outputs": [],
   "source": [
    "import pandas as pd"
   ]
  },
  {
   "cell_type": "code",
   "execution_count": 3,
   "metadata": {},
   "outputs": [
    {
     "data": {
      "text/html": [
       "<div>\n",
       "<style scoped>\n",
       "    .dataframe tbody tr th:only-of-type {\n",
       "        vertical-align: middle;\n",
       "    }\n",
       "\n",
       "    .dataframe tbody tr th {\n",
       "        vertical-align: top;\n",
       "    }\n",
       "\n",
       "    .dataframe thead th {\n",
       "        text-align: right;\n",
       "    }\n",
       "</style>\n",
       "<table border=\"1\" class=\"dataframe\">\n",
       "  <thead>\n",
       "    <tr style=\"text-align: right;\">\n",
       "      <th></th>\n",
       "      <th>url</th>\n",
       "      <th>name</th>\n",
       "      <th>ingredients</th>\n",
       "      <th>description</th>\n",
       "    </tr>\n",
       "  </thead>\n",
       "  <tbody>\n",
       "    <tr>\n",
       "      <th>0</th>\n",
       "      <td>https://www.povarenok.ru/recipes/show/164365/</td>\n",
       "      <td>Густой молочно-клубничный коктейль</td>\n",
       "      <td>{'Молоко': '250 мл', 'Клубника': '200 г', 'Сах...</td>\n",
       "      <td>Этот коктейль готовлю из замороженной клубники...</td>\n",
       "    </tr>\n",
       "  </tbody>\n",
       "</table>\n",
       "</div>"
      ],
      "text/plain": [
       "                                             url  \\\n",
       "0  https://www.povarenok.ru/recipes/show/164365/   \n",
       "\n",
       "                                 name  \\\n",
       "0  Густой молочно-клубничный коктейль   \n",
       "\n",
       "                                         ingredients  \\\n",
       "0  {'Молоко': '250 мл', 'Клубника': '200 г', 'Сах...   \n",
       "\n",
       "                                         description  \n",
       "0  Этот коктейль готовлю из замороженной клубники...  "
      ]
     },
     "execution_count": 3,
     "metadata": {},
     "output_type": "execute_result"
    }
   ],
   "source": [
    "recipes = pd.read_csv(path+'ru_recipes_sample.csv')\n",
    "recipes.head(1)"
   ]
  },
  {
   "cell_type": "code",
   "execution_count": 4,
   "metadata": {},
   "outputs": [],
   "source": [
    "import re\n",
    "pattern = re.compile(r\"(?:[^а-я0-9 ])\", re.I)"
   ]
  },
  {
   "cell_type": "code",
   "execution_count": 5,
   "metadata": {},
   "outputs": [
    {
     "data": {
      "text/plain": [
       "'этот коктейль готовлю из замороженной клубники если клубника свежая то добавляю перепелиное яйцо благодаря этому коктейль получается устойчиво густым'"
      ]
     },
     "execution_count": 5,
     "metadata": {},
     "output_type": "execute_result"
    }
   ],
   "source": [
    "pd.set_option('display.max_colwidth', None)\n",
    "recipes.description = recipes.description.str.lower().replace(pattern, '')\n",
    "recipes.description[0]"
   ]
  },
  {
   "cell_type": "markdown",
   "metadata": {},
   "source": [
    "### Расстояние редактирования"
   ]
  },
  {
   "cell_type": "markdown",
   "metadata": {},
   "source": [
    "2\\. Получите набор уникальных слов `words`, содержащихся в текстах описаний рецептов (воспользуйтесь `word_tokenize` из `nltk`). Сгенерируйте 5 пар случайно выбранных слов и посчитайте между ними расстояние Левенштейна. Выведите на экран результат в следующем виде:\n",
    "\n",
    "```\n",
    "d(word1, word2) = x\n",
    "```"
   ]
  },
  {
   "cell_type": "code",
   "execution_count": 6,
   "metadata": {},
   "outputs": [],
   "source": [
    "from nltk.tokenize import word_tokenize\n",
    "words_ununique = recipes.description.apply(lambda i: word_tokenize(i))"
   ]
  },
  {
   "cell_type": "code",
   "execution_count": 7,
   "metadata": {},
   "outputs": [],
   "source": [
    "words = []\n",
    "for list_of_words in words_ununique:\n",
    "    for word in list_of_words:\n",
    "        if word in words:\n",
    "            pass\n",
    "        else:\n",
    "            words.append(word)"
   ]
  },
  {
   "cell_type": "code",
   "execution_count": 8,
   "metadata": {},
   "outputs": [
    {
     "data": {
      "text/plain": [
       "[['той', 'необычен'],\n",
       " ['превратится', 'закаток'],\n",
       " ['праздничный', 'настоялся'],\n",
       " ['взвесила', 'сырые'],\n",
       " ['такую', 'трудиться']]"
      ]
     },
     "execution_count": 8,
     "metadata": {},
     "output_type": "execute_result"
    }
   ],
   "source": [
    "from random import sample\n",
    "lst_of_samples = [sample(words,2) for i in range(5)]\n",
    "lst_of_samples"
   ]
  },
  {
   "cell_type": "code",
   "execution_count": 9,
   "metadata": {},
   "outputs": [
    {
     "name": "stdout",
     "output_type": "stream",
     "text": [
      "d(той, необычен) = 7\n",
      "d(превратится, закаток) = 9\n",
      "d(праздничный, настоялся) = 10\n",
      "d(взвесила, сырые) = 8\n",
      "d(такую, трудиться) = 8\n"
     ]
    }
   ],
   "source": [
    "from nltk import edit_distance\n",
    "for i in range(5):\n",
    "    print(f'd({lst_of_samples[i][0]}, {lst_of_samples[i][1]}) = {edit_distance(lst_of_samples[i][0],lst_of_samples[i][1])}')"
   ]
  },
  {
   "cell_type": "markdown",
   "metadata": {},
   "source": [
    "3\\. Напишите функцию, которая принимает на вход 2 текстовые строки `s1` и `s2` и при помощи расстояния Левенштейна определяет, является ли строка `s2` плагиатом `s1`. Функция должна реализовывать следующую логику: для каждого слова `w1` из `s1` проверяет, есть в `s2` хотя бы одно слово `w2`, такое, что расстояние Левенштейна между `w1` и `w2` меньше 2, и считает количество таких слов в `s1` $P$. \n",
    "\n",
    "$$ P = \\#\\{w_1 \\in s_1\\ | \\exists w_2 \\in s_2 : d(w_1, w_2) < tol\\}$$\n",
    "\n",
    "$$ L = max(|s1|, |s2|) $$\n",
    "\n",
    "Здесь $|\\cdot|$ - количество слов в строке, $\\#A$ - число элементов в множестве $A$, $w \\in s$ означает, что слово $w$ содержится в тексте $s$.\n",
    "\n",
    "Если отношение $P / L$ больше 0.8, то функция должна вернуть True; иначе False.\n",
    "\n",
    "Продемонстрируйте работу вашей функции на примере описаний двух рецептов с ID 135488 и 851934 (ID рецепта - это число, стоящее в конце url рецепта). Выведите на экран описания этих рецептов и результат работы функции."
   ]
  },
  {
   "cell_type": "code",
   "execution_count": 10,
   "metadata": {},
   "outputs": [],
   "source": [
    "def is_plagiarism(s1: str, s2: str) -> bool:\n",
    "    P = 0\n",
    "    L = max(len(s1.split()),len(s2.split()))\n",
    "    for w1 in s1.split():\n",
    "        for w2 in s2.split():\n",
    "            if edit_distance(w1, w2) < 2:\n",
    "                P += 1\n",
    "    return P/L > 0.8"
   ]
  },
  {
   "cell_type": "code",
   "execution_count": 11,
   "metadata": {},
   "outputs": [
    {
     "name": "stdout",
     "output_type": "stream",
     "text": [
      "прекрасной закуской к крепким напиткам на фуршетном столе станет паштет из сала и авокадо с чесноком который мы спрячем в орешках из бородинского хлеба положив в середину маслину закуска получается необычной оригинальной и ценится особенно мужчинами\n",
      "\n",
      "замечательной закуской к напиткам на фуршетном столе станет паштет из сала и авокадо с чесноком куда мы добавим орешков из бородинского хлеба положив в середину маслины закуска получается крайне необычной оригинальной и ценится особенно мужчинами\n"
     ]
    },
    {
     "data": {
      "text/plain": [
       "True"
      ]
     },
     "execution_count": 11,
     "metadata": {},
     "output_type": "execute_result"
    }
   ],
   "source": [
    "s1 = recipes[recipes.url.str.contains('135488')]['description'].values[0]\n",
    "s2 = recipes[recipes.url.str.contains('851934')]['description'].values[0]\n",
    "print(s1 + '\\n\\n' + s2)\n",
    "is_plagiarism(s1, s2)"
   ]
  },
  {
   "cell_type": "markdown",
   "metadata": {},
   "source": [
    "### Стемминг, лемматизация"
   ]
  },
  {
   "cell_type": "markdown",
   "metadata": {},
   "source": [
    "4\\. На основе набора слов из задания 2 создайте `pd.DataFrame` со столбцами `word`, `stemmed_word` и `normalized_word`. В столбец `stemmed_word` поместите версию слова после проведения процедуры стемминга; в столбец `normalized_word` поместите версию слова после проведения процедуры лемматизации. Столбец `word` укажите в качестве индекса. \n",
    "\n",
    "Для стемминга можно воспользоваться `SnowballStemmer` из `nltk`, для лемматизации слов - пакетом `pymorphy2`. Сравните результаты стемминга и лемматизации. Поясните на примере одной из строк получившегося фрейма (в виде текстового комментария), в чем разница между двумя этими подходами. "
   ]
  },
  {
   "cell_type": "code",
   "execution_count": 12,
   "metadata": {},
   "outputs": [
    {
     "data": {
      "text/html": [
       "<div>\n",
       "<style scoped>\n",
       "    .dataframe tbody tr th:only-of-type {\n",
       "        vertical-align: middle;\n",
       "    }\n",
       "\n",
       "    .dataframe tbody tr th {\n",
       "        vertical-align: top;\n",
       "    }\n",
       "\n",
       "    .dataframe thead th {\n",
       "        text-align: right;\n",
       "    }\n",
       "</style>\n",
       "<table border=\"1\" class=\"dataframe\">\n",
       "  <thead>\n",
       "    <tr style=\"text-align: right;\">\n",
       "      <th></th>\n",
       "      <th>stemmed_word</th>\n",
       "      <th>normalized_word</th>\n",
       "    </tr>\n",
       "    <tr>\n",
       "      <th>word</th>\n",
       "      <th></th>\n",
       "      <th></th>\n",
       "    </tr>\n",
       "  </thead>\n",
       "  <tbody>\n",
       "    <tr>\n",
       "      <th>этот</th>\n",
       "      <td>этот</td>\n",
       "      <td>этот</td>\n",
       "    </tr>\n",
       "    <tr>\n",
       "      <th>коктейль</th>\n",
       "      <td>коктейл</td>\n",
       "      <td>коктейль</td>\n",
       "    </tr>\n",
       "    <tr>\n",
       "      <th>готовлю</th>\n",
       "      <td>готовл</td>\n",
       "      <td>готовить</td>\n",
       "    </tr>\n",
       "    <tr>\n",
       "      <th>из</th>\n",
       "      <td>из</td>\n",
       "      <td>из</td>\n",
       "    </tr>\n",
       "    <tr>\n",
       "      <th>замороженной</th>\n",
       "      <td>заморожен</td>\n",
       "      <td>заморозить</td>\n",
       "    </tr>\n",
       "    <tr>\n",
       "      <th>...</th>\n",
       "      <td>...</td>\n",
       "      <td>...</td>\n",
       "    </tr>\n",
       "    <tr>\n",
       "      <th>сбывается</th>\n",
       "      <td>сбыва</td>\n",
       "      <td>сбываться</td>\n",
       "    </tr>\n",
       "    <tr>\n",
       "      <th>подружим</th>\n",
       "      <td>подруж</td>\n",
       "      <td>подружить</td>\n",
       "    </tr>\n",
       "    <tr>\n",
       "      <th>одинаковых</th>\n",
       "      <td>одинаков</td>\n",
       "      <td>одинаковый</td>\n",
       "    </tr>\n",
       "    <tr>\n",
       "      <th>задорных</th>\n",
       "      <td>задорн</td>\n",
       "      <td>задорный</td>\n",
       "    </tr>\n",
       "    <tr>\n",
       "      <th>мальчишек</th>\n",
       "      <td>мальчишек</td>\n",
       "      <td>мальчишка</td>\n",
       "    </tr>\n",
       "  </tbody>\n",
       "</table>\n",
       "<p>16767 rows × 2 columns</p>\n",
       "</div>"
      ],
      "text/plain": [
       "             stemmed_word normalized_word\n",
       "word                                     \n",
       "этот                 этот            этот\n",
       "коктейль          коктейл        коктейль\n",
       "готовлю            готовл        готовить\n",
       "из                     из              из\n",
       "замороженной    заморожен      заморозить\n",
       "...                   ...             ...\n",
       "сбывается           сбыва       сбываться\n",
       "подружим           подруж       подружить\n",
       "одинаковых       одинаков      одинаковый\n",
       "задорных           задорн        задорный\n",
       "мальчишек       мальчишек       мальчишка\n",
       "\n",
       "[16767 rows x 2 columns]"
      ]
     },
     "execution_count": 12,
     "metadata": {},
     "output_type": "execute_result"
    }
   ],
   "source": [
    "import numpy as np\n",
    "from nltk.stem import SnowballStemmer\n",
    "import pymorphy2\n",
    "\n",
    "stemmer = SnowballStemmer(\"russian\")\n",
    "{w: stemmer.stem(w) for w in words}\n",
    "stemmer = SnowballStemmer(\"russian\")\n",
    "morph = pymorphy2.MorphAnalyzer()\n",
    "stem_df = pd.DataFrame()\n",
    "stem_df['stemmed_word'] = [stemmer.stem(word) for word in words]\n",
    "stem_df['normalized_word'] = [morph.parse(word)[0].normalized.word for word in words]\n",
    "stem_df['word'] = words\n",
    "stem_df.set_index('word')"
   ]
  },
  {
   "cell_type": "markdown",
   "metadata": {},
   "source": [
    "*Стемминг - приведение слова к его минимальному корню (исключая приставки, окончания, суффиксы)*\n",
    "---\n",
    "***\n",
    "*Лемматизация - приведение слова к начальной форме (слово осмысленно, просто в нулевой форме)*\n",
    "---"
   ]
  },
  {
   "cell_type": "markdown",
   "metadata": {},
   "source": [
    "5\\. Добавьте в таблицу `recipes` столбец `description_no_stopwords`, в котором содержится текст описания рецепта после удаления из него стоп-слов. Посчитайте и выведите на экран долю стоп-слов среди общего количества слов. Сравните топ-10 самых часто употребляемых слов до и после удаления стоп-слов."
   ]
  },
  {
   "cell_type": "code",
   "execution_count": 13,
   "metadata": {},
   "outputs": [],
   "source": [
    "from nltk.corpus import stopwords\n",
    "def remove_stopwords(description):\n",
    "    text_tokens = word_tokenize(description)\n",
    "    st_words = stopwords.words('russian')\n",
    "    lst_no_stopwords = [word for word in text_tokens if not word in st_words]\n",
    "    return ' '.join(lst_no_stopwords)"
   ]
  },
  {
   "cell_type": "code",
   "execution_count": 14,
   "metadata": {},
   "outputs": [],
   "source": [
    "recipes['description_no_stopwords'] = recipes.description.apply(lambda i: remove_stopwords(i))"
   ]
  },
  {
   "cell_type": "code",
   "execution_count": 15,
   "metadata": {},
   "outputs": [
    {
     "data": {
      "text/plain": [
       "('этот коктейль готовлю из замороженной клубники если клубника свежая то добавляю перепелиное яйцо благодаря этому коктейль получается устойчиво густым',\n",
       " 'коктейль готовлю замороженной клубники клубника свежая добавляю перепелиное яйцо благодаря этому коктейль получается устойчиво густым')"
      ]
     },
     "execution_count": 15,
     "metadata": {},
     "output_type": "execute_result"
    }
   ],
   "source": [
    "recipes.description[0], recipes['description_no_stopwords'][0]"
   ]
  },
  {
   "cell_type": "code",
   "execution_count": 26,
   "metadata": {},
   "outputs": [
    {
     "data": {
      "text/plain": [
       "83.0"
      ]
     },
     "execution_count": 26,
     "metadata": {},
     "output_type": "execute_result"
    }
   ],
   "source": [
    "round(\n",
    "    sum(\n",
    "        [len(item) for item in recipes.description_no_stopwords]) / sum([len(item) for item in recipes.description]\n",
    "        ),\n",
    "    2\n",
    ") * 100"
   ]
  },
  {
   "cell_type": "code",
   "execution_count": 94,
   "metadata": {},
   "outputs": [
    {
     "data": {
      "text/plain": [
       "[('и', 5043),\n",
       " ('в', 2567),\n",
       " ('с', 1932),\n",
       " ('на', 1642),\n",
       " ('очень', 1594),\n",
       " ('не', 1520),\n",
       " ('из', 1005),\n",
       " ('я', 972),\n",
       " ('а', 850),\n",
       " ('рецепт', 843)]"
      ]
     },
     "execution_count": 94,
     "metadata": {},
     "output_type": "execute_result"
    }
   ],
   "source": [
    "words = {}\n",
    "for list_of_words in words_ununique:\n",
    "    for word in list_of_words:\n",
    "        if word in words.keys():\n",
    "            words[word] +=1\n",
    "        else:\n",
    "            words[word] = 1\n",
    "from collections import Counter\n",
    "Counter(words).most_common(10)"
   ]
  },
  {
   "cell_type": "code",
   "execution_count": 102,
   "metadata": {},
   "outputs": [
    {
     "data": {
      "text/plain": [
       "[('очень', 1594),\n",
       " ('рецепт', 843),\n",
       " ('это', 728),\n",
       " ('блюдо', 521),\n",
       " ('вкусный', 459),\n",
       " ('просто', 434),\n",
       " ('вкусно', 366),\n",
       " ('приготовить', 342),\n",
       " ('вкус', 319),\n",
       " ('салат', 312)]"
      ]
     },
     "execution_count": 102,
     "metadata": {},
     "output_type": "execute_result"
    }
   ],
   "source": [
    "no_stop_words = {}\n",
    "for list_of_words in recipes['description_no_stopwords'].apply(lambda i: word_tokenize(i)).to_list():\n",
    "    for word in list_of_words:\n",
    "        if word in no_stop_words.keys():\n",
    "            no_stop_words[word] +=1\n",
    "        else:\n",
    "            no_stop_words[word] = 1\n",
    "from collections import Counter\n",
    "Counter(no_stop_words).most_common(10)"
   ]
  },
  {
   "cell_type": "markdown",
   "metadata": {},
   "source": [
    "Без стоп слов в самых популярных появились смысловые слова, вместо различных предлогов, приставок и прочех частей речи не несущих информацию\n",
    "---"
   ]
  },
  {
   "cell_type": "markdown",
   "metadata": {},
   "source": [
    "### Векторное представление текста"
   ]
  },
  {
   "cell_type": "markdown",
   "metadata": {},
   "source": [
    "6\\. Выберите случайным образом 5 рецептов из набора данных, в названии которых есть слово \"оладьи\" (без учета регистра). Представьте описание каждого рецепта в виде числового вектора при помощи `TfidfVectorizer`. На основе полученных векторов создайте `pd.DataFrame`, в котором названия колонок соответствуют словам из словаря объекта-векторизатора. \n",
    "\n",
    "Примечание: обратите внимание на порядок слов при создании колонок."
   ]
  },
  {
   "cell_type": "code",
   "execution_count": 127,
   "metadata": {},
   "outputs": [],
   "source": [
    "from sklearn.feature_extraction.text import TfidfVectorizer\n",
    "sample_descr_list = recipes[recipes.name.str.lower().str.contains('оладьи')]['description'].sample(5).to_list()\n",
    "corpus = sample_descr_list\n",
    "vectorizer = TfidfVectorizer()\n",
    "X = vectorizer.fit_transform(corpus)"
   ]
  },
  {
   "cell_type": "code",
   "execution_count": 128,
   "metadata": {},
   "outputs": [
    {
     "data": {
      "text/html": [
       "<div>\n",
       "<style scoped>\n",
       "    .dataframe tbody tr th:only-of-type {\n",
       "        vertical-align: middle;\n",
       "    }\n",
       "\n",
       "    .dataframe tbody tr th {\n",
       "        vertical-align: top;\n",
       "    }\n",
       "\n",
       "    .dataframe thead th {\n",
       "        text-align: right;\n",
       "    }\n",
       "</style>\n",
       "<table border=\"1\" class=\"dataframe\">\n",
       "  <thead>\n",
       "    <tr style=\"text-align: right;\">\n",
       "      <th></th>\n",
       "      <th>31</th>\n",
       "      <th>ароматные</th>\n",
       "      <th>базилика</th>\n",
       "      <th>без</th>\n",
       "      <th>блендер</th>\n",
       "      <th>более</th>\n",
       "      <th>бы</th>\n",
       "      <th>вам</th>\n",
       "      <th>версию</th>\n",
       "      <th>весной</th>\n",
       "      <th>...</th>\n",
       "      <th>только</th>\n",
       "      <th>томатные</th>\n",
       "      <th>угощайтесь</th>\n",
       "      <th>упростился</th>\n",
       "      <th>хозяйственник</th>\n",
       "      <th>чашу</th>\n",
       "      <th>щепотка</th>\n",
       "      <th>эльзара</th>\n",
       "      <th>это</th>\n",
       "      <th>яблочками</th>\n",
       "    </tr>\n",
       "  </thead>\n",
       "  <tbody>\n",
       "    <tr>\n",
       "      <th>0</th>\n",
       "      <td>0.000000</td>\n",
       "      <td>0.227615</td>\n",
       "      <td>0.000000</td>\n",
       "      <td>0.227615</td>\n",
       "      <td>0.000000</td>\n",
       "      <td>0.000000</td>\n",
       "      <td>0.000000</td>\n",
       "      <td>0.000000</td>\n",
       "      <td>0.000000</td>\n",
       "      <td>0.227615</td>\n",
       "      <td>...</td>\n",
       "      <td>0.183638</td>\n",
       "      <td>0.000000</td>\n",
       "      <td>0.227615</td>\n",
       "      <td>0.000000</td>\n",
       "      <td>0.000000</td>\n",
       "      <td>0.000000</td>\n",
       "      <td>0.000000</td>\n",
       "      <td>0.000000</td>\n",
       "      <td>0.000000</td>\n",
       "      <td>0.000000</td>\n",
       "    </tr>\n",
       "    <tr>\n",
       "      <th>1</th>\n",
       "      <td>0.000000</td>\n",
       "      <td>0.000000</td>\n",
       "      <td>0.144564</td>\n",
       "      <td>0.000000</td>\n",
       "      <td>0.000000</td>\n",
       "      <td>0.000000</td>\n",
       "      <td>0.144564</td>\n",
       "      <td>0.144564</td>\n",
       "      <td>0.144564</td>\n",
       "      <td>0.000000</td>\n",
       "      <td>...</td>\n",
       "      <td>0.116633</td>\n",
       "      <td>0.144564</td>\n",
       "      <td>0.000000</td>\n",
       "      <td>0.000000</td>\n",
       "      <td>0.144564</td>\n",
       "      <td>0.000000</td>\n",
       "      <td>0.144564</td>\n",
       "      <td>0.000000</td>\n",
       "      <td>0.000000</td>\n",
       "      <td>0.000000</td>\n",
       "    </tr>\n",
       "    <tr>\n",
       "      <th>2</th>\n",
       "      <td>0.000000</td>\n",
       "      <td>0.000000</td>\n",
       "      <td>0.000000</td>\n",
       "      <td>0.000000</td>\n",
       "      <td>0.000000</td>\n",
       "      <td>0.000000</td>\n",
       "      <td>0.000000</td>\n",
       "      <td>0.000000</td>\n",
       "      <td>0.000000</td>\n",
       "      <td>0.000000</td>\n",
       "      <td>...</td>\n",
       "      <td>0.000000</td>\n",
       "      <td>0.000000</td>\n",
       "      <td>0.000000</td>\n",
       "      <td>0.000000</td>\n",
       "      <td>0.000000</td>\n",
       "      <td>0.000000</td>\n",
       "      <td>0.000000</td>\n",
       "      <td>0.266317</td>\n",
       "      <td>0.000000</td>\n",
       "      <td>0.266317</td>\n",
       "    </tr>\n",
       "    <tr>\n",
       "      <th>3</th>\n",
       "      <td>0.000000</td>\n",
       "      <td>0.000000</td>\n",
       "      <td>0.000000</td>\n",
       "      <td>0.000000</td>\n",
       "      <td>0.000000</td>\n",
       "      <td>0.000000</td>\n",
       "      <td>0.000000</td>\n",
       "      <td>0.000000</td>\n",
       "      <td>0.000000</td>\n",
       "      <td>0.000000</td>\n",
       "      <td>...</td>\n",
       "      <td>0.000000</td>\n",
       "      <td>0.000000</td>\n",
       "      <td>0.000000</td>\n",
       "      <td>0.000000</td>\n",
       "      <td>0.000000</td>\n",
       "      <td>0.000000</td>\n",
       "      <td>0.000000</td>\n",
       "      <td>0.000000</td>\n",
       "      <td>0.260375</td>\n",
       "      <td>0.000000</td>\n",
       "    </tr>\n",
       "    <tr>\n",
       "      <th>4</th>\n",
       "      <td>0.125037</td>\n",
       "      <td>0.000000</td>\n",
       "      <td>0.000000</td>\n",
       "      <td>0.000000</td>\n",
       "      <td>0.125037</td>\n",
       "      <td>0.125037</td>\n",
       "      <td>0.000000</td>\n",
       "      <td>0.000000</td>\n",
       "      <td>0.000000</td>\n",
       "      <td>0.000000</td>\n",
       "      <td>...</td>\n",
       "      <td>0.000000</td>\n",
       "      <td>0.000000</td>\n",
       "      <td>0.000000</td>\n",
       "      <td>0.125037</td>\n",
       "      <td>0.000000</td>\n",
       "      <td>0.125037</td>\n",
       "      <td>0.000000</td>\n",
       "      <td>0.000000</td>\n",
       "      <td>0.000000</td>\n",
       "      <td>0.000000</td>\n",
       "    </tr>\n",
       "  </tbody>\n",
       "</table>\n",
       "<p>5 rows × 145 columns</p>\n",
       "</div>"
      ],
      "text/plain": [
       "         31  ароматные  базилика       без   блендер     более        бы  \\\n",
       "0  0.000000   0.227615  0.000000  0.227615  0.000000  0.000000  0.000000   \n",
       "1  0.000000   0.000000  0.144564  0.000000  0.000000  0.000000  0.144564   \n",
       "2  0.000000   0.000000  0.000000  0.000000  0.000000  0.000000  0.000000   \n",
       "3  0.000000   0.000000  0.000000  0.000000  0.000000  0.000000  0.000000   \n",
       "4  0.125037   0.000000  0.000000  0.000000  0.125037  0.125037  0.000000   \n",
       "\n",
       "        вам    версию    весной  ...    только  томатные  угощайтесь  \\\n",
       "0  0.000000  0.000000  0.227615  ...  0.183638  0.000000    0.227615   \n",
       "1  0.144564  0.144564  0.000000  ...  0.116633  0.144564    0.000000   \n",
       "2  0.000000  0.000000  0.000000  ...  0.000000  0.000000    0.000000   \n",
       "3  0.000000  0.000000  0.000000  ...  0.000000  0.000000    0.000000   \n",
       "4  0.000000  0.000000  0.000000  ...  0.000000  0.000000    0.000000   \n",
       "\n",
       "   упростился  хозяйственник      чашу   щепотка   эльзара       это  \\\n",
       "0    0.000000       0.000000  0.000000  0.000000  0.000000  0.000000   \n",
       "1    0.000000       0.144564  0.000000  0.144564  0.000000  0.000000   \n",
       "2    0.000000       0.000000  0.000000  0.000000  0.266317  0.000000   \n",
       "3    0.000000       0.000000  0.000000  0.000000  0.000000  0.260375   \n",
       "4    0.125037       0.000000  0.125037  0.000000  0.000000  0.000000   \n",
       "\n",
       "   яблочками  \n",
       "0   0.000000  \n",
       "1   0.000000  \n",
       "2   0.266317  \n",
       "3   0.000000  \n",
       "4   0.000000  \n",
       "\n",
       "[5 rows x 145 columns]"
      ]
     },
     "execution_count": 128,
     "metadata": {},
     "output_type": "execute_result"
    }
   ],
   "source": [
    "vectors_df = pd.DataFrame.sparse.from_spmatrix(data = X, columns = vectorizer.get_feature_names_out())\n",
    "vectors_df"
   ]
  },
  {
   "cell_type": "markdown",
   "metadata": {},
   "source": [
    "7\\. Вычислите близость между каждой парой рецептов, выбранных в задании 6, используя косинусное расстояние (можно воспользоваться функциями из любого пакета: `scipy`, `scikit-learn` или реализовать функцию самому). Результаты оформите в виде таблицы `pd.DataFrame`. В качестве названий строк и столбцов используйте названия рецептов.\n",
    "\n",
    "Примечание: обратите внимание, что $d_{cosine}(x, x) = 0$"
   ]
  },
  {
   "cell_type": "code",
   "execution_count": 129,
   "metadata": {},
   "outputs": [],
   "source": [
    "names = []\n",
    "for desc in sample_descr_list:\n",
    "    name = recipes[recipes.description == desc]['name'].to_list()\n",
    "    names.append(name[0])"
   ]
  },
  {
   "cell_type": "code",
   "execution_count": 130,
   "metadata": {},
   "outputs": [
    {
     "data": {
      "text/html": [
       "<div>\n",
       "<style scoped>\n",
       "    .dataframe tbody tr th:only-of-type {\n",
       "        vertical-align: middle;\n",
       "    }\n",
       "\n",
       "    .dataframe tbody tr th {\n",
       "        vertical-align: top;\n",
       "    }\n",
       "\n",
       "    .dataframe thead th {\n",
       "        text-align: right;\n",
       "    }\n",
       "</style>\n",
       "<table border=\"1\" class=\"dataframe\">\n",
       "  <thead>\n",
       "    <tr style=\"text-align: right;\">\n",
       "      <th></th>\n",
       "      <th>Оладьи с рубленым яйцом и луком</th>\n",
       "      <th>Оладьи из помидоров с мятой</th>\n",
       "      <th>Оладьи от Эльзары</th>\n",
       "      <th>Оладьи овсяные дрожжевые</th>\n",
       "      <th>Оладьи из печени</th>\n",
       "    </tr>\n",
       "  </thead>\n",
       "  <tbody>\n",
       "    <tr>\n",
       "      <th>Оладьи с рубленым яйцом и луком</th>\n",
       "      <td>0.000000</td>\n",
       "      <td>0.978582</td>\n",
       "      <td>0.960543</td>\n",
       "      <td>1.000000</td>\n",
       "      <td>1.000000</td>\n",
       "    </tr>\n",
       "    <tr>\n",
       "      <th>Оладьи из помидоров с мятой</th>\n",
       "      <td>0.978582</td>\n",
       "      <td>0.000000</td>\n",
       "      <td>0.982732</td>\n",
       "      <td>0.958617</td>\n",
       "      <td>0.936722</td>\n",
       "    </tr>\n",
       "    <tr>\n",
       "      <th>Оладьи от Эльзары</th>\n",
       "      <td>0.960543</td>\n",
       "      <td>0.982732</td>\n",
       "      <td>0.000000</td>\n",
       "      <td>1.000000</td>\n",
       "      <td>0.985065</td>\n",
       "    </tr>\n",
       "    <tr>\n",
       "      <th>Оладьи овсяные дрожжевые</th>\n",
       "      <td>1.000000</td>\n",
       "      <td>0.958617</td>\n",
       "      <td>1.000000</td>\n",
       "      <td>0.000000</td>\n",
       "      <td>0.964207</td>\n",
       "    </tr>\n",
       "    <tr>\n",
       "      <th>Оладьи из печени</th>\n",
       "      <td>1.000000</td>\n",
       "      <td>0.936722</td>\n",
       "      <td>0.985065</td>\n",
       "      <td>0.964207</td>\n",
       "      <td>0.000000</td>\n",
       "    </tr>\n",
       "  </tbody>\n",
       "</table>\n",
       "</div>"
      ],
      "text/plain": [
       "                                 Оладьи с рубленым яйцом и луком  \\\n",
       "Оладьи с рубленым яйцом и луком                         0.000000   \n",
       "Оладьи из помидоров с мятой                             0.978582   \n",
       "Оладьи от Эльзары                                       0.960543   \n",
       "Оладьи овсяные дрожжевые                                1.000000   \n",
       "Оладьи из печени                                        1.000000   \n",
       "\n",
       "                                 Оладьи из помидоров с мятой  \\\n",
       "Оладьи с рубленым яйцом и луком                     0.978582   \n",
       "Оладьи из помидоров с мятой                         0.000000   \n",
       "Оладьи от Эльзары                                   0.982732   \n",
       "Оладьи овсяные дрожжевые                            0.958617   \n",
       "Оладьи из печени                                    0.936722   \n",
       "\n",
       "                                 Оладьи от Эльзары  Оладьи овсяные дрожжевые  \\\n",
       "Оладьи с рубленым яйцом и луком           0.960543                  1.000000   \n",
       "Оладьи из помидоров с мятой               0.982732                  0.958617   \n",
       "Оладьи от Эльзары                         0.000000                  1.000000   \n",
       "Оладьи овсяные дрожжевые                  1.000000                  0.000000   \n",
       "Оладьи из печени                          0.985065                  0.964207   \n",
       "\n",
       "                                 Оладьи из печени  \n",
       "Оладьи с рубленым яйцом и луком          1.000000  \n",
       "Оладьи из помидоров с мятой              0.936722  \n",
       "Оладьи от Эльзары                        0.985065  \n",
       "Оладьи овсяные дрожжевые                 0.964207  \n",
       "Оладьи из печени                         0.000000  "
      ]
     },
     "execution_count": 130,
     "metadata": {},
     "output_type": "execute_result"
    }
   ],
   "source": [
    "from sklearn.metrics.pairwise import cosine_distances\n",
    "df = pd.DataFrame(data = cosine_distances(vectors_df), columns = names, index = names)\n",
    "df"
   ]
  },
  {
   "cell_type": "markdown",
   "metadata": {},
   "source": [
    "8\\. Напишите функцию, которая принимает на вход `pd.DataFrame`, полученный в задании 7, и возвращает в виде кортежа названия двух различных рецептов, которые являются наиболее похожими. Прокомментируйте результат (в виде текстового комментария). Для объяснения результата сравните слова в описаниях двух этих отзывов."
   ]
  },
  {
   "cell_type": "code",
   "execution_count": 131,
   "metadata": {},
   "outputs": [],
   "source": [
    "def find_closest(sim_df: pd.DataFrame) -> tuple:\n",
    "    first = df[df>0].min().sort_values().index[0]\n",
    "    second = df[df>0].min().sort_values().index[1]\n",
    "    return (first, second)\n",
    "        "
   ]
  },
  {
   "cell_type": "code",
   "execution_count": 132,
   "metadata": {},
   "outputs": [
    {
     "data": {
      "text/plain": [
       "('Оладьи из помидоров с мятой', 'Оладьи из печени')"
      ]
     },
     "execution_count": 132,
     "metadata": {},
     "output_type": "execute_result"
    }
   ],
   "source": [
    "find_closest(df)"
   ]
  },
  {
   "cell_type": "code",
   "execution_count": 133,
   "metadata": {},
   "outputs": [
    {
     "data": {
      "text/plain": [
       "'какойто хозяйственник проснулся в мом муже когда он принс домой несколько килограммов помидоров  теперь у нас дома начинаются томатные дни оладьи готовила полностью по рецепту от себя только щепотка базилика который как мне кажется помидорам всегда на пользу но я бы рецепт немного изменила выкладываю оригинальную версию со своими комментариями надеюсь вам понравится'"
      ]
     },
     "execution_count": 133,
     "metadata": {},
     "output_type": "execute_result"
    }
   ],
   "source": [
    "recipes[recipes.name == find_closest(df)[0]]['description'].values[0]"
   ]
  },
  {
   "cell_type": "code",
   "execution_count": 134,
   "metadata": {},
   "outputs": [
    {
     "data": {
      "text/plain": [
       "'31 декабря рабочий день  времени на подготовку праздничного стола ооочень мало на помощь приходят рецепты которые можно приготовить заранее рецепт оладушек простой но их не стыдно подать на праздничный стол тем более несложный процесс приготовления упростился окончательно сейчас на смену мясорубке пришел блендер или кухонный комбайн в чашу которого можно сложить все ингредиенты одновременно вуаля и вкусная закуска готова'"
      ]
     },
     "execution_count": 134,
     "metadata": {},
     "output_type": "execute_result"
    }
   ],
   "source": [
    "recipes[recipes.name == find_closest(df)[1]]['description'].values[0]"
   ]
  },
  {
   "cell_type": "markdown",
   "metadata": {},
   "source": [
    "Были выбраны именно эти строки, потому что угол между их векторами минимален, например, есть одинаковые слова, или похожие друг на друга (Этот угол получился таким после преобразования TF-IDF: вес некоторого слова пропорционален частоте употребления этого слова в строке и обратно пропорционален частоте употребления слова во всех остальных строках)\n",
    "---"
   ]
  },
  {
   "cell_type": "code",
   "execution_count": null,
   "metadata": {},
   "outputs": [],
   "source": []
  }
 ],
 "metadata": {
  "kernelspec": {
   "display_name": "Python 3 (ipykernel)",
   "language": "python",
   "name": "python3"
  },
  "language_info": {
   "codemirror_mode": {
    "name": "ipython",
    "version": 3
   },
   "file_extension": ".py",
   "mimetype": "text/x-python",
   "name": "python",
   "nbconvert_exporter": "python",
   "pygments_lexer": "ipython3",
   "version": "3.10.7"
  }
 },
 "nbformat": 4,
 "nbformat_minor": 4
}
