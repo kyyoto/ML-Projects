{
 "cells": [
  {
   "cell_type": "markdown",
   "metadata": {
    "id": "RqcYMibU0--k"
   },
   "source": [
    "# Numpy"
   ]
  },
  {
   "cell_type": "markdown",
   "metadata": {
    "id": "qCk7FT7X0--t"
   },
   "source": [
    "Материалы:\n",
    "* Макрушин С.В. \"Лекция 1: Библиотека Numpy\"\n",
    "* https://numpy.org/doc/stable/user/index.html\n",
    "* https://numpy.org/doc/stable/reference/index.html\n",
    "* Уэс Маккини. Python и анализ данных"
   ]
  },
  {
   "cell_type": "markdown",
   "metadata": {
    "id": "y0wqkI0X0--x"
   },
   "source": [
    "## Задачи для совместного разбора"
   ]
  },
  {
   "cell_type": "code",
   "execution_count": null,
   "metadata": {
    "id": "TO1aNowF5I3H"
   },
   "outputs": [],
   "source": [
    "import numpy as np"
   ]
  },
  {
   "cell_type": "markdown",
   "metadata": {
    "id": "QttBywcb0--z"
   },
   "source": [
    "1. Сгенерировать двухмерный массив `arr` размерности (4, 7), состоящий из случайных действительных чисел, равномерно распределенных в диапазоне от 0 до 20. Нормализовать значения массива с помощью преобразования вида  $𝑎𝑥+𝑏$  так, что после нормализации максимальный элемент масcива будет равен 1.0, минимальный 0.0"
   ]
  },
  {
   "cell_type": "code",
   "execution_count": null,
   "metadata": {
    "colab": {
     "base_uri": "https://localhost:8080/"
    },
    "id": "VdyUgNwT1nhj",
    "outputId": "7f4d3f7e-9b42-4922-943a-f57866cc40b3"
   },
   "outputs": [
    {
     "data": {
      "text/plain": [
       "array([[18.37120375,  8.29890376, 10.72961556,  6.66535262,  3.7338859 ,\n",
       "         8.90885056, 16.64557306],\n",
       "       [15.32660084, 15.73972452, 10.78268775, 14.86916682,  7.47219094,\n",
       "         8.47079372,  2.472524  ],\n",
       "       [ 5.63752304, 12.89268706,  7.76023399,  9.1984157 ,  6.12378585,\n",
       "        19.38372498,  2.6702263 ],\n",
       "       [10.59532751,  0.68921906, 13.06133692, 14.76516334, 14.48253993,\n",
       "        17.11517993,  4.91379718]])"
      ]
     },
     "execution_count": 26,
     "metadata": {},
     "output_type": "execute_result"
    }
   ],
   "source": [
    "arr = np.random.uniform(low = 0, high = 20, size = (4,7))\n",
    "arr"
   ]
  },
  {
   "cell_type": "code",
   "execution_count": null,
   "metadata": {
    "colab": {
     "base_uri": "https://localhost:8080/"
    },
    "id": "9uSdfe6B7ZQi",
    "outputId": "05581bf8-af4d-4b63-c2d7-a597084a9045"
   },
   "outputs": [
    {
     "data": {
      "text/plain": [
       "array([[0.94583857, 0.4070546 , 0.53707739, 0.31967325, 0.16286426,\n",
       "        0.43968167, 0.85353173],\n",
       "       [0.78297773, 0.8050764 , 0.53991631, 0.75850883, 0.36283237,\n",
       "        0.41624928, 0.09539193],\n",
       "       [0.26469295, 0.65278366, 0.37824027, 0.45517098, 0.29070395,\n",
       "        1.        , 0.10596735],\n",
       "       [0.5298941 , 0.        , 0.66180502, 0.75294551, 0.73782752,\n",
       "        0.87865178, 0.22597966]])"
      ]
     },
     "execution_count": 27,
     "metadata": {},
     "output_type": "execute_result"
    }
   ],
   "source": [
    "#Normalization\n",
    "arr = (arr - arr.min()) / (arr.max() - arr.min())\n",
    "# Normalization: X = AX + B --> 1 / ptp(arr) * arr + (-arr.min()/ptp(arr))\n",
    "arr"
   ]
  },
  {
   "cell_type": "markdown",
   "metadata": {
    "id": "B2_-4PsG0--0"
   },
   "source": [
    "2. Создать матрицу 8 на 10 из случайных целых (используя модуль `numpy.random`) чисел из диапозона от 0 до 10 и найти в ней строку (ее индекс и вывести саму строку), в которой сумма значений минимальна."
   ]
  },
  {
   "cell_type": "code",
   "execution_count": null,
   "metadata": {
    "colab": {
     "base_uri": "https://localhost:8080/"
    },
    "id": "HI0MWfT61pkI",
    "outputId": "c2a94bff-42e2-4821-e1f4-c58926dd909c"
   },
   "outputs": [
    {
     "data": {
      "text/plain": [
       "(2, array([2, 4, 1, 3, 0, 4, 6, 7, 9, 5]))"
      ]
     },
     "execution_count": 46,
     "metadata": {},
     "output_type": "execute_result"
    }
   ],
   "source": [
    "arr = np.random.randint(low = 0, high = 10, size = (8,10))\n",
    "sum_by_row = arr.sum(axis = 0)\n",
    "min_row_index = sum_by_row.argmin()\n",
    "min_row_index, arr[min_row_index]"
   ]
  },
  {
   "cell_type": "code",
   "execution_count": null,
   "metadata": {
    "colab": {
     "base_uri": "https://localhost:8080/"
    },
    "id": "9vrOxzq0-JH0",
    "outputId": "a49c6586-0ae8-4dab-fdcb-e1c61cd7fa02"
   },
   "outputs": [
    {
     "data": {
      "text/plain": [
       "5"
      ]
     },
     "execution_count": 32,
     "metadata": {},
     "output_type": "execute_result"
    }
   ],
   "source": [
    "arr[3, 4]"
   ]
  },
  {
   "cell_type": "code",
   "execution_count": null,
   "metadata": {
    "colab": {
     "base_uri": "https://localhost:8080/"
    },
    "id": "nNsej3GJ-8iJ",
    "outputId": "634952f1-4780-4598-f3be-ab4e4b0f55c3"
   },
   "outputs": [
    {
     "data": {
      "text/plain": [
       "array([2, 9, 7])"
      ]
     },
     "execution_count": 36,
     "metadata": {},
     "output_type": "execute_result"
    }
   ],
   "source": [
    "arr[0:3, 4]"
   ]
  },
  {
   "cell_type": "code",
   "execution_count": null,
   "metadata": {
    "colab": {
     "base_uri": "https://localhost:8080/"
    },
    "id": "WLqgILYc_LrZ",
    "outputId": "c5ed8dc7-2199-436f-da97-477329d39760"
   },
   "outputs": [
    {
     "data": {
      "text/plain": [
       "array([2, 9, 7, 5, 5, 1, 1, 6])"
      ]
     },
     "execution_count": 37,
     "metadata": {},
     "output_type": "execute_result"
    }
   ],
   "source": [
    "arr[:,4]"
   ]
  },
  {
   "cell_type": "code",
   "execution_count": null,
   "metadata": {
    "colab": {
     "base_uri": "https://localhost:8080/"
    },
    "id": "HIJ3-D0t_jUI",
    "outputId": "a8b73005-0726-4b50-e5e5-fdc64bf75939"
   },
   "outputs": [
    {
     "data": {
      "text/plain": [
       "array([38, 37, 31, 39, 36, 41, 41, 33, 36, 39])"
      ]
     },
     "execution_count": 42,
     "metadata": {},
     "output_type": "execute_result"
    }
   ],
   "source": [
    "sum_by_row = arr.sum(axis = 0)\n",
    "sum_by_row"
   ]
  },
  {
   "cell_type": "code",
   "execution_count": null,
   "metadata": {
    "colab": {
     "base_uri": "https://localhost:8080/"
    },
    "id": "bfD4utVPAPEN",
    "outputId": "fb830cf1-c0df-4588-eb44-03650f7f7db3"
   },
   "outputs": [
    {
     "data": {
      "text/plain": [
       "array([5, 5, 2, 7, 7, 3, 4, 9, 1, 3])"
      ]
     },
     "execution_count": 43,
     "metadata": {},
     "output_type": "execute_result"
    }
   ],
   "source": [
    "min_row_index = sum_by_row.argmin()\n",
    "arr[min_row_index]"
   ]
  },
  {
   "cell_type": "markdown",
   "metadata": {
    "id": "vqqJ8NUh0--2"
   },
   "source": [
    "3. Найти евклидово расстояние между двумя одномерными векторами одинаковой размерности."
   ]
  },
  {
   "cell_type": "code",
   "execution_count": null,
   "metadata": {
    "colab": {
     "base_uri": "https://localhost:8080/"
    },
    "id": "GIwCi0-_1pQO",
    "outputId": "60e03c2a-419c-4df4-c424-f19dddafc3b4"
   },
   "outputs": [
    {
     "data": {
      "text/plain": [
       "2.0"
      ]
     },
     "execution_count": 51,
     "metadata": {},
     "output_type": "execute_result"
    }
   ],
   "source": [
    "x = np.array([1, 2, 3])\n",
    "y = np.array([1, 0, 3])\n",
    "np.sqrt(np.power(x - y, 2).sum())\n"
   ]
  },
  {
   "cell_type": "markdown",
   "metadata": {
    "id": "ge2vH1Is0--4"
   },
   "source": [
    "4. Решить матричное уравнение `A*X*B=-C` - найти матрицу `X`. Где `A = [[-1, 2, 4], [-3, 1, 2], [-3, 0, 1]]`, `B=[[3, -1], [2, 1]]`, `C=[[7, 21], [11, 8], [8, 4]]`."
   ]
  },
  {
   "cell_type": "code",
   "execution_count": null,
   "metadata": {
    "id": "Pn_Ftbuz1k-6"
   },
   "outputs": [],
   "source": [
    "A = np.array([[-1, 2, 4], [-3, 1, 2], [-3, 0, 1]])\n",
    "B = np.array([[3, -1], [2, 1]])\n",
    "C = np.array([[7, 21], [11, 8], [8, 4]])"
   ]
  },
  {
   "cell_type": "code",
   "execution_count": null,
   "metadata": {
    "colab": {
     "base_uri": "https://localhost:8080/"
    },
    "id": "wf_3O2glDDxk",
    "outputId": "e2583c17-872c-49c8-bc8e-f23a680f9b68"
   },
   "outputs": [
    {
     "data": {
      "text/plain": [
       "array([[ 1.00000000e+00,  5.32907052e-16],\n",
       "       [-2.00000000e+00,  1.00000000e+00],\n",
       "       [ 3.00000000e+00, -4.00000000e+00]])"
      ]
     },
     "execution_count": 56,
     "metadata": {},
     "output_type": "execute_result"
    }
   ],
   "source": [
    "# @ - матричное умножение\n",
    "X = np.linalg.inv(A) @ (-C) @ np.linalg.inv(B)\n",
    "X"
   ]
  },
  {
   "cell_type": "markdown",
   "metadata": {
    "id": "3HD5vXqm0--6"
   },
   "source": [
    "## Лабораторная работа №1"
   ]
  },
  {
   "cell_type": "code",
   "execution_count": 237,
   "metadata": {
    "id": "_0bR4YGeE54e"
   },
   "outputs": [
    {
     "data": {
      "text/plain": [
       "array([[127244,     60,     16],\n",
       "       [ 23891,     25,      7],\n",
       "       [ 94746,     10,      6],\n",
       "       ...,\n",
       "       [498432,     65,     15],\n",
       "       [370915,      5,      4],\n",
       "       [ 81993,    140,     14]])"
      ]
     },
     "execution_count": 237,
     "metadata": {},
     "output_type": "execute_result"
    }
   ],
   "source": [
    "#Read CSV and importing numpy\n",
    "import numpy as np\n",
    "data = np.loadtxt('C:/Users/Kyyot/Downloads/minutes_n_ingredients.csv', delimiter = ',', dtype = np.int32, skiprows = 1)\n",
    "data"
   ]
  },
  {
   "cell_type": "markdown",
   "metadata": {
    "id": "JJ_Shl_h0--9"
   },
   "source": [
    "__При решении данных задач не подразумевается использования циклов или генераторов Python, если в задании не сказано обратного. Решение должно опираться на использования функционала библиотеки `numpy`.__"
   ]
  },
  {
   "cell_type": "markdown",
   "metadata": {
    "id": "zD1fdQS60--_"
   },
   "source": [
    "1. Файл `minutes_n_ingredients.csv` содержит информацию об идентификаторе рецепта, времени его выполнения в минутах и количестве необходимых ингредиентов. Считайте данные из этого файла в виде массива `numpy` типа `int32`, используя `np.loadtxt`. Выведите на экран первые 5 строк массива."
   ]
  },
  {
   "cell_type": "code",
   "execution_count": 149,
   "metadata": {},
   "outputs": [
    {
     "data": {
      "text/plain": [
       "array([[127244,     60,     16],\n",
       "       [ 23891,     25,      7],\n",
       "       [ 94746,     10,      6],\n",
       "       [ 67660,      5,      6],\n",
       "       [157911,     60,     14]])"
      ]
     },
     "execution_count": 149,
     "metadata": {},
     "output_type": "execute_result"
    }
   ],
   "source": [
    "data[:5]"
   ]
  },
  {
   "cell_type": "markdown",
   "metadata": {
    "id": "vWtaapVJ0-_B"
   },
   "source": [
    "2. Вычислите среднее значение, минимум, максимум и медиану по каждому из столбцов, кроме первого."
   ]
  },
  {
   "cell_type": "code",
   "execution_count": 150,
   "metadata": {},
   "outputs": [
    {
     "name": "stdout",
     "output_type": "stream",
     "text": [
      "Min minutes 7\n",
      "Min ingr 6 \n",
      "\n",
      "Max minutes 23891\n",
      "Max ingr 94746 \n",
      "\n",
      "Med minutes 25.0\n",
      "Med ingr 25.0\n"
     ]
    }
   ],
   "source": [
    "print('Min minutes', np.min(data[1]))\n",
    "print('Min ingr', np.min(data[2]), '\\n')\n",
    "print('Max minutes', np.max(data[1]))\n",
    "print('Max ingr', np.max(data[2]), '\\n')\n",
    "print('Med minutes', np.median(data[1]))\n",
    "print('Med ingr', np.median(data[1]))"
   ]
  },
  {
   "cell_type": "markdown",
   "metadata": {
    "id": "iHXNGbvh0-_C"
   },
   "source": [
    "3. Выберите случайным образом и выведите информацию о 10 различных рецептах"
   ]
  },
  {
   "cell_type": "code",
   "execution_count": 151,
   "metadata": {},
   "outputs": [
    {
     "data": {
      "text/plain": [
       "array([[427706, 420944, 293328],\n",
       "       [360539, 270346, 446714],\n",
       "       [265641, 324352, 336755],\n",
       "       [323240, 123380, 407831],\n",
       "       [192834, 222868,  49036],\n",
       "       [104436, 144417, 357473],\n",
       "       [144665, 252714, 153857],\n",
       "       [208631, 116781, 493999],\n",
       "       [154387, 344032, 115255],\n",
       "       [131948, 109575, 472948]])"
      ]
     },
     "execution_count": 151,
     "metadata": {},
     "output_type": "execute_result"
    }
   ],
   "source": [
    "np.random.choice(data[:,0], size = (10,3), replace = False)"
   ]
  },
  {
   "cell_type": "markdown",
   "metadata": {
    "id": "AI0yvYc10-_D"
   },
   "source": [
    "4. Создайте версию массива, содержащую информацию только о рецептах, состоящих не более чем из 5 ингредиентов."
   ]
  },
  {
   "cell_type": "code",
   "execution_count": 152,
   "metadata": {},
   "outputs": [
    {
     "data": {
      "text/plain": [
       "array([[446597,     15,      5],\n",
       "       [204134,      5,      3],\n",
       "       [ 25623,      6,      4],\n",
       "       ...,\n",
       "       [ 52088,     60,      5],\n",
       "       [128811,     15,      4],\n",
       "       [370915,      5,      4]])"
      ]
     },
     "execution_count": 152,
     "metadata": {},
     "output_type": "execute_result"
    }
   ],
   "source": [
    "data2 = data[data[:,2]<=5]\n",
    "data2"
   ]
  },
  {
   "cell_type": "markdown",
   "metadata": {
    "id": "jcLi4N-D0-_E"
   },
   "source": [
    "5. Выведите процент рецептов, кол-во ингредиентов в которых меньше среднего."
   ]
  },
  {
   "cell_type": "code",
   "execution_count": 153,
   "metadata": {},
   "outputs": [
    {
     "name": "stdout",
     "output_type": "stream",
     "text": [
      "percentage of recipes 58.8 %\n"
     ]
    }
   ],
   "source": [
    "percent = len(data[data[:,2]<=data[:,2].mean()])/len(data[:,2])*100\n",
    "print('percentage of recipes', round(percent,2) ,'%')"
   ]
  },
  {
   "cell_type": "markdown",
   "metadata": {
    "id": "-g7v12ZM0-_E"
   },
   "source": [
    "6. Вычислите значение $q_{0.75}$ третьего квартиля продолжительности выполнения рецепта. Замените в этом столбце значения, большие чем $q_{0.75}$ на величину $q_{0.75}$."
   ]
  },
  {
   "cell_type": "code",
   "execution_count": 154,
   "metadata": {},
   "outputs": [
    {
     "data": {
      "text/plain": [
       "(65.0,\n",
       " array([[127244,     60,     16],\n",
       "        [ 23891,     25,      7],\n",
       "        [ 94746,     10,      6],\n",
       "        ...,\n",
       "        [498432,     65,     15],\n",
       "        [370915,      5,      4],\n",
       "        [    65,     65,     65]]))"
      ]
     },
     "execution_count": 154,
     "metadata": {},
     "output_type": "execute_result"
    }
   ],
   "source": [
    "quantile = np.quantile(data[:,1], q = 0.75)\n",
    "data[data[:,1] > quantile] = quantile\n",
    "quantile, data"
   ]
  },
  {
   "cell_type": "markdown",
   "metadata": {
    "id": "RRNAte_V0-_F"
   },
   "source": [
    "7. Посчитайте, для скольких рецептов исходного массива указана продолжительность, равная нулю. Модифицируйте исходный массив, заменив для таких строк значение в данном столбце на 1."
   ]
  },
  {
   "cell_type": "code",
   "execution_count": 99,
   "metadata": {},
   "outputs": [
    {
     "name": "stdout",
     "output_type": "stream",
     "text": [
      "479\n"
     ]
    },
    {
     "data": {
      "text/plain": [
       "array([[127244,     60,     16],\n",
       "       [ 23891,     25,      7],\n",
       "       [ 94746,     10,      6],\n",
       "       ...,\n",
       "       [498432,     65,     15],\n",
       "       [370915,      5,      4],\n",
       "       [    65,     65,     65]])"
      ]
     },
     "execution_count": 99,
     "metadata": {},
     "output_type": "execute_result"
    }
   ],
   "source": [
    "print(len(data[data[:,1]==0]))\n",
    "data[data[:,1] == 0] = 1\n",
    "data"
   ]
  },
  {
   "cell_type": "markdown",
   "metadata": {
    "id": "GjWgBpde0-_G"
   },
   "source": [
    "8. Найдите множество возможных значений величины количества ингредиентов и количество вхождений каждого из уникальных значений в набор данных. Используя `numpy.isin`, выясните, какие числа из отрезка [1, 41] отсуствуют в данном множестве и выведите их на экран. "
   ]
  },
  {
   "cell_type": "code",
   "execution_count": 211,
   "metadata": {},
   "outputs": [
    {
     "name": "stdout",
     "output_type": "stream",
     "text": [
      "[   65   792  2547  4813  6726  7702  8495  8538  8149  7065  5844  4599\n",
      "  3364  2341  1580  1062   685   416   284   175    91    64 24539]\n"
     ]
    }
   ],
   "source": [
    "un, count = np.unique(data[:,2], return_counts=True)\n",
    "arr = np.array([un,count])\n",
    "#print(arr.T)\n",
    "test = np.arange(1,42)\n",
    "mask = np.isin(arr, test)\n",
    "print(arr[mask == False])"
   ]
  },
  {
   "cell_type": "markdown",
   "metadata": {
    "id": "qBrtuHp70-_G"
   },
   "source": [
    "9. Для каждого рецепта посчитайте, сколько в среднем ингредиентов приходится на одну минуту рецепта. Найдите максимальное значение этой величины для всего датасета."
   ]
  },
  {
   "cell_type": "code",
   "execution_count": 114,
   "metadata": {},
   "outputs": [
    {
     "name": "stdout",
     "output_type": "stream",
     "text": [
      "Average =  0.57\n",
      "Max =  23.0\n"
     ]
    }
   ],
   "source": [
    "max = np.max(data[:,2]/data[:,1])\n",
    "print('Average = ', round(np.mean(data[:,2]/data[:,1]),2))\n",
    "print('Max = ', max)"
   ]
  },
  {
   "cell_type": "markdown",
   "metadata": {
    "id": "vnIok69w0-_H"
   },
   "source": [
    "10. Вычислите среднее количество ингредиентов для топ-100 рецептов с наибольшей продолжительностью"
   ]
  },
  {
   "cell_type": "code",
   "execution_count": 141,
   "metadata": {},
   "outputs": [
    {
     "name": "stdout",
     "output_type": "stream",
     "text": [
      "21.884\n"
     ]
    }
   ],
   "source": [
    "top100 = data[:,2][np.argsort(data[:,1])][::-100]\n",
    "print(np.mean(top100))"
   ]
  },
  {
   "cell_type": "markdown",
   "metadata": {
    "id": "OYqadvSz0-_I"
   },
   "source": [
    "11. Назовем \"простым\" такой рецепт, длительность выполнения которого не больше 20 минут и кол-во ингредиентов в котором не больше 5. Создайте версию датасета с дополнительным столбцом, значениями которого являются 1, если рецепт простой, и 0 в противном случае. Выведите процент \"простых\" рецептов в датасете."
   ]
  },
  {
   "cell_type": "code",
   "execution_count": 135,
   "metadata": {},
   "outputs": [
    {
     "data": {
      "text/plain": [
       "array([[127244,     60,     16,      0,      0],\n",
       "       [ 23891,     25,      7,      0,      0],\n",
       "       [ 94746,     10,      6,      0,      0],\n",
       "       ...,\n",
       "       [498432,     65,     15,      0,      0],\n",
       "       [370915,      5,      4,      1,      1],\n",
       "       [    65,     65,     65,      0,      0]])"
      ]
     },
     "execution_count": 135,
     "metadata": {},
     "output_type": "execute_result"
    }
   ],
   "source": [
    "recipe = np.logical_and(data[:,1] <= 20, data[:,2] <=5).astype(int)\n",
    "data = np.column_stack((data, np.transpose(recipe)))\n",
    "data"
   ]
  },
  {
   "cell_type": "markdown",
   "metadata": {
    "id": "so_uU19m0-_K"
   },
   "source": [
    "12. Разделим рецепты на группы по следующему правилу. Назовем рецепты короткими, если их продолжительность составляет менее 10 минут; стандартными, если их продолжительность составляет не менее 10, но менее 20 минут; и длинными, если их продолжительность составляет не менее 20 минут. Создайте трехмерный массив, где нулевая ось отвечает за номер группы (короткий, стандартный или длинный рецепт), первая ось - за сам рецепт и вторая ось - за характеристики рецепта. Выберите максимальное количество рецептов из каждой группы таким образом, чтобы было возможно сформировать трехмерный массив. Выведите форму полученного массива."
   ]
  },
  {
   "cell_type": "code",
   "execution_count": 240,
   "metadata": {},
   "outputs": [
    {
     "data": {
      "text/plain": [
       "(100000, 9)"
      ]
     },
     "execution_count": 240,
     "metadata": {},
     "output_type": "execute_result"
    }
   ],
   "source": [
    "short = data[data[:,1] < 10]\n",
    "stand = data[(data[:,1] >= 10) & (data[:,1] <= 20)]\n",
    "long = data[data[:,1] > 20]\n",
    "sh = [1 for i in range(len(short))]\n",
    "st = [2 for i in range(len(stand))]\n",
    "lg = [3 for i in range(len(long))]\n",
    "res = sh + st + lg\n",
    "data = np.column_stack((np.transpose(res), data[:,2].T ,data))\n",
    "data.shape"
   ]
  },
  {
   "cell_type": "markdown",
   "metadata": {
    "id": "0wtFKB6N0-_L"
   },
   "source": [
    "13. Пусть в среднем одна минута работы повара стоит ресторану 5 ед., а средняя стоимость одного ингредиента составляет 10 ед. \n",
    "Создайте вектор-столбец `numpy`, содержащий данную информацию. Посчитайте среднюю стоимость приготовления для каждого из первых 10 рецептов в наборе данных."
   ]
  },
  {
   "cell_type": "code",
   "execution_count": 220,
   "metadata": {
    "id": "eY766cm-1i6X"
   },
   "outputs": [
    {
     "data": {
      "text/plain": [
       "216.0"
      ]
     },
     "execution_count": 220,
     "metadata": {},
     "output_type": "execute_result"
    }
   ],
   "source": [
    "money = 5*data[:,1] + 10*data[:,2]\n",
    "avg = np.mean(5*data[:,1][:10] + 10*data[:,2][:10])\n",
    "avg"
   ]
  },
  {
   "cell_type": "code",
   "execution_count": null,
   "metadata": {},
   "outputs": [],
   "source": []
  }
 ],
 "metadata": {
  "colab": {
   "provenance": []
  },
  "kernelspec": {
   "display_name": "Python 3 (ipykernel)",
   "language": "python",
   "name": "python3"
  },
  "language_info": {
   "codemirror_mode": {
    "name": "ipython",
    "version": 3
   },
   "file_extension": ".py",
   "mimetype": "text/x-python",
   "name": "python",
   "nbconvert_exporter": "python",
   "pygments_lexer": "ipython3",
   "version": "3.10.7"
  }
 },
 "nbformat": 4,
 "nbformat_minor": 1
}
