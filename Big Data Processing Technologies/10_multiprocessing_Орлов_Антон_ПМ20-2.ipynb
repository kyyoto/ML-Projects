{
 "cells": [
  {
   "cell_type": "markdown",
   "metadata": {},
   "source": [
    "# Параллельные вычисления"
   ]
  },
  {
   "cell_type": "markdown",
   "metadata": {},
   "source": [
    "__Автор задач: Блохин Н.В. (NVBlokhin@fa.ru)__\n",
    "\n",
    "Материалы:\n",
    "* Макрушин С.В. Лекция \"Параллельные вычисления\"\n",
    "* https://docs.python.org/3/library/multiprocessing.html\n",
    "    * https://docs.python.org/3/library/multiprocessing.html#multiprocessing.Process\n",
    "    * https://docs.python.org/3/library/multiprocessing.html#multiprocessing.pool.Pool\n",
    "    * https://docs.python.org/3/library/multiprocessing.html#multiprocessing.Queue\n",
    "* https://pandas.pydata.org/docs/reference/api/pandas.read_csv.html\n",
    "* https://numpy.org/doc/stable/reference/generated/numpy.array_split.html\n",
    "* https://nalepae.github.io/pandarallel/\n",
    "    * https://github.com/nalepae/pandarallel/blob/master/docs/examples_windows.ipynb\n",
    "    * https://github.com/nalepae/pandarallel/blob/master/docs/examples_mac_linux.ipynb"
   ]
  },
  {
   "cell_type": "markdown",
   "metadata": {},
   "source": [
    "## Задачи для совместного разбора"
   ]
  },
  {
   "cell_type": "code",
   "execution_count": 1,
   "metadata": {},
   "outputs": [],
   "source": [
    "path = 'C://Users//icom1//OneDrive - icom//Рабочий стол//TOBD_datasets//'"
   ]
  },
  {
   "cell_type": "code",
   "execution_count": 2,
   "metadata": {},
   "outputs": [
    {
     "name": "stdout",
     "output_type": "stream",
     "text": [
      "Requirement already satisfied: pandarallel in c:\\users\\icom1\\appdata\\local\\programs\\python\\python310\\lib\\site-packages (1.6.3)\n",
      "Requirement already satisfied: dill>=0.3.1 in c:\\users\\icom1\\appdata\\local\\programs\\python\\python310\\lib\\site-packages (from pandarallel) (0.3.6)\n",
      "Requirement already satisfied: pandas>=1 in c:\\users\\icom1\\appdata\\local\\programs\\python\\python310\\lib\\site-packages (from pandarallel) (1.4.4)\n",
      "Requirement already satisfied: psutil in c:\\users\\icom1\\appdata\\local\\programs\\python\\python310\\lib\\site-packages (from pandarallel) (5.9.2)\n",
      "Requirement already satisfied: pytz>=2020.1 in c:\\users\\icom1\\appdata\\local\\programs\\python\\python310\\lib\\site-packages (from pandas>=1->pandarallel) (2022.2.1)\n",
      "Requirement already satisfied: numpy>=1.21.0 in c:\\users\\icom1\\appdata\\local\\programs\\python\\python310\\lib\\site-packages (from pandas>=1->pandarallel) (1.23.3)\n",
      "Requirement already satisfied: python-dateutil>=2.8.1 in c:\\users\\icom1\\appdata\\local\\programs\\python\\python310\\lib\\site-packages (from pandas>=1->pandarallel) (2.8.2)\n",
      "Requirement already satisfied: six>=1.5 in c:\\users\\icom1\\appdata\\local\\programs\\python\\python310\\lib\\site-packages (from python-dateutil>=2.8.1->pandas>=1->pandarallel) (1.16.0)\n"
     ]
    },
    {
     "name": "stderr",
     "output_type": "stream",
     "text": [
      "Error processing line 1 of C:\\Users\\icom1\\AppData\\Local\\Programs\\Python\\Python310\\lib\\site-packages\\matplotlib-3.5.3-py3.10-nspkg.pth:\n",
      "\n",
      "  Traceback (most recent call last):\n",
      "    File \"C:\\Users\\icom1\\AppData\\Local\\Programs\\Python\\Python310\\lib\\site.py\", line 186, in addpackage\n",
      "      exec(line)\n",
      "    File \"<string>\", line 1, in <module>\n",
      "    File \"<frozen importlib._bootstrap>\", line 568, in module_from_spec\n",
      "  AttributeError: 'NoneType' object has no attribute 'loader'\n",
      "\n",
      "Remainder of file ignored\n",
      "Error processing line 1 of C:\\Users\\icom1\\AppData\\Local\\Programs\\Python\\Python310\\lib\\site-packages\\matplotlib-3.6.0-py3.10-nspkg.pth:\n",
      "\n",
      "  Traceback (most recent call last):\n",
      "    File \"C:\\Users\\icom1\\AppData\\Local\\Programs\\Python\\Python310\\lib\\site.py\", line 186, in addpackage\n",
      "      exec(line)\n",
      "    File \"<string>\", line 1, in <module>\n",
      "    File \"<frozen importlib._bootstrap>\", line 568, in module_from_spec\n",
      "  AttributeError: 'NoneType' object has no attribute 'loader'\n",
      "\n",
      "Remainder of file ignored\n",
      "\n",
      "[notice] A new release of pip available: 22.3 -> 22.3.1\n",
      "[notice] To update, run: python.exe -m pip install --upgrade pip\n"
     ]
    }
   ],
   "source": [
    "!pip install pandarallel"
   ]
  },
  {
   "cell_type": "markdown",
   "metadata": {},
   "source": [
    "1. Посчитайте, сколько раз встречается буква \"a\" в файлах [\"xaa\", \"xab\", \"xac\", \"xad\"]. "
   ]
  },
  {
   "cell_type": "code",
   "execution_count": 3,
   "metadata": {},
   "outputs": [],
   "source": [
    "import multiprocessing\n",
    "\n",
    "files = [f\"{path}{name}.txt\" for name in [\"xaa\", \"xab\", \"xac\", \"xad\"]]"
   ]
  },
  {
   "cell_type": "code",
   "execution_count": 4,
   "metadata": {},
   "outputs": [],
   "source": [
    "from collections import Counter\n",
    "\n",
    "def count_a(file):\n",
    "    with open(file, 'r', encoding='utf8') as fp:\n",
    "        text = fp.read().lower()\n",
    "    res = Counter(text)['a']\n",
    "    print(file, res)\n",
    "    return res"
   ]
  },
  {
   "cell_type": "code",
   "execution_count": 5,
   "metadata": {},
   "outputs": [
    {
     "name": "stdout",
     "output_type": "stream",
     "text": [
      "C://Users//icom1//OneDrive - icom//Рабочий стол//TOBD_datasets//xaa.txt 2599627\n",
      "C://Users//icom1//OneDrive - icom//Рабочий стол//TOBD_datasets//xab.txt 2605911\n",
      "C://Users//icom1//OneDrive - icom//Рабочий стол//TOBD_datasets//xac.txt 2599868\n",
      "C://Users//icom1//OneDrive - icom//Рабочий стол//TOBD_datasets//xad.txt 1460452\n",
      "CPU times: total: 10.7 s\n",
      "Wall time: 10.9 s\n"
     ]
    },
    {
     "data": {
      "text/plain": [
       "[2599627, 2605911, 2599868, 1460452]"
      ]
     },
     "execution_count": 5,
     "metadata": {},
     "output_type": "execute_result"
    }
   ],
   "source": [
    "%%time\n",
    "[count_a(f) for f in files]"
   ]
  },
  {
   "cell_type": "code",
   "execution_count": 6,
   "metadata": {},
   "outputs": [
    {
     "name": "stdout",
     "output_type": "stream",
     "text": [
      "Writing count_a.py\n"
     ]
    }
   ],
   "source": [
    "%%file count_a.py\n",
    "from collections import Counter\n",
    "\n",
    "def count_a(file):\n",
    "    with open(file, 'r', encoding='utf8') as fp:\n",
    "        text = fp.read().lower()\n",
    "    res = Counter(text)['a']\n",
    "    print(file, res)\n",
    "    return res"
   ]
  },
  {
   "cell_type": "code",
   "execution_count": 7,
   "metadata": {},
   "outputs": [],
   "source": [
    "from count_a import count_a"
   ]
  },
  {
   "cell_type": "code",
   "execution_count": 8,
   "metadata": {},
   "outputs": [
    {
     "name": "stdout",
     "output_type": "stream",
     "text": [
      "CPU times: total: 15.6 ms\n",
      "Wall time: 5.23 s\n"
     ]
    },
    {
     "data": {
      "text/plain": [
       "[2599627, 2605911, 2599868, 1460452]"
      ]
     },
     "execution_count": 8,
     "metadata": {},
     "output_type": "execute_result"
    }
   ],
   "source": [
    "%%time\n",
    "with multiprocessing.Pool(processes = 4) as pool:\n",
    "    res = pool.map(count_a, files)\n",
    "res    "
   ]
  },
  {
   "cell_type": "code",
   "execution_count": 9,
   "metadata": {},
   "outputs": [
    {
     "name": "stdout",
     "output_type": "stream",
     "text": [
      "Writing count_a_q.py\n"
     ]
    }
   ],
   "source": [
    "%%file count_a_q.py\n",
    "from collections import Counter\n",
    "\n",
    "def count_a_q(file, queue):\n",
    "    with open(file, 'r', encoding='utf8') as fp:\n",
    "        text = fp.read().lower()\n",
    "    res = Counter(text)['a']\n",
    "    print(file, res)\n",
    "    queue.put(res)"
   ]
  },
  {
   "cell_type": "code",
   "execution_count": 10,
   "metadata": {},
   "outputs": [],
   "source": [
    "from count_a_q import count_a_q"
   ]
  },
  {
   "cell_type": "code",
   "execution_count": 11,
   "metadata": {},
   "outputs": [
    {
     "name": "stdout",
     "output_type": "stream",
     "text": [
      "CPU times: total: 5.72 s\n",
      "Wall time: 5.85 s\n"
     ]
    },
    {
     "data": {
      "text/plain": [
       "[1460452, 2599627, 2599868, 2605911]"
      ]
     },
     "execution_count": 11,
     "metadata": {},
     "output_type": "execute_result"
    }
   ],
   "source": [
    "%%time\n",
    "#not guarantee order\n",
    "processes = []\n",
    "queue = multiprocessing.Queue()\n",
    "\n",
    "#args must be tuple\n",
    "for f in files:\n",
    "    process = multiprocessing.Process(target=count_a_q, args=(f, queue))\n",
    "    processes.append(process)\n",
    "    process.start()\n",
    "    \n",
    "res = []\n",
    "while len(res) < 4:\n",
    "    if not queue.empty():\n",
    "        res.append(queue.get())\n",
    "    \n",
    "#all processes done     \n",
    "for p in processes:\n",
    "    p.join()\n",
    "    \n",
    "res"
   ]
  },
  {
   "cell_type": "markdown",
   "metadata": {},
   "source": [
    "2. Выведите на экран слова из файла words_alpha, в которых есть две или более буквы \"e\" подряд."
   ]
  },
  {
   "cell_type": "code",
   "execution_count": 12,
   "metadata": {},
   "outputs": [],
   "source": [
    "import pandas as pd\n",
    "\n",
    "words = (\n",
    "    pd.read_csv(path+\"words_alpha.txt\", header=None)[0]\n",
    "    .dropna()\n",
    "    .sample(frac=1, replace=True)\n",
    ")"
   ]
  },
  {
   "cell_type": "code",
   "execution_count": 13,
   "metadata": {},
   "outputs": [],
   "source": [
    "import re\n",
    "\n",
    "def f(s):\n",
    "    return bool(re.findall(r\"e{2,}\", s))"
   ]
  },
  {
   "cell_type": "code",
   "execution_count": 14,
   "metadata": {},
   "outputs": [
    {
     "name": "stdout",
     "output_type": "stream",
     "text": [
      "CPU times: total: 609 ms\n",
      "Wall time: 600 ms\n"
     ]
    },
    {
     "data": {
      "text/plain": [
       "50182       cavekeeper\n",
       "339381       underkeep\n",
       "264788     reequipping\n",
       "233681    phillipeener\n",
       "110880       feedstuff\n",
       "              ...     \n",
       "189416         mishmee\n",
       "283127       seeliness\n",
       "118646        freeport\n",
       "350686        unseeded\n",
       "47915        careerers\n",
       "Name: 0, Length: 7301, dtype: object"
      ]
     },
     "execution_count": 14,
     "metadata": {},
     "output_type": "execute_result"
    }
   ],
   "source": [
    "%%time\n",
    "words[words.map(f)]"
   ]
  },
  {
   "cell_type": "code",
   "execution_count": 15,
   "metadata": {
    "scrolled": true
   },
   "outputs": [
    {
     "name": "stdout",
     "output_type": "stream",
     "text": [
      "INFO: Pandarallel will run on 4 workers.\n",
      "INFO: Pandarallel will use standard multiprocessing data transfer (pipe) to transfer data between the main process and workers.\n",
      "\n",
      "WARNING: You are on Windows. If you detect any issue with pandarallel, be sure you checked out the Troubleshooting page:\n",
      "https://nalepae.github.io/pandarallel/troubleshooting/\n"
     ]
    }
   ],
   "source": [
    "from pandarallel import pandarallel\n",
    "pandarallel.initialize()"
   ]
  },
  {
   "cell_type": "code",
   "execution_count": 16,
   "metadata": {},
   "outputs": [
    {
     "name": "stdout",
     "output_type": "stream",
     "text": [
      "Writing for_map.py\n"
     ]
    }
   ],
   "source": [
    "%%file for_map.py\n",
    "import re\n",
    "\n",
    "def f(s):\n",
    "    return bool(re.findall(r\"e{2,}\", s))"
   ]
  },
  {
   "cell_type": "code",
   "execution_count": 17,
   "metadata": {},
   "outputs": [],
   "source": [
    "from for_map import f"
   ]
  },
  {
   "cell_type": "code",
   "execution_count": 18,
   "metadata": {},
   "outputs": [
    {
     "data": {
      "text/plain": [
       "111927    False\n",
       "154601    False\n",
       "197889    False\n",
       "73207     False\n",
       "287175    False\n",
       "          ...  \n",
       "57359     False\n",
       "39982     False\n",
       "173129    False\n",
       "46979     False\n",
       "311375    False\n",
       "Name: 0, Length: 370103, dtype: bool"
      ]
     },
     "execution_count": 18,
     "metadata": {},
     "output_type": "execute_result"
    }
   ],
   "source": [
    "words.parallel_map(f)"
   ]
  },
  {
   "cell_type": "code",
   "execution_count": 19,
   "metadata": {},
   "outputs": [
    {
     "name": "stdout",
     "output_type": "stream",
     "text": [
      "CPU times: total: 188 ms\n",
      "Wall time: 2.37 s\n"
     ]
    },
    {
     "data": {
      "text/plain": [
       "50182       cavekeeper\n",
       "339381       underkeep\n",
       "264788     reequipping\n",
       "233681    phillipeener\n",
       "110880       feedstuff\n",
       "              ...     \n",
       "189416         mishmee\n",
       "283127       seeliness\n",
       "118646        freeport\n",
       "350686        unseeded\n",
       "47915        careerers\n",
       "Name: 0, Length: 7301, dtype: object"
      ]
     },
     "execution_count": 19,
     "metadata": {},
     "output_type": "execute_result"
    }
   ],
   "source": [
    "%%time\n",
    "words[words.parallel_map(f)]"
   ]
  },
  {
   "cell_type": "code",
   "execution_count": 20,
   "metadata": {},
   "outputs": [
    {
     "data": {
      "text/plain": [
       "370103"
      ]
     },
     "execution_count": 20,
     "metadata": {},
     "output_type": "execute_result"
    }
   ],
   "source": [
    "words.size"
   ]
  },
  {
   "cell_type": "code",
   "execution_count": 21,
   "metadata": {},
   "outputs": [],
   "source": [
    "import pandas as pd\n",
    "\n",
    "words = (\n",
    "    pd.read_csv(path+\"words_alpha.txt\", header=None)[0]\n",
    "    .dropna()\n",
    "    .sample(frac=10, replace=True)\n",
    ")"
   ]
  },
  {
   "cell_type": "code",
   "execution_count": 22,
   "metadata": {},
   "outputs": [
    {
     "data": {
      "text/plain": [
       "3701030"
      ]
     },
     "execution_count": 22,
     "metadata": {},
     "output_type": "execute_result"
    }
   ],
   "source": [
    "words.size"
   ]
  },
  {
   "cell_type": "code",
   "execution_count": 23,
   "metadata": {},
   "outputs": [
    {
     "name": "stdout",
     "output_type": "stream",
     "text": [
      "CPU times: total: 6.75 s\n",
      "Wall time: 6.75 s\n"
     ]
    },
    {
     "data": {
      "text/plain": [
       "335829     unbeseeming\n",
       "247178      preearthly\n",
       "97271     electrosteel\n",
       "236026         picotee\n",
       "177921       mainsheet\n",
       "              ...     \n",
       "263990        redeemed\n",
       "100683       enlistees\n",
       "336189      unbreeches\n",
       "278680      sateenwood\n",
       "326673         tournee\n",
       "Name: 0, Length: 72066, dtype: object"
      ]
     },
     "execution_count": 23,
     "metadata": {},
     "output_type": "execute_result"
    }
   ],
   "source": [
    "%%time\n",
    "words[words.map(f)]"
   ]
  },
  {
   "cell_type": "code",
   "execution_count": 24,
   "metadata": {},
   "outputs": [
    {
     "name": "stdout",
     "output_type": "stream",
     "text": [
      "CPU times: total: 1.78 s\n",
      "Wall time: 5.92 s\n"
     ]
    },
    {
     "data": {
      "text/plain": [
       "335829     unbeseeming\n",
       "247178      preearthly\n",
       "97271     electrosteel\n",
       "236026         picotee\n",
       "177921       mainsheet\n",
       "              ...     \n",
       "263990        redeemed\n",
       "100683       enlistees\n",
       "336189      unbreeches\n",
       "278680      sateenwood\n",
       "326673         tournee\n",
       "Name: 0, Length: 72066, dtype: object"
      ]
     },
     "execution_count": 24,
     "metadata": {},
     "output_type": "execute_result"
    }
   ],
   "source": [
    "%%time\n",
    "words[words.parallel_map(f)]"
   ]
  },
  {
   "cell_type": "markdown",
   "metadata": {},
   "source": [
    "## Лабораторная работа 10"
   ]
  },
  {
   "cell_type": "code",
   "execution_count": 5,
   "metadata": {},
   "outputs": [],
   "source": [
    "path = 'C://Users//icom1//OneDrive - icom//Рабочий стол//TOBD_datasets//'"
   ]
  },
  {
   "cell_type": "code",
   "execution_count": 6,
   "metadata": {},
   "outputs": [
    {
     "name": "stdout",
     "output_type": "stream",
     "text": [
      "INFO: Pandarallel will run on 4 workers.\n",
      "INFO: Pandarallel will use standard multiprocessing data transfer (pipe) to transfer data between the main process and workers.\n",
      "\n",
      "WARNING: You are on Windows. If you detect any issue with pandarallel, be sure you checked out the Troubleshooting page:\n",
      "https://nalepae.github.io/pandarallel/troubleshooting/\n"
     ]
    }
   ],
   "source": [
    "import pandas as pd\n",
    "import numpy as np\n",
    "import multiprocessing\n",
    "from pandarallel import pandarallel\n",
    "pandarallel.initialize()"
   ]
  },
  {
   "cell_type": "markdown",
   "metadata": {},
   "source": [
    "__При решении данных задач не подразумевается использования циклов или генераторов Python в ходе работы с пакетами `numpy` и `pandas`, если в задании не сказано обратного. Решения задач, в которых для обработки массивов `numpy` или структур `pandas` используются явные циклы (без согласования с преподавателем), могут быть признаны некорректными и не засчитаны.__"
   ]
  },
  {
   "cell_type": "markdown",
   "metadata": {},
   "source": [
    "1\\. В каждой строке файла `tag_nsteps.csv` хранится информация о тэге рецепта и количестве шагов в этом рецепте в следующем виде:\n",
    "\n",
    "```\n",
    "tags,n_steps\n",
    "hungarian,2\n",
    "european,6\n",
    "occasion,4\n",
    "pumpkin,4\n",
    "................\n",
    "```\n",
    "\n",
    "Всего в исходном файле хранится чуть меньше, чем 71 млн, строк. Разбейте файл `tag_nsteps.csv` на несколько (например, 8) примерно одинаковых по объему файлов c названиями `tag_nsteps_*.csv`, где вместо символа `*` указан номер очередного файла. Каждый файл имеет структуру, аналогичную оригинальному файлу (включая заголовок).\n",
    "\n",
    "__Важно__: здесь и далее вы не можете загружать в память весь исходный файл сразу. "
   ]
  },
  {
   "cell_type": "code",
   "execution_count": 27,
   "metadata": {},
   "outputs": [
    {
     "name": "stdout",
     "output_type": "stream",
     "text": [
      "Download successful: C://Users//icom1//OneDrive - icom//Рабочий стол//TOBD_datasets//tag_nsteps_0.csv\n",
      "Download successful: C://Users//icom1//OneDrive - icom//Рабочий стол//TOBD_datasets//tag_nsteps_1.csv\n",
      "Download successful: C://Users//icom1//OneDrive - icom//Рабочий стол//TOBD_datasets//tag_nsteps_2.csv\n",
      "Download successful: C://Users//icom1//OneDrive - icom//Рабочий стол//TOBD_datasets//tag_nsteps_3.csv\n",
      "Download successful: C://Users//icom1//OneDrive - icom//Рабочий стол//TOBD_datasets//tag_nsteps_4.csv\n",
      "Download successful: C://Users//icom1//OneDrive - icom//Рабочий стол//TOBD_datasets//tag_nsteps_5.csv\n",
      "Download successful: C://Users//icom1//OneDrive - icom//Рабочий стол//TOBD_datasets//tag_nsteps_6.csv\n",
      "Download successful: C://Users//icom1//OneDrive - icom//Рабочий стол//TOBD_datasets//tag_nsteps_7.csv\n",
      "CPU times: total: 4min 22s\n",
      "Wall time: 4min 25s\n"
     ]
    }
   ],
   "source": [
    "%%time\n",
    "df = pd.read_csv(path+'tag_nsteps.csv', chunksize=71_000_000//8)\n",
    "files_counter = 0\n",
    "\n",
    "for data in df:\n",
    "    data.to_csv(f'{path}tag_nsteps_{files_counter}.csv', header=True, index=False)\n",
    "    print(f'Download successful: {path}tag_nsteps_{files_counter}.csv')\n",
    "    files_counter += 1"
   ]
  },
  {
   "cell_type": "markdown",
   "metadata": {},
   "source": [
    "2\\. Напишите функцию, которая принимает на вход название файла, созданного в результате решения задачи 1, считает для каждого тэга сумму по столбцу `n_steps` и количество строк c этим тэгом, и возвращает результат в виде словаря. Ожидаемый вид итогового словаря:\n",
    "\n",
    "```\n",
    "{\n",
    "    '1-day-or-more': {'sum': 56616, 'count': 12752},\n",
    "    '15-minutes-or-less': {'sum': 195413, 'count': 38898},\n",
    "    '3-steps-or-less': {'sum': 187938, 'count': 39711},\n",
    "    ....\n",
    "}\n",
    "```\n",
    "\n",
    "Примените данную функцию к каждому файлу, полученному в задании 1, и соберите результат в виде списка словарей. Не используйте параллельных вычислений. \n",
    "\n",
    "Выведите на экран значение по ключу \"30-minutes-or-less\" для каждого из словарей."
   ]
  },
  {
   "cell_type": "code",
   "execution_count": 28,
   "metadata": {},
   "outputs": [],
   "source": [
    "def get_tag_sum_count_from_file(file: str) -> dict:\n",
    "    tags = pd.read_csv(file)\n",
    "    res_df = pd.DataFrame()\n",
    "    res_df['sum'] = tags.groupby('tags').sum()['n_steps']\n",
    "    res_df['count'] = tags.groupby('tags').count()['n_steps']\n",
    "    return res_df.to_dict(orient='index')"
   ]
  },
  {
   "cell_type": "code",
   "execution_count": 29,
   "metadata": {},
   "outputs": [
    {
     "name": "stdout",
     "output_type": "stream",
     "text": [
      "file 0: {'sum': 348943, 'count': 45605}\n",
      "file 1: {'sum': 350194, 'count': 46053}\n",
      "file 2: {'sum': 353624, 'count': 46295}\n",
      "file 3: {'sum': 347697, 'count': 45621}\n",
      "file 4: {'sum': 346528, 'count': 45650}\n",
      "file 5: {'sum': 350333, 'count': 46014}\n",
      "file 6: {'sum': 346536, 'count': 45814}\n",
      "file 7: {'sum': 339350, 'count': 44730}\n",
      "CPU times: total: 58.1 s\n",
      "Wall time: 59 s\n"
     ]
    }
   ],
   "source": [
    "%%time\n",
    "lst_of_dict = []\n",
    "for i in range(8):\n",
    "    filename = f'{path}tag_nsteps_{i}.csv'\n",
    "    dic = get_tag_sum_count_from_file(filename)\n",
    "    lst_of_dict.append(dic)\n",
    "    value = dic['30-minutes-or-less']\n",
    "    print(f'file {i}: {value}')"
   ]
  },
  {
   "cell_type": "markdown",
   "metadata": {},
   "source": [
    "3\\. Напишите функцию, которая объединяет результаты обработки отдельных файлов. Данная функция принимает на вход список словарей, каждый из которых является результатом вызова функции `get_tag_sum_count_from_file` для конкретного файла, и агрегирует эти словари. Не используйте параллельных вычислений.\n",
    "\n",
    "Процедура агрегации словарей имеет следующий вид:\n",
    "$$d_{agg}[k] = \\{sum: \\sum_{i=1}^{n}d_{i}[k][sum], count: \\sum_{i=1}^{n}d_{i}[k][count]\\}$$\n",
    "где $d_1, d_2, ..., d_n$- результат вызова функции `get_tag_sum_count_from_file` для конкретных файлов.\n",
    "\n",
    "Примените данную функцию к результату выполнения задания 2. Выведите на экран результат для тэга \"30-minutes-or-less\"."
   ]
  },
  {
   "cell_type": "code",
   "execution_count": 30,
   "metadata": {},
   "outputs": [],
   "source": [
    "def agg_results(tag_sum_count_list: list) -> dict:\n",
    "    res_dic = tag_sum_count_list[0]\n",
    "    for dic in tag_sum_count_list[1:]:\n",
    "        for tag, s_n_c in dic.items():\n",
    "            if tag not in res_dic.keys():\n",
    "                res_dic[tag] = s_n_c\n",
    "            else:\n",
    "                res_dic[tag]['sum'] += s_n_c['sum']\n",
    "                res_dic[tag]['count'] += s_n_c['count']\n",
    "    return res_dic"
   ]
  },
  {
   "cell_type": "code",
   "execution_count": 31,
   "metadata": {},
   "outputs": [
    {
     "name": "stdout",
     "output_type": "stream",
     "text": [
      "CPU times: total: 0 ns\n",
      "Wall time: 2.99 ms\n"
     ]
    },
    {
     "data": {
      "text/plain": [
       "{'sum': 2783205, 'count': 365782}"
      ]
     },
     "execution_count": 31,
     "metadata": {},
     "output_type": "execute_result"
    }
   ],
   "source": [
    "%%time\n",
    "dic = agg_results(lst_of_dict)\n",
    "dic[\"30-minutes-or-less\"]"
   ]
  },
  {
   "cell_type": "markdown",
   "metadata": {},
   "source": [
    "4\\. Напишите функцию, которая считает среднее значение количества шагов для каждого тэга в словаре, имеющего вид, аналогичный словарям в задаче 2, и возвращает результат в виде словаря . Используйте решения задач 1-3, чтобы получить среднее значение количества шагов каждого тэга для всего датасета, имея результаты обработки частей датасета и результат их агрегации. Выведите на экран результат для тэга \"30-minutes-or-less\".\n",
    "\n",
    "Определите, за какое время задача решается для всего датасета. При замере времени учитывайте время расчета статистики для каждого файла, агрегации результатов и, собственно, вычисления средного. Временем, затрачиваемым на процедуру разбиения исходного файла можно пренебречь."
   ]
  },
  {
   "cell_type": "code",
   "execution_count": 32,
   "metadata": {},
   "outputs": [],
   "source": [
    "def get_tag_mean_n_steps(tag_sum_count: dict) -> dict:\n",
    "    res_dic = {}\n",
    "    for tag, s_n_c in tag_sum_count.items():\n",
    "        res_dic[tag] = s_n_c['sum'] / s_n_c['count']\n",
    "    return res_dic"
   ]
  },
  {
   "cell_type": "code",
   "execution_count": 33,
   "metadata": {},
   "outputs": [
    {
     "name": "stdout",
     "output_type": "stream",
     "text": [
      "7.608917333275011\n",
      "7.604151738214665\n",
      "7.638492277783778\n",
      "7.621424344052081\n",
      "7.590974808324206\n",
      "7.613617594645108\n",
      "7.563976077181647\n",
      "7.5866308964900515\n",
      "CPU times: total: 0 ns\n",
      "Wall time: 2 ms\n"
     ]
    }
   ],
   "source": [
    "%%time\n",
    "for item in lst_of_dict:\n",
    "    print(get_tag_mean_n_steps(item)[\"30-minutes-or-less\"])"
   ]
  },
  {
   "cell_type": "code",
   "execution_count": 34,
   "metadata": {},
   "outputs": [
    {
     "name": "stdout",
     "output_type": "stream",
     "text": [
      "first function results:\n",
      "file 0: {'sum': 348943, 'count': 45605}\n",
      "file 1: {'sum': 350194, 'count': 46053}\n",
      "file 2: {'sum': 353624, 'count': 46295}\n",
      "file 3: {'sum': 347697, 'count': 45621}\n",
      "file 4: {'sum': 346528, 'count': 45650}\n",
      "file 5: {'sum': 350333, 'count': 46014}\n",
      "file 6: {'sum': 346536, 'count': 45814}\n",
      "file 7: {'sum': 339350, 'count': 44730}\n",
      "\n",
      "aggregation function results: {'sum': 2783205, 'count': 365782}\n",
      "\n",
      "third function results\n",
      "7.608917333275011\n",
      "7.604151738214665\n",
      "7.638492277783778\n",
      "7.621424344052081\n",
      "7.590974808324206\n",
      "7.613617594645108\n",
      "7.563976077181647\n",
      "7.5866308964900515\n",
      "CPU times: total: 47.1 s\n",
      "Wall time: 47.2 s\n"
     ]
    }
   ],
   "source": [
    "%%time\n",
    "lst_of_dict = []\n",
    "print('first function results:')\n",
    "for i in range(8):\n",
    "    filename = f'{path}tag_nsteps_{i}.csv'\n",
    "    dic = get_tag_sum_count_from_file(filename)\n",
    "    lst_of_dict.append(dic)\n",
    "    value = dic['30-minutes-or-less']\n",
    "    print(f'file {i}: {value}')\n",
    "    \n",
    "print()\n",
    "\n",
    "print(f'aggregation function results: {agg_results(lst_of_dict)[\"30-minutes-or-less\"]}')\n",
    "\n",
    "print()\n",
    "\n",
    "print('third function results')\n",
    "for item in lst_of_dict:\n",
    "    print(get_tag_mean_n_steps(item)[\"30-minutes-or-less\"])"
   ]
  },
  {
   "cell_type": "markdown",
   "metadata": {},
   "source": [
    "5\\. Повторите решение задачи 4, распараллелив вызовы функции `get_tag_sum_count_from_file` для различных файлов с помощью `multiprocessing.Pool`. Для обработки каждого файла создайте свой собственный процесс. Выведите на экран результат для тэга \"30-minutes-or-less\". Определите, за какое время задача решается для всех файлов. При замере времени учитывайте время расчета статистики для каждого файла, агрегации результатов и, собственно, вычисления средного. Временем, затрачиваемым на процедуру разбиения исходного файла можно пренебречь."
   ]
  },
  {
   "cell_type": "code",
   "execution_count": 35,
   "metadata": {},
   "outputs": [
    {
     "name": "stdout",
     "output_type": "stream",
     "text": [
      "Overwriting get_tag_sum_count_from_file.py\n"
     ]
    }
   ],
   "source": [
    "%%file get_tag_sum_count_from_file.py\n",
    "import pandas as pd\n",
    "\n",
    "def get_tag_sum_count_from_file(file: str) -> dict:\n",
    "    tags = pd.read_csv(file)\n",
    "    res_df = pd.DataFrame()\n",
    "    res_df['sum'] = tags.groupby('tags').sum()['n_steps']\n",
    "    res_df['count'] = tags.groupby('tags').count()['n_steps']\n",
    "    return res_df.to_dict(orient='index')"
   ]
  },
  {
   "cell_type": "code",
   "execution_count": 36,
   "metadata": {},
   "outputs": [],
   "source": [
    "from get_tag_sum_count_from_file import get_tag_sum_count_from_file"
   ]
  },
  {
   "cell_type": "code",
   "execution_count": 37,
   "metadata": {},
   "outputs": [
    {
     "name": "stdout",
     "output_type": "stream",
     "text": [
      "aggregation function results: {'sum': 2783205, 'count': 365782}\n",
      "\n",
      "third function results\n",
      "7.608917333275011\n",
      "7.604151738214665\n",
      "7.638492277783778\n",
      "7.621424344052081\n",
      "7.590974808324206\n",
      "7.613617594645108\n",
      "7.563976077181647\n",
      "7.5866308964900515\n",
      "\n",
      "CPU times: total: 15.6 ms\n",
      "Wall time: 18 s\n"
     ]
    }
   ],
   "source": [
    "%%time\n",
    "lst_of_dict = []\n",
    "files = []\n",
    "for i in range(8):\n",
    "     files.append(f'{path}tag_nsteps_{i}.csv')\n",
    "with multiprocessing.Pool(processes = 8) as pool:\n",
    "    res = pool.map(get_tag_sum_count_from_file, files)\n",
    "\n",
    "print(f'aggregation function results: {agg_results(res)[\"30-minutes-or-less\"]}')\n",
    "\n",
    "print()\n",
    "\n",
    "print('third function results')\n",
    "for item in res:\n",
    "    print(get_tag_mean_n_steps(item)[\"30-minutes-or-less\"])\n",
    "print()"
   ]
  },
  {
   "cell_type": "markdown",
   "metadata": {},
   "source": [
    "6\\. Повторите решение задачи 4, распараллелив вычисления функции `get_tag_sum_count_from_file` для различных файлов с помощью `multiprocessing.Process`. Для обработки каждого файла создайте свой собственный процесс. Для обмена данными между процессами используйте `multiprocessing.Queue`.\n",
    "\n",
    "Выведите на экран результат для тэга \"30-minutes-or-less\". Определите, за какое время задача решается для всех файлов. При замере времени учитывайте время расчета статистики для каждого файла, агрегации результатов и, собственно, вычисления средного. Временем, затрачиваемым на процедуру разбиения исходного файла можно пренебречь."
   ]
  },
  {
   "cell_type": "code",
   "execution_count": 38,
   "metadata": {},
   "outputs": [
    {
     "name": "stdout",
     "output_type": "stream",
     "text": [
      "Overwriting get_tag_sum_count_from_file_q.py\n"
     ]
    }
   ],
   "source": [
    "%%file get_tag_sum_count_from_file_q.py\n",
    "import pandas as pd\n",
    "\n",
    "def get_tag_sum_count_from_file_q(file, queue):\n",
    "    tags = pd.read_csv(file)\n",
    "    res_df = pd.DataFrame()\n",
    "    res_df['sum'] = tags.groupby('tags').sum()['n_steps']\n",
    "    res_df['count'] = tags.groupby('tags').count()['n_steps']\n",
    "    res_df = res_df.to_dict(orient='index')\n",
    "    print('successfully done')\n",
    "    queue.put(res_df)"
   ]
  },
  {
   "cell_type": "code",
   "execution_count": 39,
   "metadata": {},
   "outputs": [],
   "source": [
    "from get_tag_sum_count_from_file_q import get_tag_sum_count_from_file_q"
   ]
  },
  {
   "cell_type": "code",
   "execution_count": 40,
   "metadata": {},
   "outputs": [
    {
     "data": {
      "text/plain": [
       "['C://Users//icom1//OneDrive - icom//Рабочий стол//TOBD_datasets//tag_nsteps_0.csv',\n",
       " 'C://Users//icom1//OneDrive - icom//Рабочий стол//TOBD_datasets//tag_nsteps_1.csv',\n",
       " 'C://Users//icom1//OneDrive - icom//Рабочий стол//TOBD_datasets//tag_nsteps_2.csv',\n",
       " 'C://Users//icom1//OneDrive - icom//Рабочий стол//TOBD_datasets//tag_nsteps_3.csv',\n",
       " 'C://Users//icom1//OneDrive - icom//Рабочий стол//TOBD_datasets//tag_nsteps_4.csv',\n",
       " 'C://Users//icom1//OneDrive - icom//Рабочий стол//TOBD_datasets//tag_nsteps_5.csv',\n",
       " 'C://Users//icom1//OneDrive - icom//Рабочий стол//TOBD_datasets//tag_nsteps_6.csv',\n",
       " 'C://Users//icom1//OneDrive - icom//Рабочий стол//TOBD_datasets//tag_nsteps_7.csv']"
      ]
     },
     "execution_count": 40,
     "metadata": {},
     "output_type": "execute_result"
    }
   ],
   "source": [
    "files = []\n",
    "for i in range(8):\n",
    "     files.append(f'{path}tag_nsteps_{i}.csv')\n",
    "files"
   ]
  },
  {
   "cell_type": "code",
   "execution_count": 41,
   "metadata": {},
   "outputs": [
    {
     "name": "stdout",
     "output_type": "stream",
     "text": [
      "aggregation function results: {'sum': 2783205, 'count': 365782}\n",
      "\n",
      "third function results\n",
      "7.608917333275011\n",
      "7.613617594645108\n",
      "7.651419800460475\n",
      "7.5866308964900515\n",
      "7.604151738214665\n",
      "7.621424344052081\n",
      "7.638492277783778\n",
      "7.590974808324206\n",
      "\n",
      "CPU times: total: 19.9 s\n",
      "Wall time: 20.5 s\n"
     ]
    }
   ],
   "source": [
    "%%time\n",
    "#not guarantee order\n",
    "processes = []\n",
    "queue = multiprocessing.Queue()\n",
    "\n",
    "#args must be tuple\n",
    "for f in files:\n",
    "    process = multiprocessing.Process(target=get_tag_sum_count_from_file_q, args=(f, queue))\n",
    "    processes.append(process)\n",
    "    process.start()\n",
    "    \n",
    "res = []\n",
    "while len(res) < 8:\n",
    "    if not queue.empty():\n",
    "        res.append(queue.get())\n",
    "    \n",
    "#all processes done     \n",
    "for p in processes:\n",
    "    p.join()\n",
    "    \n",
    "print(f'aggregation function results: {agg_results(res)[\"30-minutes-or-less\"]}')\n",
    "\n",
    "print()\n",
    "\n",
    "print('third function results')\n",
    "for item in res:\n",
    "    print(get_tag_mean_n_steps(item)[\"30-minutes-or-less\"])\n",
    "print()"
   ]
  },
  {
   "cell_type": "markdown",
   "metadata": {},
   "source": [
    "7\\. Исследуйте, как влияет количество запущенных одновременно процессов на скорость решения задачи. Узнайте количество ядер вашего процессора $K$. Повторите решение задачи 1, разбив исходный файл на $\\frac{K}{2}$, $K$ и $2K$ фрагментов. Для каждого из разбиений повторите решение задачи 5. Визуализируйте зависимость времени выполнения кода от количества файлов в разбиении. Сделайте вывод в виде текстового комментария."
   ]
  },
  {
   "cell_type": "code",
   "execution_count": 42,
   "metadata": {},
   "outputs": [
    {
     "name": "stdout",
     "output_type": "stream",
     "text": [
      "INFO: Pandarallel will run on 4 workers.\n",
      "INFO: Pandarallel will use standard multiprocessing data transfer (pipe) to transfer data between the main process and workers.\n",
      "\n",
      "WARNING: You are on Windows. If you detect any issue with pandarallel, be sure you checked out the Troubleshooting page:\n",
      "https://nalepae.github.io/pandarallel/troubleshooting/\n"
     ]
    }
   ],
   "source": [
    "from pandarallel import pandarallel\n",
    "pandarallel.initialize()"
   ]
  },
  {
   "cell_type": "code",
   "execution_count": 43,
   "metadata": {},
   "outputs": [
    {
     "name": "stdout",
     "output_type": "stream",
     "text": [
      "Download successful: C://Users//icom1//OneDrive - icom//Рабочий стол//TOBD_datasets//tag_nsteps_0.csv\n",
      "Download successful: C://Users//icom1//OneDrive - icom//Рабочий стол//TOBD_datasets//tag_nsteps_1.csv\n",
      "Download successful: C://Users//icom1//OneDrive - icom//Рабочий стол//TOBD_datasets//tag_nsteps_2.csv\n",
      "Download successful: C://Users//icom1//OneDrive - icom//Рабочий стол//TOBD_datasets//tag_nsteps_3.csv\n"
     ]
    }
   ],
   "source": [
    "df = pd.read_csv(path+'tag_nsteps.csv', chunksize=71_000_000//4)\n",
    "files_counter = 0\n",
    "\n",
    "for data in df:\n",
    "    data.to_csv(f'{path}tag_nsteps_{files_counter}.csv', header=True, index=False)\n",
    "    print(f'Download successful: {path}tag_nsteps_{files_counter}.csv')\n",
    "    files_counter += 1"
   ]
  },
  {
   "cell_type": "code",
   "execution_count": 44,
   "metadata": {},
   "outputs": [
    {
     "name": "stdout",
     "output_type": "stream",
     "text": [
      "aggregation function results: {'sum': 2783205, 'count': 365782}\n",
      "\n",
      "third function results\n",
      "7.608917333275011\n",
      "7.630020888637452\n",
      "7.602341159015535\n",
      "7.575167874182718\n",
      "\n",
      "CPU times: total: 15.6 ms\n",
      "Wall time: 21.7 s\n"
     ]
    }
   ],
   "source": [
    "%%time\n",
    "lst_of_dict = []\n",
    "files = []\n",
    "for i in range(4):\n",
    "     files.append(f'{path}tag_nsteps_{i}.csv')\n",
    "with multiprocessing.Pool(processes = 4) as pool:\n",
    "    res = pool.map(get_tag_sum_count_from_file, files)\n",
    "\n",
    "print(f'aggregation function results: {agg_results(res)[\"30-minutes-or-less\"]}')\n",
    "\n",
    "print()\n",
    "\n",
    "print('third function results')\n",
    "for item in res:\n",
    "    print(get_tag_mean_n_steps(item)[\"30-minutes-or-less\"])\n",
    "print()"
   ]
  },
  {
   "cell_type": "code",
   "execution_count": 45,
   "metadata": {},
   "outputs": [
    {
     "name": "stdout",
     "output_type": "stream",
     "text": [
      "Download successful: C://Users//icom1//OneDrive - icom//Рабочий стол//TOBD_datasets//tag_nsteps_0.csv\n",
      "Download successful: C://Users//icom1//OneDrive - icom//Рабочий стол//TOBD_datasets//tag_nsteps_1.csv\n"
     ]
    }
   ],
   "source": [
    "df = pd.read_csv(path+'tag_nsteps.csv', chunksize=71_000_000//2)\n",
    "files_counter = 0\n",
    "\n",
    "for data in df:\n",
    "    data.to_csv(f'{path}tag_nsteps_{files_counter}.csv', header=True, index=False)\n",
    "    print(f'Download successful: {path}tag_nsteps_{files_counter}.csv')\n",
    "    files_counter += 1"
   ]
  },
  {
   "cell_type": "code",
   "execution_count": 46,
   "metadata": {},
   "outputs": [
    {
     "name": "stdout",
     "output_type": "stream",
     "text": [
      "aggregation function results: {'sum': 2783205, 'count': 365782}\n",
      "\n",
      "third function results\n",
      "7.608917333275011\n",
      "7.588838031260977\n",
      "\n",
      "CPU times: total: 46.9 ms\n",
      "Wall time: 33.6 s\n"
     ]
    }
   ],
   "source": [
    "%%time\n",
    "lst_of_dict = []\n",
    "files = []\n",
    "for i in range(2):\n",
    "     files.append(f'{path}tag_nsteps_{i}.csv')\n",
    "with multiprocessing.Pool(processes = 4) as pool:\n",
    "    res = pool.map(get_tag_sum_count_from_file, files)\n",
    "\n",
    "print(f'aggregation function results: {agg_results(res)[\"30-minutes-or-less\"]}')\n",
    "\n",
    "print()\n",
    "\n",
    "print('third function results')\n",
    "for item in res:\n",
    "    print(get_tag_mean_n_steps(item)[\"30-minutes-or-less\"])\n",
    "print()"
   ]
  },
  {
   "cell_type": "markdown",
   "metadata": {},
   "source": [
    "У меня уже был эксперимент с 8 файлами, время там составило: 18 s\n",
    "---"
   ]
  },
  {
   "cell_type": "code",
   "execution_count": 15,
   "metadata": {},
   "outputs": [
    {
     "data": {
      "image/png": "[encoded data removed]",
      "text/plain": [
       "<Figure size 500x500 with 1 Axes>"
      ]
     },
     "metadata": {},
     "output_type": "display_data"
    }
   ],
   "source": [
    "import matplotlib.pyplot as plt\n",
    "fig, ax = plt.subplots(1, 1, figsize=(5,5))\n",
    "ax.set_xlabel('time')\n",
    "ax.set_ylabel('number of files')\n",
    "ax.set_title('time dependency of number of processes')\n",
    "ax.set_yticks([2,4,8])\n",
    "ax.set_xticks([34, 22, 18])\n",
    "\n",
    "ax.plot([34, 22, 18], [2,4,8], linewidth=1)\n",
    "None"
   ]
  },
  {
   "cell_type": "markdown",
   "metadata": {},
   "source": [
    "Чем больше разбиений на отдельные файлы, тем быстрее работает функция\n",
    "---"
   ]
  },
  {
   "cell_type": "markdown",
   "metadata": {},
   "source": [
    "8\\. Напишите функцию `parallel_map`, которая принимает на вход серию `s` `pd.Series` и функцию одного аргумента `f` и поэлементно применяет эту функцию к серии, распараллелив вычисления при помощи пакета `multiprocessing`. Логика работы функции `parallel_map` должна включать следующие действия:\n",
    "* разбиение исходной серии на $K$ частей, где $K$ - количество ядер вашего процессора;\n",
    "* параллельное применение функции `f` к каждой части при помощи метода _серии_ `map` при помощи нескольких подпроцессов;\n",
    "* объединение результатов работы подпроцессов в одну серию. "
   ]
  },
  {
   "cell_type": "code",
   "execution_count": 2,
   "metadata": {},
   "outputs": [
    {
     "name": "stdout",
     "output_type": "stream",
     "text": [
      "Overwriting parallel_map.py\n"
     ]
    }
   ],
   "source": [
    "%%file parallel_map.py\n",
    "import multiprocessing\n",
    "import pandas as pd\n",
    "\n",
    "def parallel_map(s: pd.Series, f: callable) -> pd.Series:\n",
    "    with multiprocessing.Pool(processes=8) as pool:\n",
    "        res = pd.Series(pool.map(f, s))\n",
    "    return res"
   ]
  },
  {
   "cell_type": "markdown",
   "metadata": {},
   "source": [
    "9\\. Напишите функцию `f`, которая принимает на вход тэг и проверяет, удовлетворяет ли тэг следующему шаблону: `[любое число]-[любое слово]-or-less`. Возьмите любой фрагмент файла, полученный в задании 1, примените функцию `f` при помощи `parallel_map` к столбцу `tags` и посчитайте количество тэгов, подходящих под этот шаблон. Решите ту же задачу, воспользовавшись методом _серий_ `map`. Сравните время и результат выполнения двух решений."
   ]
  },
  {
   "cell_type": "code",
   "execution_count": 3,
   "metadata": {},
   "outputs": [
    {
     "name": "stdout",
     "output_type": "stream",
     "text": [
      "Writing f.py\n"
     ]
    }
   ],
   "source": [
    "%%file f.py\n",
    "import re\n",
    "\n",
    "def f(tag: str) -> bool:\n",
    "    import re\n",
    "    if type(tag) != str:\n",
    "        return False\n",
    "    else:\n",
    "        pattern = re.compile(r\"[0-9]+-[a-zA-Z]+-or-less\")\n",
    "        return bool(pattern.findall(tag))"
   ]
  },
  {
   "cell_type": "code",
   "execution_count": 4,
   "metadata": {},
   "outputs": [
    {
     "data": {
      "text/html": [
       "<div>\n",
       "<style scoped>\n",
       "    .dataframe tbody tr th:only-of-type {\n",
       "        vertical-align: middle;\n",
       "    }\n",
       "\n",
       "    .dataframe tbody tr th {\n",
       "        vertical-align: top;\n",
       "    }\n",
       "\n",
       "    .dataframe thead th {\n",
       "        text-align: right;\n",
       "    }\n",
       "</style>\n",
       "<table border=\"1\" class=\"dataframe\">\n",
       "  <thead>\n",
       "    <tr style=\"text-align: right;\">\n",
       "      <th></th>\n",
       "      <th>tags</th>\n",
       "      <th>n_steps</th>\n",
       "    </tr>\n",
       "  </thead>\n",
       "  <tbody>\n",
       "    <tr>\n",
       "      <th>0</th>\n",
       "      <td>15-minutes-or-less</td>\n",
       "      <td>3</td>\n",
       "    </tr>\n",
       "    <tr>\n",
       "      <th>1</th>\n",
       "      <td>easter</td>\n",
       "      <td>1</td>\n",
       "    </tr>\n",
       "  </tbody>\n",
       "</table>\n",
       "</div>"
      ],
      "text/plain": [
       "                 tags  n_steps\n",
       "0  15-minutes-or-less        3\n",
       "1              easter        1"
      ]
     },
     "execution_count": 4,
     "metadata": {},
     "output_type": "execute_result"
    }
   ],
   "source": [
    "import pandas as pd\n",
    "path = 'C://Users//icom1//OneDrive - icom//Рабочий стол//TOBD_datasets//'\n",
    "tags = pd.read_csv(path+'tag_nsteps_6.csv')\n",
    "tags.head(2)"
   ]
  },
  {
   "cell_type": "code",
   "execution_count": 5,
   "metadata": {},
   "outputs": [],
   "source": [
    "from parallel_map import parallel_map"
   ]
  },
  {
   "cell_type": "code",
   "execution_count": 6,
   "metadata": {},
   "outputs": [],
   "source": [
    "from f import f"
   ]
  },
  {
   "cell_type": "code",
   "execution_count": 7,
   "metadata": {},
   "outputs": [
    {
     "name": "stdout",
     "output_type": "stream",
     "text": [
      "CPU times: total: 6.48 s\n",
      "Wall time: 9.29 s\n"
     ]
    },
    {
     "data": {
      "text/plain": [
       "0           True\n",
       "1          False\n",
       "2          False\n",
       "3          False\n",
       "4          False\n",
       "           ...  \n",
       "8863530    False\n",
       "8863531    False\n",
       "8863532    False\n",
       "8863533    False\n",
       "8863534    False\n",
       "Length: 8863535, dtype: bool"
      ]
     },
     "execution_count": 7,
     "metadata": {},
     "output_type": "execute_result"
    }
   ],
   "source": [
    "%%time\n",
    "t = tags.tags.dropna()\n",
    "parallel_map(t, f)"
   ]
  },
  {
   "cell_type": "code",
   "execution_count": 5,
   "metadata": {},
   "outputs": [
    {
     "name": "stdout",
     "output_type": "stream",
     "text": [
      "CPU times: total: 10.3 s\n",
      "Wall time: 10.3 s\n"
     ]
    },
    {
     "data": {
      "text/plain": [
       "256338"
      ]
     },
     "execution_count": 5,
     "metadata": {},
     "output_type": "execute_result"
    }
   ],
   "source": [
    "%%time\n",
    "tags[tags.tags.map(f)].tags.count()"
   ]
  },
  {
   "cell_type": "markdown",
   "metadata": {},
   "source": [
    "10\\. Используя пакет `pandarallel`, примените функцию `f` из задания 9 к столбцу `tags` таблицы, с которой вы работали этом задании. Посчитайте количество тэгов, подходящих под описанный шаблон. Измерьте время выполнения кода. Выведите на экран полученный результат."
   ]
  },
  {
   "cell_type": "code",
   "execution_count": 13,
   "metadata": {},
   "outputs": [
    {
     "name": "stdout",
     "output_type": "stream",
     "text": [
      "CPU times: total: 844 ms\n",
      "Wall time: 6.67 s\n"
     ]
    },
    {
     "data": {
      "text/plain": [
       "256338"
      ]
     },
     "execution_count": 13,
     "metadata": {},
     "output_type": "execute_result"
    }
   ],
   "source": [
    "%%time\n",
    "from pandarallel import pandarallel\n",
    "tags[tags.tags.parallel_map(f)].tags.count()"
   ]
  },
  {
   "cell_type": "code",
   "execution_count": null,
   "metadata": {},
   "outputs": [],
   "source": []
  }
 ],
 "metadata": {
  "kernelspec": {
   "display_name": "Python 3 (ipykernel)",
   "language": "python",
   "name": "python3"
  },
  "language_info": {
   "codemirror_mode": {
    "name": "ipython",
    "version": 3
   },
   "file_extension": ".py",
   "mimetype": "text/x-python",
   "name": "python",
   "nbconvert_exporter": "python",
   "pygments_lexer": "ipython3",
   "version": "3.10.7"
  }
 },
 "nbformat": 4,
 "nbformat_minor": 4
}
